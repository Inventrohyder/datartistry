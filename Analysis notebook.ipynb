{
  "nbformat": 4,
  "nbformat_minor": 0,
  "metadata": {
    "kernelspec": {
      "display_name": "Python 3",
      "language": "python",
      "name": "python3"
    },
    "language_info": {
      "codemirror_mode": {
        "name": "ipython",
        "version": 3
      },
      "file_extension": ".py",
      "mimetype": "text/x-python",
      "name": "python",
      "nbconvert_exporter": "python",
      "pygments_lexer": "ipython3",
      "version": "3.7.3"
    },
    "varInspector": {
      "cols": {
        "lenName": 16,
        "lenType": 16,
        "lenVar": 40
      },
      "kernels_config": {
        "python": {
          "delete_cmd_postfix": "",
          "delete_cmd_prefix": "del ",
          "library": "var_list.py",
          "varRefreshCmd": "print(var_dic_list())"
        },
        "r": {
          "delete_cmd_postfix": ") ",
          "delete_cmd_prefix": "rm(",
          "library": "var_list.r",
          "varRefreshCmd": "cat(var_dic_list()) "
        }
      },
      "types_to_exclude": [
        "module",
        "function",
        "builtin_function_or_method",
        "instance",
        "_Feature"
      ],
      "window_display": false
    },
    "colab": {
      "name": "testing notebook.ipynb",
      "provenance": [],
      "toc_visible": true
    }
  },
  "cells": [
    {
      "cell_type": "markdown",
      "metadata": {
        "id": "9QxCo2O3QuFf",
        "colab_type": "text"
      },
      "source": [
        "# Analysis of Resume data"
      ]
    },
    {
      "cell_type": "markdown",
      "metadata": {
        "id": "k4FWiy7OLU2V",
        "colab_type": "text"
      },
      "source": [
        "## Setup Google colab"
      ]
    },
    {
      "cell_type": "code",
      "metadata": {
        "id": "1C0DV42TJGX0",
        "colab_type": "code",
        "colab": {
          "base_uri": "https://localhost:8080/",
          "height": 153
        },
        "outputId": "5ae89c5f-08f1-425d-a7d6-0d4ade5a42cf"
      },
      "source": [
        "!bash setup.sh"
      ],
      "execution_count": 1,
      "outputs": [
        {
          "output_type": "stream",
          "text": [
            "Cloning into 'datartistry'...\n",
            "remote: Enumerating objects: 988, done.\u001b[K\n",
            "remote: Counting objects:   0% (1/988)\u001b[K\rremote: Counting objects:   1% (10/988)\u001b[K\rremote: Counting objects:   2% (20/988)\u001b[K\rremote: Counting objects:   3% (30/988)\u001b[K\rremote: Counting objects:   4% (40/988)\u001b[K\rremote: Counting objects:   5% (50/988)\u001b[K\rremote: Counting objects:   6% (60/988)\u001b[K\rremote: Counting objects:   7% (70/988)\u001b[K\rremote: Counting objects:   8% (80/988)\u001b[K\rremote: Counting objects:   9% (89/988)\u001b[K\rremote: Counting objects:  10% (99/988)\u001b[K\rremote: Counting objects:  11% (109/988)\u001b[K\rremote: Counting objects:  12% (119/988)\u001b[K\rremote: Counting objects:  13% (129/988)\u001b[K\rremote: Counting objects:  14% (139/988)\u001b[K\rremote: Counting objects:  15% (149/988)\u001b[K\rremote: Counting objects:  16% (159/988)\u001b[K\rremote: Counting objects:  17% (168/988)\u001b[K\rremote: Counting objects:  18% (178/988)\u001b[K\rremote: Counting objects:  19% (188/988)\u001b[K\rremote: Counting objects:  20% (198/988)\u001b[K\rremote: Counting objects:  21% (208/988)\u001b[K\rremote: Counting objects:  22% (218/988)\u001b[K\rremote: Counting objects:  23% (228/988)\u001b[K\rremote: Counting objects:  24% (238/988)\u001b[K\rremote: Counting objects:  25% (247/988)\u001b[K\rremote: Counting objects:  26% (257/988)\u001b[K\rremote: Counting objects:  27% (267/988)\u001b[K\rremote: Counting objects:  28% (277/988)\u001b[K\rremote: Counting objects:  29% (287/988)\u001b[K\rremote: Counting objects:  30% (297/988)\u001b[K\rremote: Counting objects:  31% (307/988)\u001b[K\rremote: Counting objects:  32% (317/988)\u001b[K\rremote: Counting objects:  33% (327/988)\u001b[K\rremote: Counting objects:  34% (336/988)\u001b[K\rremote: Counting objects:  35% (346/988)\u001b[K\rremote: Counting objects:  36% (356/988)\u001b[K\rremote: Counting objects:  37% (366/988)\u001b[K\rremote: Counting objects:  38% (376/988)\u001b[K\rremote: Counting objects:  39% (386/988)\u001b[K\rremote: Counting objects:  40% (396/988)\u001b[K\rremote: Counting objects:  41% (406/988)\u001b[K\rremote: Counting objects:  42% (415/988)\u001b[K\rremote: Counting objects:  43% (425/988)\u001b[K\rremote: Counting objects:  44% (435/988)\u001b[K\rremote: Counting objects:  45% (445/988)\u001b[K\rremote: Counting objects:  46% (455/988)\u001b[K\rremote: Counting objects:  47% (465/988)\u001b[K\rremote: Counting objects:  48% (475/988)\u001b[K\rremote: Counting objects:  49% (485/988)\u001b[K\rremote: Counting objects:  50% (494/988)\u001b[K\rremote: Counting objects:  51% (504/988)\u001b[K\rremote: Counting objects:  52% (514/988)\u001b[K\rremote: Counting objects:  53% (524/988)\u001b[K\rremote: Counting objects:  54% (534/988)\u001b[K\rremote: Counting objects:  55% (544/988)\u001b[K\rremote: Counting objects:  56% (554/988)\u001b[K\rremote: Counting objects:  57% (564/988)\u001b[K\rremote: Counting objects:  58% (574/988)\u001b[K\rremote: Counting objects:  59% (583/988)\u001b[K\rremote: Counting objects:  60% (593/988)\u001b[K\rremote: Counting objects:  61% (603/988)\u001b[K\rremote: Counting objects:  62% (613/988)\u001b[K\rremote: Counting objects:  63% (623/988)\u001b[K\rremote: Counting objects:  64% (633/988)\u001b[K\rremote: Counting objects:  65% (643/988)\u001b[K\rremote: Counting objects:  66% (653/988)\u001b[K\rremote: Counting objects:  67% (662/988)\u001b[K\rremote: Counting objects:  68% (672/988)\u001b[K\rremote: Counting objects:  69% (682/988)\u001b[K\rremote: Counting objects:  70% (692/988)\u001b[K\rremote: Counting objects:  71% (702/988)\u001b[K\rremote: Counting objects:  72% (712/988)\u001b[K\rremote: Counting objects:  73% (722/988)\u001b[K\rremote: Counting objects:  74% (732/988)\u001b[K\rremote: Counting objects:  75% (741/988)\u001b[K\rremote: Counting objects:  76% (751/988)\u001b[K\rremote: Counting objects:  77% (761/988)\u001b[K\rremote: Counting objects:  78% (771/988)\u001b[K\rremote: Counting objects:  79% (781/988)\u001b[K\rremote: Counting objects:  80% (791/988)\u001b[K\rremote: Counting objects:  81% (801/988)\u001b[K\rremote: Counting objects:  82% (811/988)\u001b[K\rremote: Counting objects:  83% (821/988)\u001b[K\rremote: Counting objects:  84% (830/988)\u001b[K\rremote: Counting objects:  85% (840/988)\u001b[K\rremote: Counting objects:  86% (850/988)\u001b[K\rremote: Counting objects:  87% (860/988)\u001b[K\rremote: Counting objects:  88% (870/988)\u001b[K\rremote: Counting objects:  89% (880/988)\u001b[K\rremote: Counting objects:  90% (890/988)\u001b[K\rremote: Counting objects:  91% (900/988)\u001b[K\rremote: Counting objects:  92% (909/988)\u001b[K\rremote: Counting objects:  93% (919/988)\u001b[K\rremote: Counting objects:  94% (929/988)\u001b[K\rremote: Counting objects:  95% (939/988)\u001b[K\rremote: Counting objects:  96% (949/988)\u001b[K\rremote: Counting objects:  97% (959/988)\u001b[K\rremote: Counting objects:  98% (969/988)\u001b[K\rremote: Counting objects:  99% (979/988)\u001b[K\rremote: Counting objects: 100% (988/988)\u001b[K\rremote: Counting objects: 100% (988/988), done.\u001b[K\n",
            "remote: Compressing objects: 100% (966/966), done.\u001b[K\n",
            "remote: Total 3613 (delta 23), reused 963 (delta 12), pack-reused 2625\u001b[K\n",
            "Receiving objects: 100% (3613/3613), 350.96 MiB | 28.19 MiB/s, done.\n",
            "Resolving deltas: 100% (484/484), done.\n",
            "Checking out files: 100% (4075/4075), done.\n"
          ],
          "name": "stdout"
        }
      ]
    },
    {
      "cell_type": "code",
      "metadata": {
        "id": "hyBqNRZvJJXE",
        "colab_type": "code",
        "colab": {
          "base_uri": "https://localhost:8080/",
          "height": 34
        },
        "outputId": "1a9d48d1-97e3-4bde-e82c-24b95a2a66df"
      },
      "source": [
        "%cd datartistry"
      ],
      "execution_count": 2,
      "outputs": [
        {
          "output_type": "stream",
          "text": [
            "/content/datartistry\n"
          ],
          "name": "stdout"
        }
      ]
    },
    {
      "cell_type": "code",
      "metadata": {
        "id": "dbfFcm2XJUSW",
        "colab_type": "code",
        "colab": {
          "base_uri": "https://localhost:8080/",
          "height": 207
        },
        "outputId": "f16d97d3-7c58-4c9e-99ae-1c15c10a6c54"
      },
      "source": [
        "!git checkout -b modeling\n",
        "!git push -u origin modeling"
      ],
      "execution_count": 3,
      "outputs": [
        {
          "output_type": "stream",
          "text": [
            "Switched to a new branch 'modeling'\n",
            "Warning: Permanently added the RSA host key for IP address '192.30.255.112' to the list of known hosts.\n",
            "Total 0 (delta 0), reused 0 (delta 0)\n",
            "remote: \n",
            "remote: Create a pull request for 'modeling' on GitHub by visiting:\u001b[K\n",
            "remote:      https://github.com/Inventrohyder/datartistry/pull/new/modeling\u001b[K\n",
            "remote: \n",
            "To github.com:Inventrohyder/datartistry.git\n",
            " * [new branch]      modeling -> modeling\n",
            "Branch 'modeling' set up to track remote branch 'modeling' from 'origin'.\n"
          ],
          "name": "stdout"
        }
      ]
    },
    {
      "cell_type": "markdown",
      "metadata": {
        "id": "YKGOwY8ELZZq",
        "colab_type": "text"
      },
      "source": [
        "## Begin Analysis"
      ]
    },
    {
      "cell_type": "code",
      "metadata": {
        "id": "0eX9F7SkRaMF",
        "colab_type": "code",
        "colab": {}
      },
      "source": [
        "import os\n",
        "import pandas as pd"
      ],
      "execution_count": 4,
      "outputs": []
    },
    {
      "cell_type": "code",
      "metadata": {
        "id": "zVTu4B20Rhz5",
        "colab_type": "code",
        "colab": {
          "base_uri": "https://localhost:8080/",
          "height": 289
        },
        "outputId": "8c532c91-cfd7-4eb7-8a06-407a840dd95b"
      },
      "source": [
        "# list all txt files\n",
        "path = '/content/datartistry/ResumeParser/data/output/'\n",
        "\n",
        "files = []       # Store the file paths\n",
        "categories = []  # Store the job category of each file\n",
        "text = []        # Store the actual text data\n",
        "num_words = []   # Count the number of words in each file\n",
        "\n",
        "# r=root, d=directories, f = files\n",
        "for r, d, f in os.walk(path):\n",
        "    for file in f:\n",
        "        if '.txt' in file:\n",
        "          file_path = os.path.join(r, file)\n",
        "          files.append(file_path)\n",
        "\n",
        "          category = file.split('-')[0]\n",
        "          categories.append(category)\n",
        "\n",
        "          with open(file_path) as text_file:\n",
        "            data = text_file.read()\n",
        "            text.append(data)\n",
        "            words = data.split()\n",
        "            num_words.append(len(words))\n",
        "\n",
        "df = pd.DataFrame(\n",
        "    {\n",
        "     \"category\": categories, \n",
        "     \"file_path\": files, \n",
        "     \"len_words\": num_words,\n",
        "     \"text\": text\n",
        "     }\n",
        ")\n",
        "df.head()"
      ],
      "execution_count": 5,
      "outputs": [
        {
          "output_type": "execute_result",
          "data": {
            "text/html": [
              "<div>\n",
              "<style scoped>\n",
              "    .dataframe tbody tr th:only-of-type {\n",
              "        vertical-align: middle;\n",
              "    }\n",
              "\n",
              "    .dataframe tbody tr th {\n",
              "        vertical-align: top;\n",
              "    }\n",
              "\n",
              "    .dataframe thead th {\n",
              "        text-align: right;\n",
              "    }\n",
              "</style>\n",
              "<table border=\"1\" class=\"dataframe\">\n",
              "  <thead>\n",
              "    <tr style=\"text-align: right;\">\n",
              "      <th></th>\n",
              "      <th>category</th>\n",
              "      <th>file_path</th>\n",
              "      <th>len_words</th>\n",
              "      <th>text</th>\n",
              "    </tr>\n",
              "  </thead>\n",
              "  <tbody>\n",
              "    <tr>\n",
              "      <th>0</th>\n",
              "      <td>fund_accounting</td>\n",
              "      <td>/content/datartistry/ResumeParser/data/output/...</td>\n",
              "      <td>679</td>\n",
              "      <td>QIAN BOWEN\\n\\nMobile: + 65 9060 7342\\n\\nEmail:...</td>\n",
              "    </tr>\n",
              "    <tr>\n",
              "      <th>1</th>\n",
              "      <td>fund_accounting</td>\n",
              "      <td>/content/datartistry/ResumeParser/data/output/...</td>\n",
              "      <td>871</td>\n",
              "      <td>Dina V. Nagao \\n\\n    E: DinaVNagao@gmail.com ...</td>\n",
              "    </tr>\n",
              "    <tr>\n",
              "      <th>2</th>\n",
              "      <td>corporate_secretary</td>\n",
              "      <td>/content/datartistry/ResumeParser/data/output/...</td>\n",
              "      <td>710</td>\n",
              "      <td>\\n\\n \\n \\nEXPERIENCE \\n\\n \\n\\n \\n\\n \\n\\n \\n\\n...</td>\n",
              "    </tr>\n",
              "    <tr>\n",
              "      <th>3</th>\n",
              "      <td>sales</td>\n",
              "      <td>/content/datartistry/ResumeParser/data/output/...</td>\n",
              "      <td>559</td>\n",
              "      <td>\\n\\n \\n\\n \\n\\n \\n\\n \\n\\n \\n\\n \\n\\n \\n\\nYee Ch...</td>\n",
              "    </tr>\n",
              "    <tr>\n",
              "      <th>4</th>\n",
              "      <td>sales</td>\n",
              "      <td>/content/datartistry/ResumeParser/data/output/...</td>\n",
              "      <td>501</td>\n",
              "      <td>Terence Neo\\n\\nSingaporean Chinese, born 1985\\...</td>\n",
              "    </tr>\n",
              "  </tbody>\n",
              "</table>\n",
              "</div>"
            ],
            "text/plain": [
              "              category  ...                                               text\n",
              "0      fund_accounting  ...  QIAN BOWEN\\n\\nMobile: + 65 9060 7342\\n\\nEmail:...\n",
              "1      fund_accounting  ...  Dina V. Nagao \\n\\n    E: DinaVNagao@gmail.com ...\n",
              "2  corporate_secretary  ...   \\n\\n \\n \\nEXPERIENCE \\n\\n \\n\\n \\n\\n \\n\\n \\n\\n...\n",
              "3                sales  ...   \\n\\n \\n\\n \\n\\n \\n\\n \\n\\n \\n\\n \\n\\n \\n\\nYee Ch...\n",
              "4                sales  ...  Terence Neo\\n\\nSingaporean Chinese, born 1985\\...\n",
              "\n",
              "[5 rows x 4 columns]"
            ]
          },
          "metadata": {
            "tags": []
          },
          "execution_count": 5
        }
      ]
    },
    {
      "cell_type": "code",
      "metadata": {
        "id": "xBzsw7YbLJxI",
        "colab_type": "code",
        "colab": {
          "base_uri": "https://localhost:8080/",
          "height": 372
        },
        "outputId": "6d89872b-a5a7-417e-d588-9fa09cc29066"
      },
      "source": [
        "# Counts of job categories\n",
        "df['category'].value_counts().plot(kind='bar')"
      ],
      "execution_count": 6,
      "outputs": [
        {
          "output_type": "execute_result",
          "data": {
            "text/plain": [
              "<matplotlib.axes._subplots.AxesSubplot at 0x7f3e86d71cc0>"
            ]
          },
          "metadata": {
            "tags": []
          },
          "execution_count": 6
        },
        {
          "output_type": "display_data",
          "data": {
            "image/png": "[encoded data removed]",
            "text/plain": [
              "<Figure size 432x288 with 1 Axes>"
            ]
          },
          "metadata": {
            "tags": [],
            "needs_background": "light"
          }
        }
      ]
    },
    {
      "cell_type": "code",
      "metadata": {
        "id": "Uf3iPS5hX0qc",
        "colab_type": "code",
        "colab": {
          "base_uri": "https://localhost:8080/",
          "height": 238
        },
        "outputId": "d316ac8b-a686-46c4-8a37-279d2c0bbdcd"
      },
      "source": [
        "df['category'].value_counts()"
      ],
      "execution_count": 32,
      "outputs": [
        {
          "output_type": "execute_result",
          "data": {
            "text/plain": [
              "fund_accounting        404\n",
              "finance                163\n",
              "investment_analyst     123\n",
              "sales                   77\n",
              "corporate_secretary     66\n",
              "legal                   26\n",
              "trustee                 24\n",
              "compliance              21\n",
              "admin                   16\n",
              "secretary                9\n",
              "human_resource           6\n",
              "software_developer       1\n",
              "Name: category, dtype: int64"
            ]
          },
          "metadata": {
            "tags": []
          },
          "execution_count": 32
        }
      ]
    },
    {
      "cell_type": "code",
      "metadata": {
        "id": "rcqWWXdaa7cF",
        "colab_type": "code",
        "colab": {
          "base_uri": "https://localhost:8080/",
          "height": 282
        },
        "outputId": "68ee1834-5056-4be2-f9d1-98c01953aa0b"
      },
      "source": [
        "# Histogram of the length of a resume\n",
        "df['len_words'].hist()"
      ],
      "execution_count": 7,
      "outputs": [
        {
          "output_type": "execute_result",
          "data": {
            "text/plain": [
              "<matplotlib.axes._subplots.AxesSubplot at 0x7f3e86ccf278>"
            ]
          },
          "metadata": {
            "tags": []
          },
          "execution_count": 7
        },
        {
          "output_type": "display_data",
          "data": {
            "image/png": "[encoded data removed]",
            "text/plain": [
              "<Figure size 432x288 with 1 Axes>"
            ]
          },
          "metadata": {
            "tags": [],
            "needs_background": "light"
          }
        }
      ]
    },
    {
      "cell_type": "code",
      "metadata": {
        "id": "SMRXGf4ZbqpM",
        "colab_type": "code",
        "colab": {
          "base_uri": "https://localhost:8080/",
          "height": 297
        },
        "outputId": "5821f0f7-22d9-492b-9f5a-50ca2207be0f"
      },
      "source": [
        "# Descriptive stats of the length of a resume\n",
        "df.describe()"
      ],
      "execution_count": 8,
      "outputs": [
        {
          "output_type": "execute_result",
          "data": {
            "text/html": [
              "<div>\n",
              "<style scoped>\n",
              "    .dataframe tbody tr th:only-of-type {\n",
              "        vertical-align: middle;\n",
              "    }\n",
              "\n",
              "    .dataframe tbody tr th {\n",
              "        vertical-align: top;\n",
              "    }\n",
              "\n",
              "    .dataframe thead th {\n",
              "        text-align: right;\n",
              "    }\n",
              "</style>\n",
              "<table border=\"1\" class=\"dataframe\">\n",
              "  <thead>\n",
              "    <tr style=\"text-align: right;\">\n",
              "      <th></th>\n",
              "      <th>len_words</th>\n",
              "    </tr>\n",
              "  </thead>\n",
              "  <tbody>\n",
              "    <tr>\n",
              "      <th>count</th>\n",
              "      <td>936.000000</td>\n",
              "    </tr>\n",
              "    <tr>\n",
              "      <th>mean</th>\n",
              "      <td>669.694444</td>\n",
              "    </tr>\n",
              "    <tr>\n",
              "      <th>std</th>\n",
              "      <td>371.604376</td>\n",
              "    </tr>\n",
              "    <tr>\n",
              "      <th>min</th>\n",
              "      <td>0.000000</td>\n",
              "    </tr>\n",
              "    <tr>\n",
              "      <th>25%</th>\n",
              "      <td>437.750000</td>\n",
              "    </tr>\n",
              "    <tr>\n",
              "      <th>50%</th>\n",
              "      <td>574.000000</td>\n",
              "    </tr>\n",
              "    <tr>\n",
              "      <th>75%</th>\n",
              "      <td>781.000000</td>\n",
              "    </tr>\n",
              "    <tr>\n",
              "      <th>max</th>\n",
              "      <td>3071.000000</td>\n",
              "    </tr>\n",
              "  </tbody>\n",
              "</table>\n",
              "</div>"
            ],
            "text/plain": [
              "         len_words\n",
              "count   936.000000\n",
              "mean    669.694444\n",
              "std     371.604376\n",
              "min       0.000000\n",
              "25%     437.750000\n",
              "50%     574.000000\n",
              "75%     781.000000\n",
              "max    3071.000000"
            ]
          },
          "metadata": {
            "tags": []
          },
          "execution_count": 8
        }
      ]
    },
    {
      "cell_type": "code",
      "metadata": {
        "id": "d3a-SHs9b6ch",
        "colab_type": "code",
        "colab": {
          "base_uri": "https://localhost:8080/",
          "height": 208
        },
        "outputId": "7fc68fda-6c6b-4d41-fd60-136d8f28d9de"
      },
      "source": [
        "df['text'][0]"
      ],
      "execution_count": 9,
      "outputs": [
        {
          "output_type": "execute_result",
          "data": {
            "application/vnd.google.colaboratory.intrinsic": {
              "type": "string"
            },
            "text/plain": [
              "'QIAN BOWEN\\n\\nMobile: + 65 9060 7342\\n\\nEmail: qianbowen@yahoo.com\\n\\nSUMMARY\\n\\n\\uf0b7\\n\\nSenior Manager with the Financial Services Assurance in PricewaterhouseCoopers\\nLLP , Singapore (PwC)\\n\\n\\uf0b7 Over 11 years of experience with PwC, providing assurance services to clients in a wide\\n\\nrange of industries with focus on asset and wealth management industry\\n\\n\\uf0b7 Proficient in leading engagement teams in the design of effective walk-through and\\nreview of financial and operational internal controls across a spectrum of the fund\\nmanagement company’s business activities, such as Portfolio management and trade\\nexecution, Pricing and valuation, Client administration and reporting, and Fund\\naccounting.\\n\\n\\uf0b7 Excellent in client relationship management and project management with an audit\\n\\nportfolio comprising 8-12 clients and over $1 million annual audit fee revenue\\n\\n\\uf0b7 Good knowledge in asset management rules and regulations in Singapore ，\\nexperience in MAS/CPFIS/CCIS compliance review for licensed and registered fund\\nmanagement companies and unit trusts\\n\\n\\uf0b7\\n\\nSelected as a high performer from PwC Singapore to be seconded to PwC Channel\\nIslands, UK as an audit manager from December 2013 to May 2015, working\\nprimarily on private equity related assurance work\\n\\n\\uf0b7 Double promoted from Associate 1 to Senior Associate 1 in PwC Singapore\\n\\uf0b7 Fellow member of the Association of Chartered Certified Accountants (ACCA),\\nMember of Institute of Singapore Chartered Accountants (CA Singapore) and\\nCertified Financial Risk Manager (FRM, GARP)\\n\\n1\\n\\n\\x0cWORK EXPERIENCE\\n\\nJuly 2010 -\\nPresent\\n\\nFinancial Services Assurance, PricewaterhouseCoopers LLP\\n(seconded to PwC Channel Islands from December 2013 to May 2015)\\n\\uf06c\\n\\nLead audit teams, develop risk-based audit plans, review internal\\ncontrol procedures, assess control environment, audit\\nfinancial\\nstatements for financial service clients including fund management\\ncompanies, private equities, exchange traded funds, hedge funds and\\nunit trusts\\n\\n\\uf06c Manage audit resource and budget, ensure quality deliverables and\\n\\nmeet the reporting deadlines\\n\\n\\uf06c Identify internal control/compliance issues during the audit, prepare\\naudit finding reports and make recommendations to the management\\n\\n\\uf06c Perform regulatory\\n\\nfund management\\ncompanies (CMS license holders, CPF Investment Schemes and Code\\nof Collective Investment Schemes)\\n\\ncompliance\\n\\naudit\\n\\nfor\\n\\n\\uf06c Initiate and maintain regular communication with key management\\n\\nand other stakeholders (e.g. Audit Committee)\\n\\n\\uf06c Draft internal guidance for audit methodology and risk management\\n\\npolicies\\n\\n\\uf06c Coach and conduct performance appraisals for junior staff\\n\\n\\uf06c Develop training materials for internal Learning and Development\\nand conduct training courses for audit staff in the audit methodology\\nfor fund Management companies, unit trusts and private equity audits\\n\\n\\uf06c Interview and recruit junior audit staff\\n\\nDecember 2013 - PricewaterhouseCoopers, Channel Islands, UK\\n\\nMay 2015\\n\\n(18 months secondment)\\n\\n\\uf06c Lead and managed a team of 3 to 8 members for various audit\\nengagements of different types of Private Equity funds, such as direct\\ninvestment, fund of funds, venture capital, mezzanine debts, real\\nestate\\n\\n\\uf06c Reviewed financial statements prepared under IFRS/US GAAP/LPA\\n\\n\\uf06c Assessed management fee/carried interest calculation and waterfall/\\n\\ninvestor allocations\\n\\n2\\n\\n\\x0cJune 2005 -\\n\\nGeneral Assurance, PricewaterhouseCoopers LLP\\n\\nJune 2010\\n\\n\\uf06c\\n\\nPlanned and executed risk-based audit fieldwork for a wide range of\\nclients\\ntrading,\\nshipping, hospitality, real estates, retail\\n\\nindustries, e.g. manufacturing,\\n\\nfrom different\\n\\n\\uf06c Reviewed financial statements, drafted audit finding reports and\\n\\ncommunicated to management\\n\\nMay 2004-\\n\\nInternship, C Y Ng & Co\\n\\nJune 2004\\n\\n\\uf06c Assisted audit seniors to complete the audit assignments\\n\\uf06c Received overall grade of A for the internship\\n\\nQUALIFICATION / CERTIFICATION\\n\\n2010\\n\\nChartered Certified Accountant (ACCA)\\n\\nThe Association of Chartered Certified Accountants, UK\\n\\n(Placed No. 7 0f the Top 30 ACCA Affiliates in Final Module, Singapore)\\n\\n2015\\n\\nChartered Accountant of Singapore (CA Singapore)\\n\\nInstitute of Singapore Chartered Accountants\\n\\n2016\\n\\nCertified Financial Risk Manager (FRM®)\\n\\nGlobal Association of Risk Professionals (GARP)\\n\\nCapital Markets and Financial Advisory Services (CMFAS)\\nExaminations\\n\\nModule 1A - Rules and Regulations for Dealing in Securities (2013)\\n\\nModule 3 - Rules & Regulations for Fund Management (2016)\\n\\n3\\n\\n\\x0cEDUCATION\\n\\n2008\\n\\nOxford Brookes University\\n\\nBachelor of Science (First Class Honours) in Applied Accounting\\n\\n2005\\n\\nSingapore Polytechnic\\n\\nDiploma in Accountancy\\n\\n(Placed on School Honour Roll for 5 out of 6 semesters)\\n\\nLANGUAGE\\n\\nEnglish and Chinese (Spoken and Written)\\n\\nSKILLS\\n\\nMicrosoft office (Word, Excel and PowerPoint)\\n\\nREFERENCES\\n\\nAvailable upon request\\n\\n4\\n\\n\\x0c'"
            ]
          },
          "metadata": {
            "tags": []
          },
          "execution_count": 9
        }
      ]
    },
    {
      "cell_type": "code",
      "metadata": {
        "id": "bFoIN7eHLti_",
        "colab_type": "code",
        "colab": {
          "base_uri": "https://localhost:8080/",
          "height": 1000
        },
        "outputId": "57ec66fd-1e2a-4a25-9221-32290a163c10"
      },
      "source": [
        "print(df['text'][0])"
      ],
      "execution_count": 10,
      "outputs": [
        {
          "output_type": "stream",
          "text": [
            "QIAN BOWEN\n",
            "\n",
            "Mobile: + 65 9060 7342\n",
            "\n",
            "Email: qianbowen@yahoo.com\n",
            "\n",
            "SUMMARY\n",
            "\n",
            "\n",
            "\n",
            "Senior Manager with the Financial Services Assurance in PricewaterhouseCoopers\n",
            "LLP , Singapore (PwC)\n",
            "\n",
            " Over 11 years of experience with PwC, providing assurance services to clients in a wide\n",
            "\n",
            "range of industries with focus on asset and wealth management industry\n",
            "\n",
            " Proficient in leading engagement teams in the design of effective walk-through and\n",
            "review of financial and operational internal controls across a spectrum of the fund\n",
            "management company’s business activities, such as Portfolio management and trade\n",
            "execution, Pricing and valuation, Client administration and reporting, and Fund\n",
            "accounting.\n",
            "\n",
            " Excellent in client relationship management and project management with an audit\n",
            "\n",
            "portfolio comprising 8-12 clients and over $1 million annual audit fee revenue\n",
            "\n",
            " Good knowledge in asset management rules and regulations in Singapore ，\n",
            "experience in MAS/CPFIS/CCIS compliance review for licensed and registered fund\n",
            "management companies and unit trusts\n",
            "\n",
            "\n",
            "\n",
            "Selected as a high performer from PwC Singapore to be seconded to PwC Channel\n",
            "Islands, UK as an audit manager from December 2013 to May 2015, working\n",
            "primarily on private equity related assurance work\n",
            "\n",
            " Double promoted from Associate 1 to Senior Associate 1 in PwC Singapore\n",
            " Fellow member of the Association of Chartered Certified Accountants (ACCA),\n",
            "Member of Institute of Singapore Chartered Accountants (CA Singapore) and\n",
            "Certified Financial Risk Manager (FRM, GARP)\n",
            "\n",
            "1\n",
            "\n",
            "\fWORK EXPERIENCE\n",
            "\n",
            "July 2010 -\n",
            "Present\n",
            "\n",
            "Financial Services Assurance, PricewaterhouseCoopers LLP\n",
            "(seconded to PwC Channel Islands from December 2013 to May 2015)\n",
            "\n",
            "\n",
            "Lead audit teams, develop risk-based audit plans, review internal\n",
            "control procedures, assess control environment, audit\n",
            "financial\n",
            "statements for financial service clients including fund management\n",
            "companies, private equities, exchange traded funds, hedge funds and\n",
            "unit trusts\n",
            "\n",
            " Manage audit resource and budget, ensure quality deliverables and\n",
            "\n",
            "meet the reporting deadlines\n",
            "\n",
            " Identify internal control/compliance issues during the audit, prepare\n",
            "audit finding reports and make recommendations to the management\n",
            "\n",
            " Perform regulatory\n",
            "\n",
            "fund management\n",
            "companies (CMS license holders, CPF Investment Schemes and Code\n",
            "of Collective Investment Schemes)\n",
            "\n",
            "compliance\n",
            "\n",
            "audit\n",
            "\n",
            "for\n",
            "\n",
            " Initiate and maintain regular communication with key management\n",
            "\n",
            "and other stakeholders (e.g. Audit Committee)\n",
            "\n",
            " Draft internal guidance for audit methodology and risk management\n",
            "\n",
            "policies\n",
            "\n",
            " Coach and conduct performance appraisals for junior staff\n",
            "\n",
            " Develop training materials for internal Learning and Development\n",
            "and conduct training courses for audit staff in the audit methodology\n",
            "for fund Management companies, unit trusts and private equity audits\n",
            "\n",
            " Interview and recruit junior audit staff\n",
            "\n",
            "December 2013 - PricewaterhouseCoopers, Channel Islands, UK\n",
            "\n",
            "May 2015\n",
            "\n",
            "(18 months secondment)\n",
            "\n",
            " Lead and managed a team of 3 to 8 members for various audit\n",
            "engagements of different types of Private Equity funds, such as direct\n",
            "investment, fund of funds, venture capital, mezzanine debts, real\n",
            "estate\n",
            "\n",
            " Reviewed financial statements prepared under IFRS/US GAAP/LPA\n",
            "\n",
            " Assessed management fee/carried interest calculation and waterfall/\n",
            "\n",
            "investor allocations\n",
            "\n",
            "2\n",
            "\n",
            "\fJune 2005 -\n",
            "\n",
            "General Assurance, PricewaterhouseCoopers LLP\n",
            "\n",
            "June 2010\n",
            "\n",
            "\n",
            "\n",
            "Planned and executed risk-based audit fieldwork for a wide range of\n",
            "clients\n",
            "trading,\n",
            "shipping, hospitality, real estates, retail\n",
            "\n",
            "industries, e.g. manufacturing,\n",
            "\n",
            "from different\n",
            "\n",
            " Reviewed financial statements, drafted audit finding reports and\n",
            "\n",
            "communicated to management\n",
            "\n",
            "May 2004-\n",
            "\n",
            "Internship, C Y Ng & Co\n",
            "\n",
            "June 2004\n",
            "\n",
            " Assisted audit seniors to complete the audit assignments\n",
            " Received overall grade of A for the internship\n",
            "\n",
            "QUALIFICATION / CERTIFICATION\n",
            "\n",
            "2010\n",
            "\n",
            "Chartered Certified Accountant (ACCA)\n",
            "\n",
            "The Association of Chartered Certified Accountants, UK\n",
            "\n",
            "(Placed No. 7 0f the Top 30 ACCA Affiliates in Final Module, Singapore)\n",
            "\n",
            "2015\n",
            "\n",
            "Chartered Accountant of Singapore (CA Singapore)\n",
            "\n",
            "Institute of Singapore Chartered Accountants\n",
            "\n",
            "2016\n",
            "\n",
            "Certified Financial Risk Manager (FRM®)\n",
            "\n",
            "Global Association of Risk Professionals (GARP)\n",
            "\n",
            "Capital Markets and Financial Advisory Services (CMFAS)\n",
            "Examinations\n",
            "\n",
            "Module 1A - Rules and Regulations for Dealing in Securities (2013)\n",
            "\n",
            "Module 3 - Rules & Regulations for Fund Management (2016)\n",
            "\n",
            "3\n",
            "\n",
            "\fEDUCATION\n",
            "\n",
            "2008\n",
            "\n",
            "Oxford Brookes University\n",
            "\n",
            "Bachelor of Science (First Class Honours) in Applied Accounting\n",
            "\n",
            "2005\n",
            "\n",
            "Singapore Polytechnic\n",
            "\n",
            "Diploma in Accountancy\n",
            "\n",
            "(Placed on School Honour Roll for 5 out of 6 semesters)\n",
            "\n",
            "LANGUAGE\n",
            "\n",
            "English and Chinese (Spoken and Written)\n",
            "\n",
            "SKILLS\n",
            "\n",
            "Microsoft office (Word, Excel and PowerPoint)\n",
            "\n",
            "REFERENCES\n",
            "\n",
            "Available upon request\n",
            "\n",
            "4\n",
            "\n",
            "\f\n"
          ],
          "name": "stdout"
        }
      ]
    },
    {
      "cell_type": "markdown",
      "metadata": {
        "id": "4dbAW6-VR1NO",
        "colab_type": "text"
      },
      "source": [
        "## Clean data"
      ]
    },
    {
      "cell_type": "code",
      "metadata": {
        "id": "dwCakJK2RKtx",
        "colab_type": "code",
        "colab": {}
      },
      "source": [
        "import re"
      ],
      "execution_count": 11,
      "outputs": []
    },
    {
      "cell_type": "code",
      "metadata": {
        "id": "m2XPzI70SBYb",
        "colab_type": "code",
        "colab": {}
      },
      "source": [
        "def strip(text_to_clean):\n",
        "  # Replace all newlines and blanklines with special strings\n",
        "  regx = re.compile(r\"\\n\\n\")\n",
        "  text_to_clean = regx.sub(repl=\" blankline \", string=text_to_clean)\n",
        " \n",
        "  regx = re.compile(r\"\\n\")\n",
        "  text_to_clean = regx.sub(repl=\" newline \", string=text_to_clean)\n",
        "\n",
        "\n",
        "  # Make all white space a single space\n",
        "  regx = re.compile(r\"\\s+\")\n",
        "  text_to_clean = regx.sub(repl=\" \", string=text_to_clean)\n",
        "\n",
        "  # Remove any trailing or leading white space\n",
        "  text_to_clean = text_to_clean.strip(\" \")\n",
        "  return text_to_clean"
      ],
      "execution_count": 19,
      "outputs": []
    },
    {
      "cell_type": "code",
      "metadata": {
        "id": "EL8ZWufVShDG",
        "colab_type": "code",
        "colab": {
          "base_uri": "https://localhost:8080/",
          "height": 208
        },
        "outputId": "427c7542-5544-4362-f0fc-db80634f02b1"
      },
      "source": [
        "df['text'][0]"
      ],
      "execution_count": 20,
      "outputs": [
        {
          "output_type": "execute_result",
          "data": {
            "application/vnd.google.colaboratory.intrinsic": {
              "type": "string"
            },
            "text/plain": [
              "'QIAN BOWEN\\n\\nMobile: + 65 9060 7342\\n\\nEmail: qianbowen@yahoo.com\\n\\nSUMMARY\\n\\n\\uf0b7\\n\\nSenior Manager with the Financial Services Assurance in PricewaterhouseCoopers\\nLLP , Singapore (PwC)\\n\\n\\uf0b7 Over 11 years of experience with PwC, providing assurance services to clients in a wide\\n\\nrange of industries with focus on asset and wealth management industry\\n\\n\\uf0b7 Proficient in leading engagement teams in the design of effective walk-through and\\nreview of financial and operational internal controls across a spectrum of the fund\\nmanagement company’s business activities, such as Portfolio management and trade\\nexecution, Pricing and valuation, Client administration and reporting, and Fund\\naccounting.\\n\\n\\uf0b7 Excellent in client relationship management and project management with an audit\\n\\nportfolio comprising 8-12 clients and over $1 million annual audit fee revenue\\n\\n\\uf0b7 Good knowledge in asset management rules and regulations in Singapore ，\\nexperience in MAS/CPFIS/CCIS compliance review for licensed and registered fund\\nmanagement companies and unit trusts\\n\\n\\uf0b7\\n\\nSelected as a high performer from PwC Singapore to be seconded to PwC Channel\\nIslands, UK as an audit manager from December 2013 to May 2015, working\\nprimarily on private equity related assurance work\\n\\n\\uf0b7 Double promoted from Associate 1 to Senior Associate 1 in PwC Singapore\\n\\uf0b7 Fellow member of the Association of Chartered Certified Accountants (ACCA),\\nMember of Institute of Singapore Chartered Accountants (CA Singapore) and\\nCertified Financial Risk Manager (FRM, GARP)\\n\\n1\\n\\n\\x0cWORK EXPERIENCE\\n\\nJuly 2010 -\\nPresent\\n\\nFinancial Services Assurance, PricewaterhouseCoopers LLP\\n(seconded to PwC Channel Islands from December 2013 to May 2015)\\n\\uf06c\\n\\nLead audit teams, develop risk-based audit plans, review internal\\ncontrol procedures, assess control environment, audit\\nfinancial\\nstatements for financial service clients including fund management\\ncompanies, private equities, exchange traded funds, hedge funds and\\nunit trusts\\n\\n\\uf06c Manage audit resource and budget, ensure quality deliverables and\\n\\nmeet the reporting deadlines\\n\\n\\uf06c Identify internal control/compliance issues during the audit, prepare\\naudit finding reports and make recommendations to the management\\n\\n\\uf06c Perform regulatory\\n\\nfund management\\ncompanies (CMS license holders, CPF Investment Schemes and Code\\nof Collective Investment Schemes)\\n\\ncompliance\\n\\naudit\\n\\nfor\\n\\n\\uf06c Initiate and maintain regular communication with key management\\n\\nand other stakeholders (e.g. Audit Committee)\\n\\n\\uf06c Draft internal guidance for audit methodology and risk management\\n\\npolicies\\n\\n\\uf06c Coach and conduct performance appraisals for junior staff\\n\\n\\uf06c Develop training materials for internal Learning and Development\\nand conduct training courses for audit staff in the audit methodology\\nfor fund Management companies, unit trusts and private equity audits\\n\\n\\uf06c Interview and recruit junior audit staff\\n\\nDecember 2013 - PricewaterhouseCoopers, Channel Islands, UK\\n\\nMay 2015\\n\\n(18 months secondment)\\n\\n\\uf06c Lead and managed a team of 3 to 8 members for various audit\\nengagements of different types of Private Equity funds, such as direct\\ninvestment, fund of funds, venture capital, mezzanine debts, real\\nestate\\n\\n\\uf06c Reviewed financial statements prepared under IFRS/US GAAP/LPA\\n\\n\\uf06c Assessed management fee/carried interest calculation and waterfall/\\n\\ninvestor allocations\\n\\n2\\n\\n\\x0cJune 2005 -\\n\\nGeneral Assurance, PricewaterhouseCoopers LLP\\n\\nJune 2010\\n\\n\\uf06c\\n\\nPlanned and executed risk-based audit fieldwork for a wide range of\\nclients\\ntrading,\\nshipping, hospitality, real estates, retail\\n\\nindustries, e.g. manufacturing,\\n\\nfrom different\\n\\n\\uf06c Reviewed financial statements, drafted audit finding reports and\\n\\ncommunicated to management\\n\\nMay 2004-\\n\\nInternship, C Y Ng & Co\\n\\nJune 2004\\n\\n\\uf06c Assisted audit seniors to complete the audit assignments\\n\\uf06c Received overall grade of A for the internship\\n\\nQUALIFICATION / CERTIFICATION\\n\\n2010\\n\\nChartered Certified Accountant (ACCA)\\n\\nThe Association of Chartered Certified Accountants, UK\\n\\n(Placed No. 7 0f the Top 30 ACCA Affiliates in Final Module, Singapore)\\n\\n2015\\n\\nChartered Accountant of Singapore (CA Singapore)\\n\\nInstitute of Singapore Chartered Accountants\\n\\n2016\\n\\nCertified Financial Risk Manager (FRM®)\\n\\nGlobal Association of Risk Professionals (GARP)\\n\\nCapital Markets and Financial Advisory Services (CMFAS)\\nExaminations\\n\\nModule 1A - Rules and Regulations for Dealing in Securities (2013)\\n\\nModule 3 - Rules & Regulations for Fund Management (2016)\\n\\n3\\n\\n\\x0cEDUCATION\\n\\n2008\\n\\nOxford Brookes University\\n\\nBachelor of Science (First Class Honours) in Applied Accounting\\n\\n2005\\n\\nSingapore Polytechnic\\n\\nDiploma in Accountancy\\n\\n(Placed on School Honour Roll for 5 out of 6 semesters)\\n\\nLANGUAGE\\n\\nEnglish and Chinese (Spoken and Written)\\n\\nSKILLS\\n\\nMicrosoft office (Word, Excel and PowerPoint)\\n\\nREFERENCES\\n\\nAvailable upon request\\n\\n4\\n\\n\\x0c'"
            ]
          },
          "metadata": {
            "tags": []
          },
          "execution_count": 20
        }
      ]
    },
    {
      "cell_type": "code",
      "metadata": {
        "id": "P_lCsC5PTFBw",
        "colab_type": "code",
        "colab": {
          "base_uri": "https://localhost:8080/",
          "height": 1000
        },
        "outputId": "79900a9c-9dc0-4320-fafb-6fd75d2e0dd9"
      },
      "source": [
        "print(df['text'][0])"
      ],
      "execution_count": 22,
      "outputs": [
        {
          "output_type": "stream",
          "text": [
            "QIAN BOWEN\n",
            "\n",
            "Mobile: + 65 9060 7342\n",
            "\n",
            "Email: qianbowen@yahoo.com\n",
            "\n",
            "SUMMARY\n",
            "\n",
            "\n",
            "\n",
            "Senior Manager with the Financial Services Assurance in PricewaterhouseCoopers\n",
            "LLP , Singapore (PwC)\n",
            "\n",
            " Over 11 years of experience with PwC, providing assurance services to clients in a wide\n",
            "\n",
            "range of industries with focus on asset and wealth management industry\n",
            "\n",
            " Proficient in leading engagement teams in the design of effective walk-through and\n",
            "review of financial and operational internal controls across a spectrum of the fund\n",
            "management company’s business activities, such as Portfolio management and trade\n",
            "execution, Pricing and valuation, Client administration and reporting, and Fund\n",
            "accounting.\n",
            "\n",
            " Excellent in client relationship management and project management with an audit\n",
            "\n",
            "portfolio comprising 8-12 clients and over $1 million annual audit fee revenue\n",
            "\n",
            " Good knowledge in asset management rules and regulations in Singapore ，\n",
            "experience in MAS/CPFIS/CCIS compliance review for licensed and registered fund\n",
            "management companies and unit trusts\n",
            "\n",
            "\n",
            "\n",
            "Selected as a high performer from PwC Singapore to be seconded to PwC Channel\n",
            "Islands, UK as an audit manager from December 2013 to May 2015, working\n",
            "primarily on private equity related assurance work\n",
            "\n",
            " Double promoted from Associate 1 to Senior Associate 1 in PwC Singapore\n",
            " Fellow member of the Association of Chartered Certified Accountants (ACCA),\n",
            "Member of Institute of Singapore Chartered Accountants (CA Singapore) and\n",
            "Certified Financial Risk Manager (FRM, GARP)\n",
            "\n",
            "1\n",
            "\n",
            "\fWORK EXPERIENCE\n",
            "\n",
            "July 2010 -\n",
            "Present\n",
            "\n",
            "Financial Services Assurance, PricewaterhouseCoopers LLP\n",
            "(seconded to PwC Channel Islands from December 2013 to May 2015)\n",
            "\n",
            "\n",
            "Lead audit teams, develop risk-based audit plans, review internal\n",
            "control procedures, assess control environment, audit\n",
            "financial\n",
            "statements for financial service clients including fund management\n",
            "companies, private equities, exchange traded funds, hedge funds and\n",
            "unit trusts\n",
            "\n",
            " Manage audit resource and budget, ensure quality deliverables and\n",
            "\n",
            "meet the reporting deadlines\n",
            "\n",
            " Identify internal control/compliance issues during the audit, prepare\n",
            "audit finding reports and make recommendations to the management\n",
            "\n",
            " Perform regulatory\n",
            "\n",
            "fund management\n",
            "companies (CMS license holders, CPF Investment Schemes and Code\n",
            "of Collective Investment Schemes)\n",
            "\n",
            "compliance\n",
            "\n",
            "audit\n",
            "\n",
            "for\n",
            "\n",
            " Initiate and maintain regular communication with key management\n",
            "\n",
            "and other stakeholders (e.g. Audit Committee)\n",
            "\n",
            " Draft internal guidance for audit methodology and risk management\n",
            "\n",
            "policies\n",
            "\n",
            " Coach and conduct performance appraisals for junior staff\n",
            "\n",
            " Develop training materials for internal Learning and Development\n",
            "and conduct training courses for audit staff in the audit methodology\n",
            "for fund Management companies, unit trusts and private equity audits\n",
            "\n",
            " Interview and recruit junior audit staff\n",
            "\n",
            "December 2013 - PricewaterhouseCoopers, Channel Islands, UK\n",
            "\n",
            "May 2015\n",
            "\n",
            "(18 months secondment)\n",
            "\n",
            " Lead and managed a team of 3 to 8 members for various audit\n",
            "engagements of different types of Private Equity funds, such as direct\n",
            "investment, fund of funds, venture capital, mezzanine debts, real\n",
            "estate\n",
            "\n",
            " Reviewed financial statements prepared under IFRS/US GAAP/LPA\n",
            "\n",
            " Assessed management fee/carried interest calculation and waterfall/\n",
            "\n",
            "investor allocations\n",
            "\n",
            "2\n",
            "\n",
            "\fJune 2005 -\n",
            "\n",
            "General Assurance, PricewaterhouseCoopers LLP\n",
            "\n",
            "June 2010\n",
            "\n",
            "\n",
            "\n",
            "Planned and executed risk-based audit fieldwork for a wide range of\n",
            "clients\n",
            "trading,\n",
            "shipping, hospitality, real estates, retail\n",
            "\n",
            "industries, e.g. manufacturing,\n",
            "\n",
            "from different\n",
            "\n",
            " Reviewed financial statements, drafted audit finding reports and\n",
            "\n",
            "communicated to management\n",
            "\n",
            "May 2004-\n",
            "\n",
            "Internship, C Y Ng & Co\n",
            "\n",
            "June 2004\n",
            "\n",
            " Assisted audit seniors to complete the audit assignments\n",
            " Received overall grade of A for the internship\n",
            "\n",
            "QUALIFICATION / CERTIFICATION\n",
            "\n",
            "2010\n",
            "\n",
            "Chartered Certified Accountant (ACCA)\n",
            "\n",
            "The Association of Chartered Certified Accountants, UK\n",
            "\n",
            "(Placed No. 7 0f the Top 30 ACCA Affiliates in Final Module, Singapore)\n",
            "\n",
            "2015\n",
            "\n",
            "Chartered Accountant of Singapore (CA Singapore)\n",
            "\n",
            "Institute of Singapore Chartered Accountants\n",
            "\n",
            "2016\n",
            "\n",
            "Certified Financial Risk Manager (FRM®)\n",
            "\n",
            "Global Association of Risk Professionals (GARP)\n",
            "\n",
            "Capital Markets and Financial Advisory Services (CMFAS)\n",
            "Examinations\n",
            "\n",
            "Module 1A - Rules and Regulations for Dealing in Securities (2013)\n",
            "\n",
            "Module 3 - Rules & Regulations for Fund Management (2016)\n",
            "\n",
            "3\n",
            "\n",
            "\fEDUCATION\n",
            "\n",
            "2008\n",
            "\n",
            "Oxford Brookes University\n",
            "\n",
            "Bachelor of Science (First Class Honours) in Applied Accounting\n",
            "\n",
            "2005\n",
            "\n",
            "Singapore Polytechnic\n",
            "\n",
            "Diploma in Accountancy\n",
            "\n",
            "(Placed on School Honour Roll for 5 out of 6 semesters)\n",
            "\n",
            "LANGUAGE\n",
            "\n",
            "English and Chinese (Spoken and Written)\n",
            "\n",
            "SKILLS\n",
            "\n",
            "Microsoft office (Word, Excel and PowerPoint)\n",
            "\n",
            "REFERENCES\n",
            "\n",
            "Available upon request\n",
            "\n",
            "4\n",
            "\n",
            "\f\n"
          ],
          "name": "stdout"
        }
      ]
    },
    {
      "cell_type": "code",
      "metadata": {
        "id": "AlCBZwKESkXj",
        "colab_type": "code",
        "colab": {
          "base_uri": "https://localhost:8080/",
          "height": 208
        },
        "outputId": "972846fb-70f3-4c79-a54a-6488b9a3bf12"
      },
      "source": [
        "strip(df['text'][0])"
      ],
      "execution_count": 21,
      "outputs": [
        {
          "output_type": "execute_result",
          "data": {
            "application/vnd.google.colaboratory.intrinsic": {
              "type": "string"
            },
            "text/plain": [
              "'QIAN BOWEN blankline Mobile: + 65 9060 7342 blankline Email: qianbowen@yahoo.com blankline SUMMARY blankline \\uf0b7 blankline Senior Manager with the Financial Services Assurance in PricewaterhouseCoopers newline LLP , Singapore (PwC) blankline \\uf0b7 Over 11 years of experience with PwC, providing assurance services to clients in a wide blankline range of industries with focus on asset and wealth management industry blankline \\uf0b7 Proficient in leading engagement teams in the design of effective walk-through and newline review of financial and operational internal controls across a spectrum of the fund newline management company’s business activities, such as Portfolio management and trade newline execution, Pricing and valuation, Client administration and reporting, and Fund newline accounting. blankline \\uf0b7 Excellent in client relationship management and project management with an audit blankline portfolio comprising 8-12 clients and over $1 million annual audit fee revenue blankline \\uf0b7 Good knowledge in asset management rules and regulations in Singapore ， newline experience in MAS/CPFIS/CCIS compliance review for licensed and registered fund newline management companies and unit trusts blankline \\uf0b7 blankline Selected as a high performer from PwC Singapore to be seconded to PwC Channel newline Islands, UK as an audit manager from December 2013 to May 2015, working newline primarily on private equity related assurance work blankline \\uf0b7 Double promoted from Associate 1 to Senior Associate 1 in PwC Singapore newline \\uf0b7 Fellow member of the Association of Chartered Certified Accountants (ACCA), newline Member of Institute of Singapore Chartered Accountants (CA Singapore) and newline Certified Financial Risk Manager (FRM, GARP) blankline 1 blankline WORK EXPERIENCE blankline July 2010 - newline Present blankline Financial Services Assurance, PricewaterhouseCoopers LLP newline (seconded to PwC Channel Islands from December 2013 to May 2015) newline \\uf06c blankline Lead audit teams, develop risk-based audit plans, review internal newline control procedures, assess control environment, audit newline financial newline statements for financial service clients including fund management newline companies, private equities, exchange traded funds, hedge funds and newline unit trusts blankline \\uf06c Manage audit resource and budget, ensure quality deliverables and blankline meet the reporting deadlines blankline \\uf06c Identify internal control/compliance issues during the audit, prepare newline audit finding reports and make recommendations to the management blankline \\uf06c Perform regulatory blankline fund management newline companies (CMS license holders, CPF Investment Schemes and Code newline of Collective Investment Schemes) blankline compliance blankline audit blankline for blankline \\uf06c Initiate and maintain regular communication with key management blankline and other stakeholders (e.g. Audit Committee) blankline \\uf06c Draft internal guidance for audit methodology and risk management blankline policies blankline \\uf06c Coach and conduct performance appraisals for junior staff blankline \\uf06c Develop training materials for internal Learning and Development newline and conduct training courses for audit staff in the audit methodology newline for fund Management companies, unit trusts and private equity audits blankline \\uf06c Interview and recruit junior audit staff blankline December 2013 - PricewaterhouseCoopers, Channel Islands, UK blankline May 2015 blankline (18 months secondment) blankline \\uf06c Lead and managed a team of 3 to 8 members for various audit newline engagements of different types of Private Equity funds, such as direct newline investment, fund of funds, venture capital, mezzanine debts, real newline estate blankline \\uf06c Reviewed financial statements prepared under IFRS/US GAAP/LPA blankline \\uf06c Assessed management fee/carried interest calculation and waterfall/ blankline investor allocations blankline 2 blankline June 2005 - blankline General Assurance, PricewaterhouseCoopers LLP blankline June 2010 blankline \\uf06c blankline Planned and executed risk-based audit fieldwork for a wide range of newline clients newline trading, newline shipping, hospitality, real estates, retail blankline industries, e.g. manufacturing, blankline from different blankline \\uf06c Reviewed financial statements, drafted audit finding reports and blankline communicated to management blankline May 2004- blankline Internship, C Y Ng & Co blankline June 2004 blankline \\uf06c Assisted audit seniors to complete the audit assignments newline \\uf06c Received overall grade of A for the internship blankline QUALIFICATION / CERTIFICATION blankline 2010 blankline Chartered Certified Accountant (ACCA) blankline The Association of Chartered Certified Accountants, UK blankline (Placed No. 7 0f the Top 30 ACCA Affiliates in Final Module, Singapore) blankline 2015 blankline Chartered Accountant of Singapore (CA Singapore) blankline Institute of Singapore Chartered Accountants blankline 2016 blankline Certified Financial Risk Manager (FRM®) blankline Global Association of Risk Professionals (GARP) blankline Capital Markets and Financial Advisory Services (CMFAS) newline Examinations blankline Module 1A - Rules and Regulations for Dealing in Securities (2013) blankline Module 3 - Rules & Regulations for Fund Management (2016) blankline 3 blankline EDUCATION blankline 2008 blankline Oxford Brookes University blankline Bachelor of Science (First Class Honours) in Applied Accounting blankline 2005 blankline Singapore Polytechnic blankline Diploma in Accountancy blankline (Placed on School Honour Roll for 5 out of 6 semesters) blankline LANGUAGE blankline English and Chinese (Spoken and Written) blankline SKILLS blankline Microsoft office (Word, Excel and PowerPoint) blankline REFERENCES blankline Available upon request blankline 4 blankline'"
            ]
          },
          "metadata": {
            "tags": []
          },
          "execution_count": 21
        }
      ]
    },
    {
      "cell_type": "code",
      "metadata": {
        "id": "J3rYMrJtSrNa",
        "colab_type": "code",
        "colab": {}
      },
      "source": [
        "df['cleaned_text'] = df['text'].apply(strip)"
      ],
      "execution_count": 24,
      "outputs": []
    },
    {
      "cell_type": "code",
      "metadata": {
        "id": "whLGFI6iT6xV",
        "colab_type": "code",
        "colab": {
          "base_uri": "https://localhost:8080/",
          "height": 394
        },
        "outputId": "fc66859c-fb30-4b78-d1c5-765772b06a22"
      },
      "source": [
        "df.head()"
      ],
      "execution_count": 25,
      "outputs": [
        {
          "output_type": "execute_result",
          "data": {
            "text/html": [
              "<div>\n",
              "<style scoped>\n",
              "    .dataframe tbody tr th:only-of-type {\n",
              "        vertical-align: middle;\n",
              "    }\n",
              "\n",
              "    .dataframe tbody tr th {\n",
              "        vertical-align: top;\n",
              "    }\n",
              "\n",
              "    .dataframe thead th {\n",
              "        text-align: right;\n",
              "    }\n",
              "</style>\n",
              "<table border=\"1\" class=\"dataframe\">\n",
              "  <thead>\n",
              "    <tr style=\"text-align: right;\">\n",
              "      <th></th>\n",
              "      <th>category</th>\n",
              "      <th>file_path</th>\n",
              "      <th>len_words</th>\n",
              "      <th>text</th>\n",
              "      <th>cleaned_text</th>\n",
              "    </tr>\n",
              "  </thead>\n",
              "  <tbody>\n",
              "    <tr>\n",
              "      <th>0</th>\n",
              "      <td>fund_accounting</td>\n",
              "      <td>/content/datartistry/ResumeParser/data/output/...</td>\n",
              "      <td>679</td>\n",
              "      <td>QIAN BOWEN\\n\\nMobile: + 65 9060 7342\\n\\nEmail:...</td>\n",
              "      <td>QIAN BOWEN blankline Mobile: + 65 9060 7342 bl...</td>\n",
              "    </tr>\n",
              "    <tr>\n",
              "      <th>1</th>\n",
              "      <td>fund_accounting</td>\n",
              "      <td>/content/datartistry/ResumeParser/data/output/...</td>\n",
              "      <td>871</td>\n",
              "      <td>Dina V. Nagao \\n\\n    E: DinaVNagao@gmail.com ...</td>\n",
              "      <td>Dina V. Nagao blankline E: DinaVNagao@gmail.co...</td>\n",
              "    </tr>\n",
              "    <tr>\n",
              "      <th>2</th>\n",
              "      <td>corporate_secretary</td>\n",
              "      <td>/content/datartistry/ResumeParser/data/output/...</td>\n",
              "      <td>710</td>\n",
              "      <td>\\n\\n \\n \\nEXPERIENCE \\n\\n \\n\\n \\n\\n \\n\\n \\n\\n...</td>\n",
              "      <td>blankline newline newline EXPERIENCE blankline...</td>\n",
              "    </tr>\n",
              "    <tr>\n",
              "      <th>3</th>\n",
              "      <td>sales</td>\n",
              "      <td>/content/datartistry/ResumeParser/data/output/...</td>\n",
              "      <td>559</td>\n",
              "      <td>\\n\\n \\n\\n \\n\\n \\n\\n \\n\\n \\n\\n \\n\\n \\n\\nYee Ch...</td>\n",
              "      <td>blankline blankline blankline blankline blankl...</td>\n",
              "    </tr>\n",
              "    <tr>\n",
              "      <th>4</th>\n",
              "      <td>sales</td>\n",
              "      <td>/content/datartistry/ResumeParser/data/output/...</td>\n",
              "      <td>501</td>\n",
              "      <td>Terence Neo\\n\\nSingaporean Chinese, born 1985\\...</td>\n",
              "      <td>Terence Neo blankline Singaporean Chinese, bor...</td>\n",
              "    </tr>\n",
              "  </tbody>\n",
              "</table>\n",
              "</div>"
            ],
            "text/plain": [
              "              category  ...                                       cleaned_text\n",
              "0      fund_accounting  ...  QIAN BOWEN blankline Mobile: + 65 9060 7342 bl...\n",
              "1      fund_accounting  ...  Dina V. Nagao blankline E: DinaVNagao@gmail.co...\n",
              "2  corporate_secretary  ...  blankline newline newline EXPERIENCE blankline...\n",
              "3                sales  ...  blankline blankline blankline blankline blankl...\n",
              "4                sales  ...  Terence Neo blankline Singaporean Chinese, bor...\n",
              "\n",
              "[5 rows x 5 columns]"
            ]
          },
          "metadata": {
            "tags": []
          },
          "execution_count": 25
        }
      ]
    },
    {
      "cell_type": "code",
      "metadata": {
        "id": "NcXbGDx9T-bP",
        "colab_type": "code",
        "colab": {
          "base_uri": "https://localhost:8080/",
          "height": 208
        },
        "outputId": "417e3a11-d319-4186-bd51-99e29324e21f"
      },
      "source": [
        "df['cleaned_text'][0]"
      ],
      "execution_count": 26,
      "outputs": [
        {
          "output_type": "execute_result",
          "data": {
            "application/vnd.google.colaboratory.intrinsic": {
              "type": "string"
            },
            "text/plain": [
              "'QIAN BOWEN blankline Mobile: + 65 9060 7342 blankline Email: qianbowen@yahoo.com blankline SUMMARY blankline \\uf0b7 blankline Senior Manager with the Financial Services Assurance in PricewaterhouseCoopers newline LLP , Singapore (PwC) blankline \\uf0b7 Over 11 years of experience with PwC, providing assurance services to clients in a wide blankline range of industries with focus on asset and wealth management industry blankline \\uf0b7 Proficient in leading engagement teams in the design of effective walk-through and newline review of financial and operational internal controls across a spectrum of the fund newline management company’s business activities, such as Portfolio management and trade newline execution, Pricing and valuation, Client administration and reporting, and Fund newline accounting. blankline \\uf0b7 Excellent in client relationship management and project management with an audit blankline portfolio comprising 8-12 clients and over $1 million annual audit fee revenue blankline \\uf0b7 Good knowledge in asset management rules and regulations in Singapore ， newline experience in MAS/CPFIS/CCIS compliance review for licensed and registered fund newline management companies and unit trusts blankline \\uf0b7 blankline Selected as a high performer from PwC Singapore to be seconded to PwC Channel newline Islands, UK as an audit manager from December 2013 to May 2015, working newline primarily on private equity related assurance work blankline \\uf0b7 Double promoted from Associate 1 to Senior Associate 1 in PwC Singapore newline \\uf0b7 Fellow member of the Association of Chartered Certified Accountants (ACCA), newline Member of Institute of Singapore Chartered Accountants (CA Singapore) and newline Certified Financial Risk Manager (FRM, GARP) blankline 1 blankline WORK EXPERIENCE blankline July 2010 - newline Present blankline Financial Services Assurance, PricewaterhouseCoopers LLP newline (seconded to PwC Channel Islands from December 2013 to May 2015) newline \\uf06c blankline Lead audit teams, develop risk-based audit plans, review internal newline control procedures, assess control environment, audit newline financial newline statements for financial service clients including fund management newline companies, private equities, exchange traded funds, hedge funds and newline unit trusts blankline \\uf06c Manage audit resource and budget, ensure quality deliverables and blankline meet the reporting deadlines blankline \\uf06c Identify internal control/compliance issues during the audit, prepare newline audit finding reports and make recommendations to the management blankline \\uf06c Perform regulatory blankline fund management newline companies (CMS license holders, CPF Investment Schemes and Code newline of Collective Investment Schemes) blankline compliance blankline audit blankline for blankline \\uf06c Initiate and maintain regular communication with key management blankline and other stakeholders (e.g. Audit Committee) blankline \\uf06c Draft internal guidance for audit methodology and risk management blankline policies blankline \\uf06c Coach and conduct performance appraisals for junior staff blankline \\uf06c Develop training materials for internal Learning and Development newline and conduct training courses for audit staff in the audit methodology newline for fund Management companies, unit trusts and private equity audits blankline \\uf06c Interview and recruit junior audit staff blankline December 2013 - PricewaterhouseCoopers, Channel Islands, UK blankline May 2015 blankline (18 months secondment) blankline \\uf06c Lead and managed a team of 3 to 8 members for various audit newline engagements of different types of Private Equity funds, such as direct newline investment, fund of funds, venture capital, mezzanine debts, real newline estate blankline \\uf06c Reviewed financial statements prepared under IFRS/US GAAP/LPA blankline \\uf06c Assessed management fee/carried interest calculation and waterfall/ blankline investor allocations blankline 2 blankline June 2005 - blankline General Assurance, PricewaterhouseCoopers LLP blankline June 2010 blankline \\uf06c blankline Planned and executed risk-based audit fieldwork for a wide range of newline clients newline trading, newline shipping, hospitality, real estates, retail blankline industries, e.g. manufacturing, blankline from different blankline \\uf06c Reviewed financial statements, drafted audit finding reports and blankline communicated to management blankline May 2004- blankline Internship, C Y Ng & Co blankline June 2004 blankline \\uf06c Assisted audit seniors to complete the audit assignments newline \\uf06c Received overall grade of A for the internship blankline QUALIFICATION / CERTIFICATION blankline 2010 blankline Chartered Certified Accountant (ACCA) blankline The Association of Chartered Certified Accountants, UK blankline (Placed No. 7 0f the Top 30 ACCA Affiliates in Final Module, Singapore) blankline 2015 blankline Chartered Accountant of Singapore (CA Singapore) blankline Institute of Singapore Chartered Accountants blankline 2016 blankline Certified Financial Risk Manager (FRM®) blankline Global Association of Risk Professionals (GARP) blankline Capital Markets and Financial Advisory Services (CMFAS) newline Examinations blankline Module 1A - Rules and Regulations for Dealing in Securities (2013) blankline Module 3 - Rules & Regulations for Fund Management (2016) blankline 3 blankline EDUCATION blankline 2008 blankline Oxford Brookes University blankline Bachelor of Science (First Class Honours) in Applied Accounting blankline 2005 blankline Singapore Polytechnic blankline Diploma in Accountancy blankline (Placed on School Honour Roll for 5 out of 6 semesters) blankline LANGUAGE blankline English and Chinese (Spoken and Written) blankline SKILLS blankline Microsoft office (Word, Excel and PowerPoint) blankline REFERENCES blankline Available upon request blankline 4 blankline'"
            ]
          },
          "metadata": {
            "tags": []
          },
          "execution_count": 26
        }
      ]
    },
    {
      "cell_type": "code",
      "metadata": {
        "id": "8hQky_BYUBWC",
        "colab_type": "code",
        "colab": {}
      },
      "source": [
        "df[['category', 'cleaned_text']].to_csv('/content/datartistry/to_modeling.csv')"
      ],
      "execution_count": 28,
      "outputs": []
    }
  ]
}