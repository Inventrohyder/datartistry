{
  "nbformat": 4,
  "nbformat_minor": 0,
  "metadata": {
    "colab": {
      "name": "Text_extract.ipynb",
      "provenance": [],
      "authorship_tag": "ABX9TyMUVGV4TEpOM+6oHhmvUa35",
      "include_colab_link": true
    },
    "kernelspec": {
      "name": "python3",
      "display_name": "Python 3"
    }
  },
  "cells": [
    {
      "cell_type": "markdown",
      "metadata": {
        "id": "view-in-github",
        "colab_type": "text"
      },
      "source": [
        "<a href=\"https://colab.research.google.com/github/Inventrohyder/datartistry/blob/master/Text_extract.ipynb\" target=\"_parent\"><img src=\"https://colab.research.google.com/assets/colab-badge.svg\" alt=\"Open In Colab\"/></a>"
      ]
    },
    {
      "cell_type": "code",
      "metadata": {
        "id": "_pEO0QxCZ2t3",
        "colab_type": "code",
        "colab": {
          "base_uri": "https://localhost:8080/",
          "height": 190
        },
        "outputId": "0d329dc8-7113-4c06-fef1-a88ac0725264"
      },
      "source": [
        "!pip install docx2txt"
      ],
      "execution_count": 2,
      "outputs": [
        {
          "output_type": "stream",
          "text": [
            "Collecting docx2txt\n",
            "  Downloading https://files.pythonhosted.org/packages/7d/7d/60ee3f2b16d9bfdfa72e8599470a2c1a5b759cb113c6fe1006be28359327/docx2txt-0.8.tar.gz\n",
            "Building wheels for collected packages: docx2txt\n",
            "  Building wheel for docx2txt (setup.py) ... \u001b[?25l\u001b[?25hdone\n",
            "  Created wheel for docx2txt: filename=docx2txt-0.8-cp36-none-any.whl size=3963 sha256=fab610e14666757e29d345b063e82b54f15d0d1989831926008c9d7f989433ac\n",
            "  Stored in directory: /root/.cache/pip/wheels/b2/1f/26/a051209bbb77fc6bcfae2bb7e01fa0ff941b82292ab084d596\n",
            "Successfully built docx2txt\n",
            "Installing collected packages: docx2txt\n",
            "Successfully installed docx2txt-0.8\n"
          ],
          "name": "stdout"
        }
      ]
    },
    {
      "cell_type": "code",
      "metadata": {
        "id": "WK8BHe2GZhgc",
        "colab_type": "code",
        "colab": {
          "base_uri": "https://localhost:8080/",
          "height": 68
        },
        "outputId": "883276bd-5696-4f8e-eb80-05a9d66f4d9e"
      },
      "source": [
        "# this the code for looping and exracting the text for docx files in inside the direcotry\n",
        "\n",
        "#import libraries\n",
        "import os\n",
        "import docx2txt\n",
        "import glob\n",
        "import pandas as pd       \n",
        "\n",
        "#this should the dircorty \n",
        "os.chdir(\"/content/drive/My Drive/HR compeition/HR challenge data/Job descriptions/\")\n",
        "\n",
        "Descriptions = []\n",
        "name = []\n",
        "\n",
        "for file in glob.glob('*.docx'):\n",
        "    Descriptions.append(docx2txt.process(file))    \n",
        "    name.append(file)\n",
        "\n",
        "data = pd.DataFrame(\n",
        "    {'Descriptions': Descriptions,\n",
        "     'Name': name,\n",
        "    })\n",
        "\n",
        "data.dtypes"
      ],
      "execution_count": 9,
      "outputs": [
        {
          "output_type": "execute_result",
          "data": {
            "text/plain": [
              "Descriptions    float64\n",
              "Name            float64\n",
              "dtype: object"
            ]
          },
          "metadata": {
            "tags": []
          },
          "execution_count": 9
        }
      ]
    }
  ]
}