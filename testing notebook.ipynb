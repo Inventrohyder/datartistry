{
  "nbformat": 4,
  "nbformat_minor": 0,
  "metadata": {
    "kernelspec": {
      "display_name": "Python 3",
      "language": "python",
      "name": "python3"
    },
    "language_info": {
      "codemirror_mode": {
        "name": "ipython",
        "version": 3
      },
      "file_extension": ".py",
      "mimetype": "text/x-python",
      "name": "python",
      "nbconvert_exporter": "python",
      "pygments_lexer": "ipython3",
      "version": "3.7.3"
    },
    "varInspector": {
      "cols": {
        "lenName": 16,
        "lenType": 16,
        "lenVar": 40
      },
      "kernels_config": {
        "python": {
          "delete_cmd_postfix": "",
          "delete_cmd_prefix": "del ",
          "library": "var_list.py",
          "varRefreshCmd": "print(var_dic_list())"
        },
        "r": {
          "delete_cmd_postfix": ") ",
          "delete_cmd_prefix": "rm(",
          "library": "var_list.r",
          "varRefreshCmd": "cat(var_dic_list()) "
        }
      },
      "types_to_exclude": [
        "module",
        "function",
        "builtin_function_or_method",
        "instance",
        "_Feature"
      ],
      "window_display": false
    },
    "colab": {
      "name": "testing notebook.ipynb",
      "provenance": [],
      "include_colab_link": true
    }
  },
  "cells": [
    {
      "cell_type": "markdown",
      "metadata": {
        "id": "view-in-github",
        "colab_type": "text"
      },
      "source": [
        "<a href=\"https://colab.research.google.com/github/Inventrohyder/datartistry/blob/jupyter-test/testing%20notebook.ipynb\" target=\"_parent\"><img src=\"https://colab.research.google.com/assets/colab-badge.svg\" alt=\"Open In Colab\"/></a>"
      ]
    },
    {
      "cell_type": "code",
      "metadata": {
        "id": "72uKCfpt1WtG",
        "colab_type": "code",
        "colab": {
          "base_uri": "https://localhost:8080/",
          "height": 187
        },
        "outputId": "58a4e953-f519-4b09-e4bc-c410dd34bc42"
      },
      "source": [
        "# Clone the entire repo.\n",
        "!git clone -l -s git://github.com/Inventrohyder/datartistry.git datartistry\n",
        "%cd datartistry/\n",
        "!ls"
      ],
      "execution_count": 1,
      "outputs": [
        {
          "output_type": "stream",
          "text": [
            "Cloning into 'datartistry'...\n",
            "warning: --local is ignored\n",
            "remote: Enumerating objects: 452, done.\u001b[K\n",
            "remote: Counting objects:   0% (1/452)\u001b[K\rremote: Counting objects:   1% (5/452)\u001b[K\rremote: Counting objects:   2% (10/452)\u001b[K\rremote: Counting objects:   3% (14/452)\u001b[K\rremote: Counting objects:   4% (19/452)\u001b[K\rremote: Counting objects:   5% (23/452)\u001b[K\rremote: Counting objects:   6% (28/452)\u001b[K\rremote: Counting objects:   7% (32/452)\u001b[K\rremote: Counting objects:   8% (37/452)\u001b[K\rremote: Counting objects:   9% (41/452)\u001b[K\rremote: Counting objects:  10% (46/452)\u001b[K\rremote: Counting objects:  11% (50/452)\u001b[K\rremote: Counting objects:  12% (55/452)\u001b[K\rremote: Counting objects:  13% (59/452)\u001b[K\rremote: Counting objects:  14% (64/452)\u001b[K\rremote: Counting objects:  15% (68/452)\u001b[K\rremote: Counting objects:  16% (73/452)\u001b[K\rremote: Counting objects:  17% (77/452)\u001b[K\rremote: Counting objects:  18% (82/452)\u001b[K\rremote: Counting objects:  19% (86/452)\u001b[K\rremote: Counting objects:  20% (91/452)\u001b[K\rremote: Counting objects:  21% (95/452)\u001b[K\rremote: Counting objects:  22% (100/452)\u001b[K\rremote: Counting objects:  23% (104/452)\u001b[K\rremote: Counting objects:  24% (109/452)\u001b[K\rremote: Counting objects:  25% (113/452)\u001b[K\rremote: Counting objects:  26% (118/452)\u001b[K\rremote: Counting objects:  27% (123/452)\u001b[K\rremote: Counting objects:  28% (127/452)\u001b[K\rremote: Counting objects:  29% (132/452)\u001b[K\rremote: Counting objects:  30% (136/452)\u001b[K\rremote: Counting objects:  31% (141/452)\u001b[K\rremote: Counting objects:  32% (145/452)\u001b[K\rremote: Counting objects:  33% (150/452)\u001b[K\rremote: Counting objects:  34% (154/452)\u001b[K\rremote: Counting objects:  35% (159/452)\u001b[K\rremote: Counting objects:  36% (163/452)\u001b[K\rremote: Counting objects:  37% (168/452)\u001b[K\rremote: Counting objects:  38% (172/452)\u001b[K\rremote: Counting objects:  39% (177/452)\u001b[K\rremote: Counting objects:  40% (181/452)\u001b[K\rremote: Counting objects:  41% (186/452)\u001b[K\rremote: Counting objects:  42% (190/452)\u001b[K\rremote: Counting objects:  43% (195/452)\u001b[K\rremote: Counting objects:  44% (199/452)\u001b[K\rremote: Counting objects:  45% (204/452)\u001b[K\rremote: Counting objects:  46% (208/452)\u001b[K\rremote: Counting objects:  47% (213/452)\u001b[K\rremote: Counting objects:  48% (217/452)\u001b[K\rremote: Counting objects:  49% (222/452)\u001b[K\rremote: Counting objects:  50% (226/452)\u001b[K\rremote: Counting objects:  51% (231/452)\u001b[K\rremote: Counting objects:  52% (236/452)\u001b[K\rremote: Counting objects:  53% (240/452)\u001b[K\rremote: Counting objects:  54% (245/452)\u001b[K\rremote: Counting objects:  55% (249/452)\u001b[K\rremote: Counting objects:  56% (254/452)\u001b[K\rremote: Counting objects:  57% (258/452)\u001b[K\rremote: Counting objects:  58% (263/452)\u001b[K\rremote: Counting objects:  59% (267/452)\u001b[K\rremote: Counting objects:  60% (272/452)\u001b[K\rremote: Counting objects:  61% (276/452)\u001b[K\rremote: Counting objects:  62% (281/452)\u001b[K\rremote: Counting objects:  63% (285/452)\u001b[K\rremote: Counting objects:  64% (290/452)\u001b[K\rremote: Counting objects:  65% (294/452)\u001b[K\rremote: Counting objects:  66% (299/452)\u001b[K\rremote: Counting objects:  67% (303/452)\u001b[K\rremote: Counting objects:  68% (308/452)\u001b[K\rremote: Counting objects:  69% (312/452)\u001b[K\rremote: Counting objects:  70% (317/452)\u001b[K\rremote: Counting objects:  71% (321/452)\u001b[K\rremote: Counting objects:  72% (326/452)\u001b[K\rremote: Counting objects:  73% (330/452)\u001b[K\rremote: Counting objects:  74% (335/452)\u001b[K\rremote: Counting objects:  75% (339/452)\u001b[K\rremote: Counting objects:  76% (344/452)\u001b[K\rremote: Counting objects:  77% (349/452)\u001b[K\rremote: Counting objects:  78% (353/452)\u001b[K\rremote: Counting objects:  79% (358/452)\u001b[K\rremote: Counting objects:  80% (362/452)\u001b[K\rremote: Counting objects:  81% (367/452)\u001b[K\rremote: Counting objects:  82% (371/452)\u001b[K\rremote: Counting objects:  83% (376/452)\u001b[K\rremote: Counting objects:  84% (380/452)\u001b[K\rremote: Counting objects:  85% (385/452)\u001b[K\rremote: Counting objects:  86% (389/452)\u001b[K\rremote: Counting objects:  87% (394/452)\u001b[K\rremote: Counting objects:  88% (398/452)\u001b[K\rremote: Counting objects:  89% (403/452)\u001b[K\rremote: Counting objects:  90% (407/452)\u001b[K\rremote: Counting objects:  91% (412/452)\u001b[K\rremote: Counting objects:  92% (416/452)\u001b[K\rremote: Counting objects:  93% (421/452)\u001b[K\rremote: Counting objects:  94% (425/452)\u001b[K\rremote: Counting objects:  95% (430/452)\u001b[K\rremote: Counting objects:  96% (434/452)\u001b[K\rremote: Counting objects:  97% (439/452)\u001b[K\rremote: Counting objects:  98% (443/452)\u001b[K\rremote: Counting objects:  99% (448/452)\u001b[K\rremote: Counting objects: 100% (452/452)\u001b[K\rremote: Counting objects: 100% (452/452), done.\u001b[K\n",
            "remote: Compressing objects:   0% (1/260)\u001b[K\rremote: Compressing objects:   1% (3/260)\u001b[K\rremote: Compressing objects:   2% (6/260)\u001b[K\rremote: Compressing objects:   3% (8/260)\u001b[K\rremote: Compressing objects:   4% (11/260)\u001b[K\rremote: Compressing objects:   5% (13/260)\u001b[K\rremote: Compressing objects:   6% (16/260)\u001b[K\rremote: Compressing objects:   7% (19/260)\u001b[K\rremote: Compressing objects:   8% (21/260)\u001b[K\rremote: Compressing objects:   9% (24/260)\u001b[K\rremote: Compressing objects:  10% (26/260)\u001b[K\rremote: Compressing objects:  11% (29/260)\u001b[K\rremote: Compressing objects:  12% (32/260)\u001b[K\rremote: Compressing objects:  13% (34/260)\u001b[K\rremote: Compressing objects:  14% (37/260)\u001b[K\rremote: Compressing objects:  15% (39/260)\u001b[K\rremote: Compressing objects:  16% (42/260)\u001b[K\rremote: Compressing objects:  17% (45/260)\u001b[K\rremote: Compressing objects:  18% (47/260)\u001b[K\rremote: Compressing objects:  19% (50/260)\u001b[K\rremote: Compressing objects:  20% (52/260)\u001b[K\rremote: Compressing objects:  21% (55/260)\u001b[K\rremote: Compressing objects:  22% (58/260)\u001b[K\rremote: Compressing objects:  23% (60/260)\u001b[K\rremote: Compressing objects:  24% (63/260)\u001b[K\rremote: Compressing objects:  25% (65/260)\u001b[K\rremote: Compressing objects:  26% (68/260)\u001b[K\rremote: Compressing objects:  27% (71/260)\u001b[K\rremote: Compressing objects:  28% (73/260)\u001b[K\rremote: Compressing objects:  29% (76/260)\u001b[K\rremote: Compressing objects:  30% (78/260)\u001b[K\rremote: Compressing objects:  31% (81/260)\u001b[K\rremote: Compressing objects:  32% (84/260)\u001b[K\rremote: Compressing objects:  33% (86/260)\u001b[K\rremote: Compressing objects:  34% (89/260)\rremote: Compressing objects:  35% (91/260)\u001b[K\rremote: Compressing objects:  36% (94/260)\u001b[K\rremote: Compressing objects:  37% (97/260)\u001b[K\rremote: Compressing objects:  38% (99/260)\u001b[K\rremote: Compressing objects:  39% (102/260)\u001b[K\rremote: Compressing objects:  40% (104/260)\u001b[K\rremote: Compressing objects:  41% (107/260)\u001b[K\rremote: Compressing objects:  42% (110/260)\u001b[K\rremote: Compressing objects:  43% (112/260)\u001b[K\rremote: Compressing objects:  44% (115/260)\u001b[K\rremote: Compressing objects:  45% (117/260)\u001b[K\rremote: Compressing objects:  46% (120/260)\u001b[K\rremote: Compressing objects:  47% (123/260)\u001b[K\rremote: Compressing objects:  48% (125/260)\u001b[K\rremote: Compressing objects:  49% (128/260)\u001b[K\rremote: Compressing objects:  50% (130/260)\u001b[K\rremote: Compressing objects:  51% (133/260)\u001b[K\rremote: Compressing objects:  52% (136/260)\u001b[K\rremote: Compressing objects:  53% (138/260)\u001b[K\rremote: Compressing objects:  54% (141/260)\u001b[K\rremote: Compressing objects:  55% (143/260)\u001b[K\rremote: Compressing objects:  56% (146/260)\u001b[K\rremote: Compressing objects:  57% (149/260)\u001b[K\rremote: Compressing objects:  58% (151/260)\u001b[K\rremote: Compressing objects:  59% (154/260)\rremote: Compressing objects:  60% (156/260)\u001b[K\rremote: Compressing objects:  61% (159/260)\u001b[K\rremote: Compressing objects:  62% (162/260)\u001b[K\rremote: Compressing objects:  63% (164/260)\u001b[K\rremote: Compressing objects:  64% (167/260)\u001b[K\rremote: Compressing objects:  65% (169/260)\u001b[K\rremote: Compressing objects:  66% (172/260)\u001b[K\rremote: Compressing objects:  67% (175/260)\u001b[K\rremote: Compressing objects:  68% (177/260)\u001b[K\rremote: Compressing objects:  69% (180/260)\u001b[K\rremote: Compressing objects:  70% (182/260)\u001b[K\rremote: Compressing objects:  71% (185/260)\u001b[K\rremote: Compressing objects:  72% (188/260)\u001b[K\rremote: Compressing objects:  73% (190/260)\u001b[K\rremote: Compressing objects:  74% (193/260)\u001b[K\rremote: Compressing objects:  75% (195/260)\u001b[K\rremote: Compressing objects:  76% (198/260)\u001b[K\rremote: Compressing objects:  77% (201/260)\u001b[K\rremote: Compressing objects:  78% (203/260)\u001b[K\rremote: Compressing objects:  79% (206/260)\u001b[K\rremote: Compressing objects:  80% (208/260)\u001b[K\rremote: Compressing objects:  81% (211/260)\u001b[K\rremote: Compressing objects:  82% (214/260)\u001b[K\rremote: Compressing objects:  83% (216/260)\u001b[K\rremote: Compressing objects:  84% (219/260)\u001b[K\rremote: Compressing objects:  85% (221/260)\u001b[K\rremote: Compressing objects:  86% (224/260)\u001b[K\rremote: Compressing objects:  87% (227/260)\u001b[K\rremote: Compressing objects:  88% (229/260)\u001b[K\rremote: Compressing objects:  89% (232/260)\u001b[K\rremote: Compressing objects:  90% (234/260)\u001b[K\rremote: Compressing objects:  91% (237/260)\u001b[K\rremote: Compressing objects:  92% (240/260)\u001b[K\rremote: Compressing objects:  93% (242/260)\u001b[K\rremote: Compressing objects:  94% (245/260)\u001b[K\rremote: Compressing objects:  95% (247/260)\u001b[K\rremote: Compressing objects:  96% (250/260)\u001b[K\rremote: Compressing objects:  97% (253/260)\u001b[K\rremote: Compressing objects:  98% (255/260)\u001b[K\rremote: Compressing objects:  99% (258/260)\u001b[K\rremote: Compressing objects: 100% (260/260)\u001b[K\rremote: Compressing objects: 100% (260/260), done.\u001b[K\n",
            "Receiving objects:   0% (1/452)   \rReceiving objects:   1% (5/452)   \rReceiving objects:   2% (10/452)   \rReceiving objects:   3% (14/452)   \rReceiving objects:   4% (19/452)   \rReceiving objects:   5% (23/452)   \rReceiving objects:   6% (28/452)   \rReceiving objects:   7% (32/452)   \rReceiving objects:   8% (37/452)   \rReceiving objects:   9% (41/452)   \rReceiving objects:  10% (46/452)   \rReceiving objects:  11% (50/452)   \rReceiving objects:  12% (55/452)   \rReceiving objects:  13% (59/452)   \rReceiving objects:  14% (64/452)   \rReceiving objects:  15% (68/452)   \rReceiving objects:  16% (73/452)   \rReceiving objects:  17% (77/452)   \rReceiving objects:  18% (82/452)   \rReceiving objects:  19% (86/452)   \rReceiving objects:  20% (91/452)   \rReceiving objects:  21% (95/452)   \rReceiving objects:  22% (100/452)   \rReceiving objects:  23% (104/452)   \rReceiving objects:  24% (109/452)   \rReceiving objects:  25% (113/452)   \rReceiving objects:  26% (118/452)   \rReceiving objects:  27% (123/452)   \rReceiving objects:  28% (127/452)   \rReceiving objects:  29% (132/452)   \rReceiving objects:  30% (136/452)   \rReceiving objects:  31% (141/452)   \rReceiving objects:  32% (145/452)   \rReceiving objects:  33% (150/452)   \rReceiving objects:  34% (154/452)   \rReceiving objects:  35% (159/452)   \rReceiving objects:  36% (163/452)   \rReceiving objects:  37% (168/452)   \rReceiving objects:  38% (172/452)   \rReceiving objects:  39% (177/452)   \rReceiving objects:  40% (181/452)   \rReceiving objects:  41% (186/452)   \rReceiving objects:  42% (190/452)   \rReceiving objects:  43% (195/452)   \rReceiving objects:  44% (199/452)   \rReceiving objects:  45% (204/452)   \rReceiving objects:  46% (208/452)   \rReceiving objects:  47% (213/452)   \rReceiving objects:  48% (217/452), 4.32 MiB | 8.62 MiB/s   \rReceiving objects:  48% (220/452), 14.85 MiB | 14.84 MiB/s   \rReceiving objects:  49% (222/452), 14.85 MiB | 14.84 MiB/s   \rReceiving objects:  49% (225/452), 40.39 MiB | 20.19 MiB/s   \rReceiving objects:  50% (226/452), 40.39 MiB | 20.19 MiB/s   \rReceiving objects:  51% (231/452), 40.39 MiB | 20.19 MiB/s   \rReceiving objects:  52% (236/452), 40.39 MiB | 20.19 MiB/s   \rReceiving objects:  53% (240/452), 40.39 MiB | 20.19 MiB/s   \rReceiving objects:  54% (245/452), 40.39 MiB | 20.19 MiB/s   \rReceiving objects:  55% (249/452), 40.39 MiB | 20.19 MiB/s   \rReceiving objects:  56% (254/452), 40.39 MiB | 20.19 MiB/s   \rReceiving objects:  57% (258/452), 40.39 MiB | 20.19 MiB/s   \rReceiving objects:  58% (263/452), 40.39 MiB | 20.19 MiB/s   \rReceiving objects:  59% (267/452), 40.39 MiB | 20.19 MiB/s   \rReceiving objects:  60% (272/452), 40.39 MiB | 20.19 MiB/s   \rReceiving objects:  61% (276/452), 40.39 MiB | 20.19 MiB/s   \rReceiving objects:  62% (281/452), 40.39 MiB | 20.19 MiB/s   \rReceiving objects:  63% (285/452), 40.39 MiB | 20.19 MiB/s   \rReceiving objects:  64% (290/452), 40.39 MiB | 20.19 MiB/s   \rReceiving objects:  65% (294/452), 40.39 MiB | 20.19 MiB/s   \rReceiving objects:  66% (299/452), 40.39 MiB | 20.19 MiB/s   \rReceiving objects:  67% (303/452), 40.39 MiB | 20.19 MiB/s   \rReceiving objects:  68% (308/452), 40.39 MiB | 20.19 MiB/s   \rReceiving objects:  69% (312/452), 40.39 MiB | 20.19 MiB/s   \rReceiving objects:  70% (317/452), 40.39 MiB | 20.19 MiB/s   \rReceiving objects:  71% (321/452), 40.39 MiB | 20.19 MiB/s   \rReceiving objects:  72% (326/452), 40.39 MiB | 20.19 MiB/s   \rReceiving objects:  73% (330/452), 40.39 MiB | 20.19 MiB/s   \rReceiving objects:  74% (335/452), 40.39 MiB | 20.19 MiB/s   \rReceiving objects:  75% (339/452), 40.39 MiB | 20.19 MiB/s   \rReceiving objects:  76% (344/452), 40.39 MiB | 20.19 MiB/s   \rReceiving objects:  77% (349/452), 40.39 MiB | 20.19 MiB/s   \rReceiving objects:  78% (353/452), 40.39 MiB | 20.19 MiB/s   \rReceiving objects:  79% (358/452), 40.39 MiB | 20.19 MiB/s   \rReceiving objects:  80% (362/452), 40.39 MiB | 20.19 MiB/s   \rReceiving objects:  81% (367/452), 40.39 MiB | 20.19 MiB/s   \rReceiving objects:  82% (371/452), 40.39 MiB | 20.19 MiB/s   \rReceiving objects:  83% (376/452), 40.39 MiB | 20.19 MiB/s   \rReceiving objects:  84% (380/452), 40.39 MiB | 20.19 MiB/s   \rReceiving objects:  85% (385/452), 40.39 MiB | 20.19 MiB/s   \rReceiving objects:  86% (389/452), 40.39 MiB | 20.19 MiB/s   \rReceiving objects:  87% (394/452), 40.39 MiB | 20.19 MiB/s   \rReceiving objects:  88% (398/452), 40.39 MiB | 20.19 MiB/s   \rReceiving objects:  89% (403/452), 40.39 MiB | 20.19 MiB/s   \rReceiving objects:  90% (407/452), 40.39 MiB | 20.19 MiB/s   \rReceiving objects:  91% (412/452), 40.39 MiB | 20.19 MiB/s   \rReceiving objects:  92% (416/452), 40.39 MiB | 20.19 MiB/s   \rReceiving objects:  93% (421/452), 40.39 MiB | 20.19 MiB/s   \rReceiving objects:  94% (425/452), 40.39 MiB | 20.19 MiB/s   \rReceiving objects:  95% (430/452), 40.39 MiB | 20.19 MiB/s   \rReceiving objects:  96% (434/452), 40.39 MiB | 20.19 MiB/s   \rReceiving objects:  97% (439/452), 40.39 MiB | 20.19 MiB/s   \rReceiving objects:  98% (443/452), 40.39 MiB | 20.19 MiB/s   \rReceiving objects:  99% (448/452), 40.39 MiB | 20.19 MiB/s   \rremote: Total 452 (delta 171), reused 439 (delta 163), pack-reused 0\u001b[K\n",
            "Receiving objects: 100% (452/452), 40.39 MiB | 20.19 MiB/s   \rReceiving objects: 100% (452/452), 54.00 MiB | 22.58 MiB/s, done.\n",
            "Resolving deltas:   0% (0/171)   \rResolving deltas:   3% (6/171)   \rResolving deltas:   7% (12/171)   \rResolving deltas:   8% (14/171)   \rResolving deltas:  13% (23/171)   \rResolving deltas:  15% (26/171)   \rResolving deltas:  22% (38/171)   \rResolving deltas:  26% (45/171)   \rResolving deltas:  29% (51/171)   \rResolving deltas:  30% (52/171)   \rResolving deltas:  31% (54/171)   \rResolving deltas:  33% (57/171)   \rResolving deltas:  36% (62/171)   \rResolving deltas:  38% (65/171)   \rResolving deltas:  40% (69/171)   \rResolving deltas:  41% (71/171)   \rResolving deltas:  45% (78/171)   \rResolving deltas:  46% (79/171)   \rResolving deltas:  47% (82/171)   \rResolving deltas:  51% (88/171)   \rResolving deltas:  52% (89/171)   \rResolving deltas:  54% (94/171)   \rResolving deltas:  56% (96/171)   \rResolving deltas:  57% (98/171)   \rResolving deltas:  58% (100/171)   \rResolving deltas:  59% (102/171)   \rResolving deltas:  60% (103/171)   \rResolving deltas:  61% (105/171)   \rResolving deltas:  63% (109/171)   \rResolving deltas:  64% (110/171)   \rResolving deltas:  67% (116/171)   \rResolving deltas:  78% (134/171)   \rResolving deltas:  79% (136/171)   \rResolving deltas:  80% (137/171)   \rResolving deltas:  85% (146/171)   \rResolving deltas:  90% (155/171)   \rResolving deltas:  91% (156/171)   \rResolving deltas:  92% (158/171)   \rResolving deltas:  94% (161/171)   \rResolving deltas:  95% (163/171)   \rResolving deltas:  96% (165/171)   \rResolving deltas:  97% (167/171)   \rResolving deltas:  98% (168/171)   \rResolving deltas:  99% (170/171)   \rResolving deltas: 100% (171/171)   \rResolving deltas: 100% (171/171), done.\n",
            "/content/datartistry\n",
            "bin  changelog.md  confs  data\t__init__.py  README.md\trequirements.txt\n"
          ],
          "name": "stdout"
        }
      ]
    },
    {
      "cell_type": "code",
      "metadata": {
        "id": "LC16yvPI1tWL",
        "colab_type": "code",
        "colab": {
          "base_uri": "https://localhost:8080/",
          "height": 1000
        },
        "outputId": "bfcb19e6-8d22-4523-a36d-63f531165a9f"
      },
      "source": [
        "!pip install -r requirements.txt"
      ],
      "execution_count": 2,
      "outputs": [
        {
          "output_type": "stream",
          "text": [
            "Collecting gensim==3.7.1\n",
            "\u001b[?25l  Downloading https://files.pythonhosted.org/packages/d7/b9/6c93685bed0026b6a1cce55ab173f6b617f6db0d1325d25489c2fd43e711/gensim-3.7.1-cp36-cp36m-manylinux1_x86_64.whl (24.2MB)\n",
            "\u001b[K     |████████████████████████████████| 24.2MB 1.4MB/s \n",
            "\u001b[?25hCollecting pandas==0.24.2\n",
            "\u001b[?25l  Downloading https://files.pythonhosted.org/packages/19/74/e50234bc82c553fecdbd566d8650801e3fe2d6d8c8d940638e3d8a7c5522/pandas-0.24.2-cp36-cp36m-manylinux1_x86_64.whl (10.1MB)\n",
            "\u001b[K     |████████████████████████████████| 10.1MB 44.6MB/s \n",
            "\u001b[?25hCollecting pdfminer.six==20181108\n",
            "\u001b[?25l  Downloading https://files.pythonhosted.org/packages/8a/fd/6e8746e6965d1a7ea8e97253e3d79e625da5547e8f376f88de5d024bacb9/pdfminer.six-20181108-py2.py3-none-any.whl (5.6MB)\n",
            "\u001b[K     |████████████████████████████████| 5.6MB 25.8MB/s \n",
            "\u001b[?25hCollecting spacy==2.1.3\n",
            "\u001b[?25l  Downloading https://files.pythonhosted.org/packages/52/da/3a1c54694c2d2f40df82f38a19ae14c6eb24a5a1a0dae87205ebea7a84d8/spacy-2.1.3-cp36-cp36m-manylinux1_x86_64.whl (27.7MB)\n",
            "\u001b[K     |████████████████████████████████| 27.7MB 147kB/s \n",
            "\u001b[?25hCollecting PyYAML==5.1\n",
            "\u001b[?25l  Downloading https://files.pythonhosted.org/packages/9f/2c/9417b5c774792634834e730932745bc09a7d36754ca00acf1ccd1ac2594d/PyYAML-5.1.tar.gz (274kB)\n",
            "\u001b[K     |████████████████████████████████| 276kB 49.3MB/s \n",
            "\u001b[?25hRequirement already satisfied: numpy>=1.11.3 in /usr/local/lib/python3.6/dist-packages (from gensim==3.7.1->-r requirements.txt (line 1)) (1.18.5)\n",
            "Requirement already satisfied: scipy>=0.18.1 in /usr/local/lib/python3.6/dist-packages (from gensim==3.7.1->-r requirements.txt (line 1)) (1.4.1)\n",
            "Requirement already satisfied: smart-open>=1.7.0 in /usr/local/lib/python3.6/dist-packages (from gensim==3.7.1->-r requirements.txt (line 1)) (2.0.0)\n",
            "Requirement already satisfied: six>=1.5.0 in /usr/local/lib/python3.6/dist-packages (from gensim==3.7.1->-r requirements.txt (line 1)) (1.12.0)\n",
            "Requirement already satisfied: pytz>=2011k in /usr/local/lib/python3.6/dist-packages (from pandas==0.24.2->-r requirements.txt (line 2)) (2018.9)\n",
            "Requirement already satisfied: python-dateutil>=2.5.0 in /usr/local/lib/python3.6/dist-packages (from pandas==0.24.2->-r requirements.txt (line 2)) (2.8.1)\n",
            "Requirement already satisfied: sortedcontainers in /usr/local/lib/python3.6/dist-packages (from pdfminer.six==20181108->-r requirements.txt (line 3)) (2.2.2)\n",
            "Collecting pycryptodome\n",
            "\u001b[?25l  Downloading https://files.pythonhosted.org/packages/17/55/17fa0b55849dc135f7bc400993a9206bf06d1b5d9520b0bc8d47c57aaef5/pycryptodome-3.9.8-cp36-cp36m-manylinux1_x86_64.whl (13.7MB)\n",
            "\u001b[K     |████████████████████████████████| 13.7MB 42.4MB/s \n",
            "\u001b[?25hRequirement already satisfied: jsonschema<3.0.0,>=2.6.0 in /usr/local/lib/python3.6/dist-packages (from spacy==2.1.3->-r requirements.txt (line 4)) (2.6.0)\n",
            "Collecting blis<0.3.0,>=0.2.2\n",
            "\u001b[?25l  Downloading https://files.pythonhosted.org/packages/34/46/b1d0bb71d308e820ed30316c5f0a017cb5ef5f4324bcbc7da3cf9d3b075c/blis-0.2.4-cp36-cp36m-manylinux1_x86_64.whl (3.2MB)\n",
            "\u001b[K     |████████████████████████████████| 3.2MB 42.1MB/s \n",
            "\u001b[?25hCollecting plac<1.0.0,>=0.9.6\n",
            "  Downloading https://files.pythonhosted.org/packages/9e/9b/62c60d2f5bc135d2aa1d8c8a86aaf84edb719a59c7f11a4316259e61a298/plac-0.9.6-py2.py3-none-any.whl\n",
            "Collecting thinc<7.1.0,>=7.0.2\n",
            "\u001b[?25l  Downloading https://files.pythonhosted.org/packages/18/a5/9ace20422e7bb1bdcad31832ea85c52a09900cd4a7ce711246bfb92206ba/thinc-7.0.8-cp36-cp36m-manylinux1_x86_64.whl (2.1MB)\n",
            "\u001b[K     |████████████████████████████████| 2.1MB 38.4MB/s \n",
            "\u001b[?25hRequirement already satisfied: srsly<1.1.0,>=0.0.5 in /usr/local/lib/python3.6/dist-packages (from spacy==2.1.3->-r requirements.txt (line 4)) (1.0.2)\n",
            "Requirement already satisfied: wasabi<1.1.0,>=0.2.0 in /usr/local/lib/python3.6/dist-packages (from spacy==2.1.3->-r requirements.txt (line 4)) (0.7.0)\n",
            "Collecting preshed<2.1.0,>=2.0.1\n",
            "\u001b[?25l  Downloading https://files.pythonhosted.org/packages/20/93/f222fb957764a283203525ef20e62008675fd0a14ffff8cc1b1490147c63/preshed-2.0.1-cp36-cp36m-manylinux1_x86_64.whl (83kB)\n",
            "\u001b[K     |████████████████████████████████| 92kB 11.0MB/s \n",
            "\u001b[?25hRequirement already satisfied: cymem<2.1.0,>=2.0.2 in /usr/local/lib/python3.6/dist-packages (from spacy==2.1.3->-r requirements.txt (line 4)) (2.0.3)\n",
            "Requirement already satisfied: murmurhash<1.1.0,>=0.28.0 in /usr/local/lib/python3.6/dist-packages (from spacy==2.1.3->-r requirements.txt (line 4)) (1.0.2)\n",
            "Requirement already satisfied: requests<3.0.0,>=2.13.0 in /usr/local/lib/python3.6/dist-packages (from spacy==2.1.3->-r requirements.txt (line 4)) (2.23.0)\n",
            "Requirement already satisfied: boto in /usr/local/lib/python3.6/dist-packages (from smart-open>=1.7.0->gensim==3.7.1->-r requirements.txt (line 1)) (2.49.0)\n",
            "Requirement already satisfied: boto3 in /usr/local/lib/python3.6/dist-packages (from smart-open>=1.7.0->gensim==3.7.1->-r requirements.txt (line 1)) (1.14.9)\n",
            "Requirement already satisfied: tqdm<5.0.0,>=4.10.0 in /usr/local/lib/python3.6/dist-packages (from thinc<7.1.0,>=7.0.2->spacy==2.1.3->-r requirements.txt (line 4)) (4.41.1)\n",
            "Requirement already satisfied: certifi>=2017.4.17 in /usr/local/lib/python3.6/dist-packages (from requests<3.0.0,>=2.13.0->spacy==2.1.3->-r requirements.txt (line 4)) (2020.6.20)\n",
            "Requirement already satisfied: chardet<4,>=3.0.2 in /usr/local/lib/python3.6/dist-packages (from requests<3.0.0,>=2.13.0->spacy==2.1.3->-r requirements.txt (line 4)) (3.0.4)\n",
            "Requirement already satisfied: idna<3,>=2.5 in /usr/local/lib/python3.6/dist-packages (from requests<3.0.0,>=2.13.0->spacy==2.1.3->-r requirements.txt (line 4)) (2.9)\n",
            "Requirement already satisfied: urllib3!=1.25.0,!=1.25.1,<1.26,>=1.21.1 in /usr/local/lib/python3.6/dist-packages (from requests<3.0.0,>=2.13.0->spacy==2.1.3->-r requirements.txt (line 4)) (1.24.3)\n",
            "Requirement already satisfied: jmespath<1.0.0,>=0.7.1 in /usr/local/lib/python3.6/dist-packages (from boto3->smart-open>=1.7.0->gensim==3.7.1->-r requirements.txt (line 1)) (0.10.0)\n",
            "Requirement already satisfied: s3transfer<0.4.0,>=0.3.0 in /usr/local/lib/python3.6/dist-packages (from boto3->smart-open>=1.7.0->gensim==3.7.1->-r requirements.txt (line 1)) (0.3.3)\n",
            "Requirement already satisfied: botocore<1.18.0,>=1.17.9 in /usr/local/lib/python3.6/dist-packages (from boto3->smart-open>=1.7.0->gensim==3.7.1->-r requirements.txt (line 1)) (1.17.9)\n",
            "Requirement already satisfied: docutils<0.16,>=0.10 in /usr/local/lib/python3.6/dist-packages (from botocore<1.18.0,>=1.17.9->boto3->smart-open>=1.7.0->gensim==3.7.1->-r requirements.txt (line 1)) (0.15.2)\n",
            "Building wheels for collected packages: PyYAML\n",
            "  Building wheel for PyYAML (setup.py) ... \u001b[?25l\u001b[?25hdone\n",
            "  Created wheel for PyYAML: filename=PyYAML-5.1-cp36-cp36m-linux_x86_64.whl size=44074 sha256=8e9807d0d5e274038ebcfb50f8a7838922ba3d2e124ffa4881ca5a58052d3409\n",
            "  Stored in directory: /root/.cache/pip/wheels/ad/56/bc/1522f864feb2a358ea6f1a92b4798d69ac783a28e80567a18b\n",
            "Successfully built PyYAML\n",
            "\u001b[31mERROR: xarray 0.15.1 has requirement pandas>=0.25, but you'll have pandas 0.24.2 which is incompatible.\u001b[0m\n",
            "\u001b[31mERROR: plotnine 0.6.0 has requirement pandas>=0.25.0, but you'll have pandas 0.24.2 which is incompatible.\u001b[0m\n",
            "\u001b[31mERROR: mizani 0.6.0 has requirement pandas>=0.25.0, but you'll have pandas 0.24.2 which is incompatible.\u001b[0m\n",
            "\u001b[31mERROR: google-colab 1.0.0 has requirement pandas~=1.0.0; python_version >= \"3.0\", but you'll have pandas 0.24.2 which is incompatible.\u001b[0m\n",
            "\u001b[31mERROR: en-core-web-sm 2.2.5 has requirement spacy>=2.2.2, but you'll have spacy 2.1.3 which is incompatible.\u001b[0m\n",
            "Installing collected packages: gensim, pandas, pycryptodome, pdfminer.six, blis, plac, preshed, thinc, spacy, PyYAML\n",
            "  Found existing installation: gensim 3.6.0\n",
            "    Uninstalling gensim-3.6.0:\n",
            "      Successfully uninstalled gensim-3.6.0\n",
            "  Found existing installation: pandas 1.0.5\n",
            "    Uninstalling pandas-1.0.5:\n",
            "      Successfully uninstalled pandas-1.0.5\n",
            "  Found existing installation: blis 0.4.1\n",
            "    Uninstalling blis-0.4.1:\n",
            "      Successfully uninstalled blis-0.4.1\n",
            "  Found existing installation: plac 1.1.3\n",
            "    Uninstalling plac-1.1.3:\n",
            "      Successfully uninstalled plac-1.1.3\n",
            "  Found existing installation: preshed 3.0.2\n",
            "    Uninstalling preshed-3.0.2:\n",
            "      Successfully uninstalled preshed-3.0.2\n",
            "  Found existing installation: thinc 7.4.0\n",
            "    Uninstalling thinc-7.4.0:\n",
            "      Successfully uninstalled thinc-7.4.0\n",
            "  Found existing installation: spacy 2.2.4\n",
            "    Uninstalling spacy-2.2.4:\n",
            "      Successfully uninstalled spacy-2.2.4\n",
            "  Found existing installation: PyYAML 3.13\n",
            "    Uninstalling PyYAML-3.13:\n",
            "      Successfully uninstalled PyYAML-3.13\n",
            "Successfully installed PyYAML-5.1 blis-0.2.4 gensim-3.7.1 pandas-0.24.2 pdfminer.six-20181108 plac-0.9.6 preshed-2.0.1 pycryptodome-3.9.8 spacy-2.1.3 thinc-7.0.8\n"
          ],
          "name": "stdout"
        },
        {
          "output_type": "display_data",
          "data": {
            "application/vnd.colab-display-data+json": {
              "pip_warning": {
                "packages": [
                  "pandas"
                ]
              }
            }
          },
          "metadata": {
            "tags": []
          }
        }
      ]
    },
    {
      "cell_type": "markdown",
      "metadata": {
        "id": "GTXLZEqK3iXK",
        "colab_type": "text"
      },
      "source": [
        "**Ensure you restarted the runtime after the previous cell ran.**"
      ]
    },
    {
      "cell_type": "code",
      "metadata": {
        "id": "wYZRB6uA35Lq",
        "colab_type": "code",
        "colab": {
          "base_uri": "https://localhost:8080/",
          "height": 360
        },
        "outputId": "cba562b5-bf19-4fe6-cace-76d8bda4c71f"
      },
      "source": [
        "!python -m spacy download en"
      ],
      "execution_count": 1,
      "outputs": [
        {
          "output_type": "stream",
          "text": [
            "Collecting en_core_web_sm==2.1.0\n",
            "\u001b[?25l  Downloading https://github.com/explosion/spacy-models/releases/download/en_core_web_sm-2.1.0/en_core_web_sm-2.1.0.tar.gz (11.1MB)\n",
            "\u001b[K     |████████████████████████████████| 11.1MB 811kB/s \n",
            "\u001b[?25hBuilding wheels for collected packages: en-core-web-sm\n",
            "  Building wheel for en-core-web-sm (setup.py) ... \u001b[?25l\u001b[?25hdone\n",
            "  Created wheel for en-core-web-sm: filename=en_core_web_sm-2.1.0-cp36-none-any.whl size=11074435 sha256=2a558f497eff6c43c9caa2afe9a882a59728d4b0b9314b220df523ee2d92b4ec\n",
            "  Stored in directory: /tmp/pip-ephem-wheel-cache-9ncar_la/wheels/39/ea/3b/507f7df78be8631a7a3d7090962194cf55bc1158572c0be77f\n",
            "Successfully built en-core-web-sm\n",
            "Installing collected packages: en-core-web-sm\n",
            "  Found existing installation: en-core-web-sm 2.2.5\n",
            "    Uninstalling en-core-web-sm-2.2.5:\n",
            "      Successfully uninstalled en-core-web-sm-2.2.5\n",
            "Successfully installed en-core-web-sm-2.1.0\n",
            "\u001b[38;5;2m✔ Download and installation successful\u001b[0m\n",
            "You can now load the model via spacy.load('en_core_web_sm')\n",
            "\u001b[38;5;2m✔ Linking successful\u001b[0m\n",
            "/usr/local/lib/python3.6/dist-packages/en_core_web_sm -->\n",
            "/usr/local/lib/python3.6/dist-packages/spacy/data/en\n",
            "You can now load the model via spacy.load('en')\n"
          ],
          "name": "stdout"
        }
      ]
    },
    {
      "cell_type": "code",
      "metadata": {
        "id": "4m9SaNTn4FkP",
        "colab_type": "code",
        "colab": {}
      },
      "source": [
        "# Remove the current files in the output folder\n",
        "!rm -rf datartistry/data/output/*"
      ],
      "execution_count": 2,
      "outputs": []
    },
    {
      "cell_type": "code",
      "metadata": {
        "id": "QltL0YlQ6uAe",
        "colab_type": "code",
        "colab": {
          "base_uri": "https://localhost:8080/",
          "height": 1000
        },
        "outputId": "219f0cb0-2536-45c2-e604-1f85a0b5ebfc"
      },
      "source": [
        "# Run the main program to generate the output again\n",
        "%cd datartistry/bin/\n",
        "!python main.py"
      ],
      "execution_count": 3,
      "outputs": [
        {
          "output_type": "stream",
          "text": [
            "/content/datartistry/bin\n",
            "INFO:root:Begin extract\n",
            "WARNING:root:Confs path: ../confs/config.yaml does not exist. Attempting to load confs template, from path: ../confs/config.yaml.template\n",
            "/content/datartistry/bin/lib.py:33: YAMLLoadWarning: calling yaml.load() without Loader=... is deprecated, as the default Loader is unsafe. Please read https://msg.pyyaml.org/load for full details.\n",
            "  CONFS = yaml.load(open(confs_template_path))\n",
            "INFO:root:Found 5 candidate files\n",
            "INFO:root:Subset candidate files to extensions w/ available parsers. 5 files remain\n",
            "INFO:root:Writing text from ../data/input/example_resumes/Brendan_Herger_Resume.pdf to ../data/output/Brendan_Herger_Resume.txt\n",
            "INFO:pdfminer.pdfdocument:xref found: pos=b'116'\n",
            "INFO:pdfminer.pdfdocument:read_xref_from: start=116, token=/b'xref'\n",
            "INFO:pdfminer.pdfdocument:xref objects: {75: (None, 16, 0), 76: (None, 1835, 0), 77: (None, 2162, 0), 78: (None, 2242, 0), 79: (None, 2316, 0), 80: (None, 2385, 0), 81: (None, 2416, 0), 82: (None, 2511, 0), 83: (None, 2536, 0), 84: (None, 2661, 0), 85: (None, 3156, 0), 86: (None, 3216, 0), 87: (None, 3379, 0), 88: (None, 3541, 0), 89: (None, 3704, 0), 90: (None, 3867, 0), 91: (None, 4030, 0), 92: (None, 4192, 0), 93: (None, 4329, 0), 94: (None, 4771, 0), 95: (None, 5189, 0), 96: (None, 5225, 0), 97: (None, 6118, 0), 98: (None, 6851, 0), 99: (None, 7591, 0), 100: (None, 8362, 0), 101: (None, 9068, 0), 102: (None, 9875, 0), 103: (None, 10671, 0), 104: (None, 11358, 0), 105: (None, 11427, 0), 106: (None, 11498, 0), 107: (None, 11567, 0), 108: (None, 11640, 0), 109: (None, 11722, 0), 110: (None, 11801, 0), 111: (None, 14450, 0), 112: (None, 14564, 0), 113: (None, 14676, 0), 114: (None, 14746, 0), 115: (None, 14892, 0), 116: (None, 30906, 0), 117: (None, 31181, 0), 118: (None, 31855, 0), 119: (None, 31882, 0), 120: (None, 32555, 0), 121: (None, 44898, 0), 122: (None, 45159, 0), 123: (None, 45635, 0), 124: (None, 69588, 0), 125: (None, 69837, 0), 126: (None, 1668, 0), 127: (None, 1356, 0)}\n",
            "INFO:pdfminer.pdfdocument:trailer: {'Size': 128, 'Root': <PDFObjRef:76>, 'Info': <PDFObjRef:8>, 'ID': [b'\\xb4ri\\xf0C\\xb2@\\xd5\\x84-X@\\xe1<\\x90\\xd4', b'\\xb5OZ}_\\xaeGw\\x94[\\tea\\xc0L\\x9f'], 'Prev': 75870, 'XRefStm': 1668}\n",
            "INFO:pdfminer.pdfdocument:read_xref_from: start=1668, token=126\n",
            "INFO:pdfminer.pdfdocument:xref stream: objid=(9, 66), fields=1,1,1\n",
            "INFO:pdfminer.pdfdocument:trailer: {'DecodeParms': {'Columns': 3, 'Predictor': 12}, 'Filter': /'FlateDecode', 'Index': [9, 66], 'Length': 20, 'Size': 75, 'Type': /'XRef', 'W': [1, 1, 1]}\n",
            "INFO:pdfminer.pdfdocument:read_xref_from: start=75870, token=/b'xref'\n",
            "INFO:pdfminer.pdfdocument:xref objects: {1: (None, 70285, 0), 2: (None, 70331, 0), 3: (None, 70843, 0), 4: (None, 70885, 0), 5: (None, 72214, 0), 6: (None, 72912, 0), 7: (None, 72964, 0), 8: (None, 75688, 0)}\n",
            "INFO:pdfminer.pdfdocument:trailer: {'Size': 75, 'ID': [b'\\xb4ri\\xf0C\\xb2@\\xd5\\x84-X@\\xe1<\\x90\\xd4', b'\\xb5OZ}_\\xaeGw\\x94[\\tea\\xc0L\\x9f']}\n",
            "INFO:pdfminer.pdfdocument:trailer: {'Size': 128, 'Root': <PDFObjRef:76>, 'Info': <PDFObjRef:8>, 'ID': [b'\\xb4ri\\xf0C\\xb2@\\xd5\\x84-X@\\xe1<\\x90\\xd4', b'\\xb5OZ}_\\xaeGw\\x94[\\tea\\xc0L\\x9f'], 'Prev': 75870, 'XRefStm': 1668}\n",
            "INFO:pdfminer.pdfpage:Pages: Kids=[<PDFObjRef:84>]\n",
            "INFO:pdfminer.pdfpage:Page: {'Annots': <PDFObjRef:85>, 'ArtBox': [0.0, 0.0, 612.0, 792.0], 'BleedBox': [0.0, 0.0, 612.0, 792.0], 'Contents': [<PDFObjRef:96>, <PDFObjRef:97>, <PDFObjRef:98>, <PDFObjRef:99>, <PDFObjRef:100>, <PDFObjRef:101>, <PDFObjRef:102>, <PDFObjRef:103>], 'CropBox': [0.0, 0.0, 612.0, 792.0], 'MediaBox': [0.0, 0.0, 612.0, 792.0], 'Parent': <PDFObjRef:6>, 'Resources': {'ColorSpace': {'CS0': <PDFObjRef:95>}, 'ExtGState': {'GS0': <PDFObjRef:111>, 'GS1': <PDFObjRef:112>}, 'Font': {'C2_0': <PDFObjRef:92>, 'TT0': <PDFObjRef:93>, 'TT1': <PDFObjRef:94>}, 'ProcSet': [/'PDF', /'Text'], 'Properties': {'MC0': <PDFObjRef:78>, 'MC1': <PDFObjRef:79>}}, 'Rotate': 0, 'StructParents': 0, 'Tabs': /'S', 'Thumb': <PDFObjRef:5>, 'TrimBox': [0.0, 0.0, 612.0, 792.0], 'Type': /'Page'}\n",
            "INFO:pdfminer.pdfinterp:Processing page: <PDFPage: Resources={'ColorSpace': {'CS0': <PDFObjRef:95>}, 'ExtGState': {'GS0': <PDFObjRef:111>, 'GS1': <PDFObjRef:112>}, 'Font': {'C2_0': <PDFObjRef:92>, 'TT0': <PDFObjRef:93>, 'TT1': <PDFObjRef:94>}, 'ProcSet': [/'PDF', /'Text'], 'Properties': {'MC0': <PDFObjRef:78>, 'MC1': <PDFObjRef:79>}}, MediaBox=[0.0, 0.0, 612.0, 792.0]>\n",
            "INFO:pdfminer.pdfinterp:render_contents: resources={'ColorSpace': {'CS0': <PDFObjRef:95>}, 'ExtGState': {'GS0': <PDFObjRef:111>, 'GS1': <PDFObjRef:112>}, 'Font': {'C2_0': <PDFObjRef:92>, 'TT0': <PDFObjRef:93>, 'TT1': <PDFObjRef:94>}, 'ProcSet': [/'PDF', /'Text'], 'Properties': {'MC0': <PDFObjRef:78>, 'MC1': <PDFObjRef:79>}}, streams=[<PDFObjRef:96>, <PDFObjRef:97>, <PDFObjRef:98>, <PDFObjRef:99>, <PDFObjRef:100>, <PDFObjRef:101>, <PDFObjRef:102>, <PDFObjRef:103>], ctm=(1, 0, 0, 1, -0.0, -0.0)\n",
            "INFO:pdfminer.pdfinterp:get_font: create: objid=92, spec={'BaseFont': /'LUFYQU+Calibri-Light', 'DescendantFonts': <PDFObjRef:118>, 'Encoding': /'Identity-H', 'Subtype': /'Type0', 'ToUnicode': <PDFObjRef:119>, 'Type': /'Font'}\n",
            "INFO:pdfminer.pdfinterp:get_font: create: objid=None, spec={'BaseFont': /'LUFYQU+Calibri-Light', 'CIDSystemInfo': <PDFObjRef:113>, 'CIDToGIDMap': /'Identity', 'DW': 1000, 'FontDescriptor': <PDFObjRef:116>, 'Subtype': /'CIDFontType2', 'Type': /'Font', 'W': [3, [226, 563], 17, 18, 535, 24, [607], 28, [489], 38, [460, 627], 44, [619], 47, [244], 58, [313], 60, [504], 62, [419], 68, [845, 638], 75, [654], 87, [508], 89, [666, 532], 94, [453], 100, [483], 104, [636], 115, [554, 881], 258, [471], 271, [520, 425], 282, [520], 286, [494], 296, [299], 299, [574], 302, [516], 332, [604], 336, [469], 346, [520], 349, [221], 361, [230], 364, [441], 367, [221], 373, [791, 520], 381, [521], 393, [520], 395, [520, 345], 400, [387], 410, [329], 415, [542], 437, [520], 448, [440, 699], 454, [418, 441], 565, [489], 576, [845], 581, [619], 853, [245], 854, 855, 263, 856, [245], 859, [245], 876, [362], 882, [306], 894, 895, 299, 920, [670], 923, [892], 1004, 1010, 507, 1012, 1013, 507, 1081, [707], 1085, [498]], 'Encoding': /'Identity-H', 'ToUnicode': <PDFStream(119): raw=604, {'Filter': /'FlateDecode', 'Length': 603}>}\n",
            "INFO:pdfminer.pdfinterp:get_font: create: objid=93, spec={'BaseFont': /'LUFYQU+Calibri-Light', 'Encoding': /'WinAnsiEncoding', 'FirstChar': 32, 'FontDescriptor': <PDFObjRef:121>, 'LastChar': 124, 'Subtype': /'TrueType', 'ToUnicode': <PDFObjRef:122>, 'Type': /'Font', 'Widths': [226, 0, 0, 0, 0, 0, 0, 0, 299, 299, 0, 498, 245, 306, 245, 0, 507, 507, 507, 507, 507, 507, 0, 507, 507, 507, 0, 0, 0, 0, 0, 0, 892, 0, 535, 535, 0, 0, 460, 0, 619, 0, 0, 0, 0, 0, 638, 0, 508, 0, 0, 453, 0, 0, 0, 0, 0, 0, 0, 0, 0, 0, 0, 0, 0, 471, 0, 425, 520, 494, 0, 469, 520, 221, 0, 0, 221, 791, 520, 521, 0, 0, 345, 387, 329, 0, 0, 0, 0, 0, 0, 0, 453]}\n",
            "INFO:pdfminer.pdfinterp:get_font: create: objid=94, spec={'BaseFont': /'LUFYQU+Calibri', 'Encoding': /'WinAnsiEncoding', 'FirstChar': 32, 'FontDescriptor': <PDFObjRef:124>, 'LastChar': 121, 'Subtype': /'TrueType', 'ToUnicode': <PDFObjRef:125>, 'Type': /'Font', 'Widths': [226, 0, 0, 0, 0, 0, 0, 0, 0, 0, 0, 0, 250, 0, 0, 0, 507, 507, 507, 0, 507, 507, 0, 0, 0, 0, 0, 0, 0, 0, 0, 0, 0, 0, 0, 0, 0, 488, 459, 0, 0, 0, 319, 0, 0, 855, 0, 662, 517, 0, 0, 459, 0, 642, 0, 0, 0, 0, 0, 0, 0, 0, 0, 0, 0, 479, 0, 423, 525, 498, 305, 0, 0, 229, 239, 0, 229, 0, 525, 527, 525, 0, 349, 391, 335, 525, 452, 0, 433, 453]}\n",
            "INFO:root:Writing text from ../data/input/example_resumes/resume_Meyer.pdf to ../data/output/resume_Meyer.txt\n",
            "INFO:pdfminer.pdfdocument:xref found: pos=b'72175'\n",
            "INFO:pdfminer.pdfdocument:read_xref_from: start=72175, token=28\n",
            "INFO:pdfminer.pdfdocument:xref stream: objid=(0, 29), fields=1,3,1\n",
            "INFO:pdfminer.pdfdocument:trailer: {'Type': /'XRef', 'Index': [0, 29], 'Size': 29, 'W': [1, 3, 1], 'Root': <PDFObjRef:26>, 'Info': <PDFObjRef:27>, 'ID': [b'\\x06\\x86r\\xa4\\xb1\\xb4\\nEU\\xd4\\x9e\\x9c\\xd8f\\xb1\\x97', b'\\x06\\x86r\\xa4\\xb1\\xb4\\nEU\\xd4\\x9e\\x9c\\xd8f\\xb1\\x97'], 'Length': 101, 'Filter': /'FlateDecode'}\n",
            "INFO:pdfminer.pdfpage:Pages: Kids=[<PDFObjRef:2>]\n",
            "INFO:pdfminer.pdfpage:Page: {'Type': /'Page', 'Contents': <PDFObjRef:3>, 'Resources': <PDFObjRef:1>, 'MediaBox': [0, 0, 612, 792], 'Parent': <PDFObjRef:10>}\n",
            "INFO:pdfminer.pdfinterp:Processing page: <PDFPage: Resources={'Font': {'F17': <PDFObjRef:4>, 'F15': <PDFObjRef:5>, 'F23': <PDFObjRef:6>, 'F26': <PDFObjRef:7>, 'F27': <PDFObjRef:8>}, 'ProcSet': [/'PDF', /'Text']}, MediaBox=[0, 0, 612, 792]>\n",
            "INFO:pdfminer.pdfinterp:render_contents: resources={'Font': {'F17': <PDFObjRef:4>, 'F15': <PDFObjRef:5>, 'F23': <PDFObjRef:6>, 'F26': <PDFObjRef:7>, 'F27': <PDFObjRef:8>}, 'ProcSet': [/'PDF', /'Text']}, streams=[<PDFStream(3): raw=2007, {'Length': 2006, 'Filter': /'FlateDecode'}>], ctm=(1, 0, 0, 1, 0, 0)\n",
            "INFO:pdfminer.pdfinterp:get_font: create: objid=4, spec={'Type': /'Font', 'Subtype': /'Type1', 'BaseFont': /'BYSZQU+CMBX12', 'FontDescriptor': <PDFObjRef:19>, 'FirstChar': 65, 'LastChar': 89, 'Widths': <PDFObjRef:15>}\n",
            "INFO:pdfminer.pdfinterp:get_font: create: objid=5, spec={'Type': /'Font', 'Subtype': /'Type1', 'BaseFont': /'UJWXHE+CMR10', 'FontDescriptor': <PDFObjRef:21>, 'FirstChar': 11, 'LastChar': 122, 'Widths': <PDFObjRef:14>}\n",
            "INFO:pdfminer.pdfinterp:get_font: create: objid=6, spec={'Type': /'Font', 'Subtype': /'Type1', 'BaseFont': /'TNNVYX+CMSY10', 'FontDescriptor': <PDFObjRef:23>, 'FirstChar': 1, 'LastChar': 5, 'Widths': <PDFObjRef:13>}\n",
            "INFO:pdfminer.pdfinterp:get_font: create: objid=7, spec={'Type': /'Font', 'Subtype': /'Type1', 'BaseFont': /'NWIJLN+CMBX10', 'FontDescriptor': <PDFObjRef:17>, 'FirstChar': 12, 'LastChar': 121, 'Widths': <PDFObjRef:12>}\n",
            "INFO:pdfminer.pdfinterp:get_font: create: objid=8, spec={'Type': /'Font', 'Subtype': /'Type1', 'BaseFont': /'SGYTFR+CMTI10', 'FontDescriptor': <PDFObjRef:25>, 'FirstChar': 44, 'LastChar': 121, 'Widths': <PDFObjRef:11>}\n",
            "INFO:pdfminer.converter:undefined: <PDFType1Font: basefont='TNNVYX+CMSY10'>, 5\n",
            "INFO:root:Writing text from ../data/input/example_resumes/john_smith.pdf to ../data/output/john_smith.txt\n",
            "INFO:pdfminer.pdfdocument:xref found: pos=b'51467'\n",
            "INFO:pdfminer.pdfdocument:read_xref_from: start=51467, token=/b'xref'\n",
            "INFO:pdfminer.pdfdocument:xref objects: {1: (None, 51292, 0), 2: (None, 10118, 0), 3: (None, 13327, 0), 4: (None, 22, 0), 5: (None, 10097, 0), 6: (None, 10222, 0), 7: (None, 13291, 0), 8: (None, 0, 0), 9: (None, 36545, 0), 10: (None, 0, 0), 11: (None, 40941, 0), 12: (None, 0, 0), 13: (None, 26395, 0), 14: (None, 0, 0), 15: (None, 33164, 0), 16: (None, 0, 0), 17: (None, 48216, 0), 18: (None, 22910, 0), 19: (None, 0, 0), 20: (None, 13460, 0), 21: (None, 0, 0), 22: (None, 15224, 0), 23: (None, 10448, 0), 24: (None, 10501, 0), 25: (None, 10555, 0), 26: (None, 13270, 0), 27: (None, 13410, 0), 28: (None, 14022, 0), 29: (None, 13658, 0), 30: (None, 14002, 0), 31: (None, 14283, 0), 32: (None, 15204, 0), 33: (None, 15718, 0), 34: (None, 15391, 0), 35: (None, 15698, 0), 36: (None, 15954, 0), 37: (None, 22889, 0), 38: (None, 23086, 0), 39: (None, 23322, 0), 40: (None, 26374, 0), 41: (None, 27538, 0), 42: (None, 26823, 0), 43: (None, 27518, 0), 44: (None, 27786, 0), 45: (None, 33143, 0), 46: (None, 33657, 0), 47: (None, 33337, 0), 48: (None, 33637, 0), 49: (None, 33899, 0), 50: (None, 36524, 0), 51: (None, 37446, 0), 52: (None, 36876, 0), 53: (None, 37426, 0), 54: (None, 37699, 0), 55: (None, 40920, 0), 56: (None, 41433, 0), 57: (None, 41114, 0), 58: (None, 41413, 0), 59: (None, 41679, 0), 60: (None, 48195, 0), 61: (None, 48875, 0), 62: (None, 48450, 0), 63: (None, 48855, 0), 64: (None, 49131, 0), 65: (None, 51012, 0), 66: (None, 51033, 0), 67: (None, 51062, 0), 68: (None, 51136, 0), 69: (None, 51169, 0), 70: (None, 51188, 0), 71: (None, 51211, 0), 72: (None, 51253, 0), 73: (None, 51272, 0)}\n",
            "INFO:pdfminer.pdfdocument:trailer: {'Size': 74, 'Root': <PDFObjRef:27>, 'Info': <PDFObjRef:1>, 'ID': [b'\\x9c\\xde\\x81p\\x03\\x8ez\\xcd\\xb5\\x81]|\\x0f\\xff\\x83r', b'\\x9c\\xde\\x81p\\x03\\x8ez\\xcd\\xb5\\x81]|\\x0f\\xff\\x83r']}\n",
            "INFO:pdfminer.pdfdocument:trailer: {'Size': 74, 'Root': <PDFObjRef:27>, 'Info': <PDFObjRef:1>, 'ID': [b'\\x9c\\xde\\x81p\\x03\\x8ez\\xcd\\xb5\\x81]|\\x0f\\xff\\x83r', b'\\x9c\\xde\\x81p\\x03\\x8ez\\xcd\\xb5\\x81]|\\x0f\\xff\\x83r']}\n",
            "INFO:pdfminer.pdfpage:Pages: Kids=[<PDFObjRef:2>]\n",
            "INFO:pdfminer.pdfpage:Page: {'Type': /'Page', 'Parent': <PDFObjRef:3>, 'Resources': <PDFObjRef:6>, 'Contents': <PDFObjRef:4>, 'MediaBox': [0, 0, 612, 792]}\n",
            "INFO:pdfminer.pdfinterp:Processing page: <PDFPage: Resources={'ProcSet': [/'PDF', /'Text'], 'ColorSpace': {'Cs1': <PDFObjRef:7>}, 'ExtGState': {'Gs2': <PDFObjRef:23>, 'Gs1': <PDFObjRef:24>}, 'Font': {'TT2': <PDFObjRef:9>, 'TT11': <PDFObjRef:18>, 'TT13': <PDFObjRef:20>, 'TT8': <PDFObjRef:15>, 'TT15': <PDFObjRef:22>, 'TT4': <PDFObjRef:11>, 'TT6': <PDFObjRef:13>, 'TT10': <PDFObjRef:17>}}, MediaBox=[0, 0, 612, 792]>\n",
            "INFO:pdfminer.pdfinterp:render_contents: resources={'ProcSet': [/'PDF', /'Text'], 'ColorSpace': {'Cs1': <PDFObjRef:7>}, 'ExtGState': {'Gs2': <PDFObjRef:23>, 'Gs1': <PDFObjRef:24>}, 'Font': {'TT2': <PDFObjRef:9>, 'TT11': <PDFObjRef:18>, 'TT13': <PDFObjRef:20>, 'TT8': <PDFObjRef:15>, 'TT15': <PDFObjRef:22>, 'TT4': <PDFObjRef:11>, 'TT6': <PDFObjRef:13>, 'TT10': <PDFObjRef:17>}}, streams=[<PDFStream(4): raw=10002, {'Length': <PDFObjRef:5>, 'Filter': /'FlateDecode'}>], ctm=(1, 0, 0, 1, 0, 0)\n",
            "INFO:pdfminer.pdfinterp:get_font: create: objid=9, spec={'Type': /'Font', 'Subtype': /'TrueType', 'BaseFont': /'ZCGHCM+Arial-BoldMT', 'FontDescriptor': <PDFObjRef:51>, 'ToUnicode': <PDFObjRef:52>, 'FirstChar': 33, 'LastChar': 74, 'Widths': [556, 611, 611, 611, 278, 667, 889, 278, 333, 778, 722, 667, 722, 611, 278, 667, 722, 722, 722, 722, 722, 556, 556, 556, 389, 556, 556, 778, 611, 722, 944, 833, 667, 611, 667, 278, 278, 611, 278, 722, 611, 556]}\n",
            "INFO:pdfminer.pdfinterp:get_font: create: objid=18, spec={'Type': /'Font', 'Subtype': /'TrueType', 'BaseFont': /'NCLSGT+SymbolMT', 'FontDescriptor': <PDFObjRef:38>, 'Encoding': /'MacRomanEncoding', 'FirstChar': 165, 'LastChar': 165, 'Widths': [460]}\n",
            "INFO:pdfminer.pdfinterp:get_font: create: objid=20, spec={'Type': /'Font', 'Subtype': /'TrueType', 'BaseFont': /'NVGBIO+Arial-BoldItalicMT', 'FontDescriptor': <PDFObjRef:28>, 'ToUnicode': <PDFObjRef:29>, 'FirstChar': 33, 'LastChar': 39, 'Widths': [833, 556, 889, 611, 389, 278, 278]}\n",
            "INFO:pdfminer.pdfinterp:get_font: create: objid=15, spec={'Type': /'Font', 'Subtype': /'TrueType', 'BaseFont': /'GNDZUU+Wingdings-Regular', 'FontDescriptor': <PDFObjRef:46>, 'ToUnicode': <PDFObjRef:47>, 'FirstChar': 33, 'LastChar': 33, 'Widths': [458]}\n",
            "INFO:pdfminer.pdfinterp:get_font: create: objid=22, spec={'Type': /'Font', 'Subtype': /'TrueType', 'BaseFont': /'QSQWQA+Calibri', 'FontDescriptor': <PDFObjRef:33>, 'ToUnicode': <PDFObjRef:34>, 'FirstChar': 33, 'LastChar': 34, 'Widths': [226, 306]}\n",
            "INFO:pdfminer.pdfinterp:get_font: create: objid=11, spec={'Type': /'Font', 'Subtype': /'TrueType', 'BaseFont': /'NXEJBA+TimesNewRomanPSMT', 'FontDescriptor': <PDFObjRef:56>, 'ToUnicode': <PDFObjRef:57>, 'FirstChar': 33, 'LastChar': 33, 'Widths': [250]}\n",
            "INFO:pdfminer.pdfinterp:get_font: create: objid=13, spec={'Type': /'Font', 'Subtype': /'TrueType', 'BaseFont': /'RLPGUZ+ArialMT', 'FontDescriptor': <PDFObjRef:41>, 'ToUnicode': <PDFObjRef:42>, 'FirstChar': 33, 'LastChar': 99, 'Widths': [556, 278, 833, 500, 722, 556, 500, 722, 556, 556, 222, 556, 833, 556, 500, 278, 778, 556, 222, 556, 556, 556, 333, 556, 333, 556, 1015, 500, 556, 278, 278, 722, 278, 667, 556, 556, 667, 667, 556, 556, 500, 278, 667, 500, 778, 278, 556, 667, 222, 667, 556, 611, 556, 500, 944, 778, 333, 333, 278, 611, 556, 722, 722, 222, 500, 278, 556]}\n",
            "INFO:pdfminer.pdfinterp:get_font: create: objid=17, spec={'Type': /'Font', 'Subtype': /'TrueType', 'BaseFont': /'ZJOPXH+Arial-ItalicMT', 'FontDescriptor': <PDFObjRef:61>, 'ToUnicode': <PDFObjRef:62>, 'FirstChar': 33, 'LastChar': 49, 'Widths': [722, 556, 500, 222, 556, 556, 278, 278, 667, 500, 556, 333, 667, 500, 556, 722, 556]}\n",
            "INFO:root:Writing text from ../data/input/example_resumes/SGresume-1.pdf to ../data/output/SGresume-1.txt\n",
            "INFO:pdfminer.pdfdocument:xref found: pos=b'48958'\n",
            "INFO:pdfminer.pdfdocument:read_xref_from: start=48958, token=/b'xref'\n",
            "INFO:pdfminer.pdfdocument:xref objects: {1: (None, 48867, 0), 2: (None, 14015, 0), 3: (None, 5763, 0), 4: (None, 6411, 0), 5: (None, 22, 0), 6: (None, 5743, 0), 7: (None, 5892, 0), 8: (None, 15255, 0), 9: (None, 33795, 0), 10: (None, 41274, 0), 11: (None, 23665, 0), 12: (None, 19461, 0), 13: (None, 6096, 0), 14: (None, 6560, 0), 15: (None, 6123, 0), 16: (None, 6169, 0), 17: (None, 6217, 0), 18: (None, 6265, 0), 19: (None, 6314, 0), 20: (None, 6362, 0), 21: (None, 6494, 0), 22: (None, 13983, 0), 23: (None, 6736, 0), 24: (None, 13829, 0), 25: (None, 15033, 0), 26: (None, 15196, 0), 27: (None, 15215, 0), 28: (None, 15013, 0), 29: (None, 15666, 0), 30: (None, 15927, 0), 31: (None, 19440, 0), 32: (None, 19863, 0), 33: (None, 20119, 0), 34: (None, 23644, 0), 35: (None, 24184, 0), 36: (None, 24429, 0), 37: (None, 33774, 0), 38: (None, 34445, 0), 39: (None, 34703, 0), 40: (None, 41253, 0), 41: (None, 41894, 0), 42: (None, 41539, 0), 43: (None, 41874, 0), 44: (None, 42151, 0), 45: (None, 48701, 0), 46: (None, 48722, 0), 47: (None, 48775, 0), 48: (None, 48825, 0)}\n",
            "INFO:pdfminer.pdfdocument:trailer: {'Size': 49, 'Root': <PDFObjRef:21>, 'Info': <PDFObjRef:1>, 'ID': [b'\\x1b\\xad;\\xc9\\xc1\\x1e\\xd7\\xed\\xa4\\x13-\\xa8^>\\x95\\x85', b'\\x1b\\xad;\\xc9\\xc1\\x1e\\xd7\\xed\\xa4\\x13-\\xa8^>\\x95\\x85']}\n",
            "INFO:pdfminer.pdfdocument:trailer: {'Size': 49, 'Root': <PDFObjRef:21>, 'Info': <PDFObjRef:1>, 'ID': [b'\\x1b\\xad;\\xc9\\xc1\\x1e\\xd7\\xed\\xa4\\x13-\\xa8^>\\x95\\x85', b'\\x1b\\xad;\\xc9\\xc1\\x1e\\xd7\\xed\\xa4\\x13-\\xa8^>\\x95\\x85']}\n",
            "INFO:pdfminer.pdfpage:Pages: Kids=[<PDFObjRef:3>]\n",
            "INFO:pdfminer.pdfpage:Page: {'Type': /'Page', 'Parent': <PDFObjRef:4>, 'Resources': <PDFObjRef:7>, 'Contents': <PDFObjRef:5>, 'MediaBox': [0, 0, 612, 792], 'Rotate': 0, 'Annots': <PDFObjRef:13>}\n",
            "INFO:pdfminer.pdfinterp:Processing page: <PDFPage: Resources={'ProcSet': [/'PDF', /'Text'], 'ExtGState': {'Gs2': <PDFObjRef:15>, 'Gs5': <PDFObjRef:16>, 'Gs1': <PDFObjRef:17>, 'Gs6': <PDFObjRef:18>, 'Gs4': <PDFObjRef:19>, 'Gs3': <PDFObjRef:20>}, 'Font': {'Tc1': <PDFObjRef:8>, 'Tc2': <PDFObjRef:9>, 'Tc3': <PDFObjRef:10>, 'Tc4': <PDFObjRef:12>, 'TT1': <PDFObjRef:11>}}, MediaBox=[0, 0, 612, 792]>\n",
            "INFO:pdfminer.pdfinterp:render_contents: resources={'ProcSet': [/'PDF', /'Text'], 'ExtGState': {'Gs2': <PDFObjRef:15>, 'Gs5': <PDFObjRef:16>, 'Gs1': <PDFObjRef:17>, 'Gs6': <PDFObjRef:18>, 'Gs4': <PDFObjRef:19>, 'Gs3': <PDFObjRef:20>}, 'Font': {'Tc1': <PDFObjRef:8>, 'Tc2': <PDFObjRef:9>, 'Tc3': <PDFObjRef:10>, 'Tc4': <PDFObjRef:12>, 'TT1': <PDFObjRef:11>}}, streams=[<PDFStream(5): raw=5648, {'Length': <PDFObjRef:6>, 'Filter': /'FlateDecode'}>], ctm=(1, 0, 0, 1, 0, 0)\n",
            "INFO:pdfminer.pdfinterp:get_font: create: objid=8, spec={'Type': /'Font', 'Subtype': /'Type1', 'BaseFont': /'AWVJKH+MinionPro-Semibold', 'FontDescriptor': <PDFObjRef:29>, 'Encoding': /'MacRomanEncoding', 'FirstChar': 32, 'LastChar': 120, 'Widths': [221, 0, 0, 0, 0, 0, 0, 0, 0, 0, 0, 0, 0, 0, 0, 0, 0, 0, 0, 0, 0, 0, 0, 0, 0, 0, 0, 0, 0, 0, 0, 0, 0, 0, 0, 672, 0, 576, 0, 0, 0, 364, 0, 0, 546, 0, 0, 0, 586, 0, 646, 494, 0, 0, 0, 976, 0, 0, 0, 0, 0, 0, 0, 0, 0, 456, 0, 422, 540, 433, 0, 483, 0, 285, 277, 507, 269, 834, 559, 520, 538, 0, 392, 377, 326, 546, 464, 0, 478]}\n",
            "INFO:pdfminer.pdfinterp:get_font: create: objid=9, spec={'Type': /'Font', 'Subtype': /'Type1', 'BaseFont': /'RFPAGA+MinionPro-Regular', 'FontDescriptor': <PDFObjRef:38>, 'Encoding': /'MacRomanEncoding', 'FirstChar': 32, 'LastChar': 213, 'Widths': [227, 0, 0, 0, 0, 0, 0, 0, 0, 0, 0, 580, 228, 356, 228, 0, 0, 0, 0, 0, 0, 0, 0, 0, 0, 0, 228, 0, 0, 0, 0, 0, 0, 691, 588, 665, 735, 568, 529, 715, 0, 341, 329, 0, 538, 891, 743, 747, 563, 745, 621, 474, 617, 736, 703, 0, 0, 0, 0, 0, 0, 0, 0, 0, 0, 439, 508, 423, 528, 425, 296, 468, 534, 268, 256, 496, 253, 819, 547, 510, 524, 511, 371, 367, 305, 531, 463, 685, 472, 459, 420, 0, 0, 0, 0, 0, 0, 0, 0, 0, 0, 0, 0, 0, 0, 0, 0, 0, 0, 0, 0, 0, 0, 0, 0, 0, 0, 0, 0, 0, 0, 0, 0, 0, 0, 0, 0, 0, 0, 0, 0, 0, 0, 390, 0, 0, 0, 0, 0, 0, 0, 0, 0, 0, 0, 0, 0, 0, 0, 0, 0, 0, 0, 0, 0, 0, 0, 0, 0, 0, 0, 0, 0, 0, 0, 0, 0, 0, 0, 0, 0, 0, 0, 0, 0, 0, 520, 0, 0, 0, 0, 223]}\n",
            "INFO:pdfminer.pdfinterp:get_font: create: objid=10, spec={'Type': /'Font', 'Subtype': /'Type1', 'BaseFont': /'PAKZSA+MinionPro-Regular', 'FontDescriptor': <PDFObjRef:41>, 'Encoding': {'Type': /'Encoding', 'Differences': [33, /'f_t', /'f_f_i', /'f_i', /'f_l', /'f_f']}, 'ToUnicode': <PDFObjRef:42>, 'FirstChar': 33, 'LastChar': 37, 'Widths': [582, 798, 535, 533, 561]}\n",
            "INFO:pdfminer.pdfinterp:get_font: create: objid=12, spec={'Type': /'Font', 'Subtype': /'Type1', 'BaseFont': /'SPOOYB+MinionPro-It', 'FontDescriptor': <PDFObjRef:32>, 'Encoding': /'MacRomanEncoding', 'FirstChar': 32, 'LastChar': 121, 'Widths': [229, 0, 0, 0, 0, 0, 0, 0, 0, 0, 0, 0, 0, 334, 0, 0, 477, 477, 477, 0, 0, 0, 0, 0, 0, 0, 0, 0, 0, 0, 0, 0, 0, 0, 0, 0, 0, 0, 527, 681, 0, 0, 0, 0, 0, 876, 0, 0, 554, 0, 0, 468, 0, 0, 0, 0, 0, 0, 0, 0, 0, 0, 0, 0, 0, 490, 486, 0, 508, 400, 0, 420, 0, 273, 0, 0, 249, 787, 532, 0, 486, 0, 366, 337, 307, 533, 0, 0, 0, 442]}\n",
            "INFO:pdfminer.pdfinterp:get_font: create: objid=11, spec={'Type': /'Font', 'Subtype': /'TrueType', 'BaseFont': /'CSKAPV+Helvetica-Bold', 'FontDescriptor': <PDFObjRef:35>, 'Encoding': /'MacRomanEncoding', 'FirstChar': 32, 'LastChar': 165, 'Widths': [278, 0, 0, 0, 0, 0, 0, 0, 0, 0, 0, 0, 278, 333, 278, 0, 556, 556, 556, 556, 556, 556, 556, 556, 556, 556, 0, 0, 0, 0, 0, 0, 975, 722, 0, 722, 0, 0, 611, 778, 0, 0, 0, 0, 0, 0, 0, 0, 667, 0, 0, 667, 0, 0, 0, 0, 0, 0, 0, 0, 0, 0, 0, 0, 0, 556, 611, 556, 0, 556, 0, 611, 0, 278, 0, 0, 0, 889, 611, 611, 611, 0, 389, 556, 333, 0, 0, 0, 0, 556, 0, 0, 0, 0, 0, 0, 0, 0, 0, 0, 0, 0, 0, 0, 0, 0, 0, 0, 0, 0, 556, 0, 0, 0, 0, 0, 0, 0, 0, 0, 0, 0, 0, 0, 0, 0, 0, 0, 0, 0, 0, 0, 0, 350]}\n",
            "INFO:root:Writing text from ../data/input/example_resumes/Layla_Martin_Resume.pdf to ../data/output/Layla_Martin_Resume.txt\n",
            "INFO:pdfminer.pdfdocument:xref found: pos=b'80715'\n",
            "INFO:pdfminer.pdfdocument:read_xref_from: start=80715, token=32\n",
            "INFO:pdfminer.pdfdocument:xref stream: objid=(0, 33), fields=1,3,1\n",
            "INFO:pdfminer.pdfdocument:trailer: {'Type': /'XRef', 'Index': [0, 33], 'Size': 33, 'W': [1, 3, 1], 'Root': <PDFObjRef:30>, 'Info': <PDFObjRef:31>, 'ID': [b'\\x01\\xe2R\\xa3\\xe2\\xc4o\\xb8fv\\xaa\\xcafMU\\x97', b'\\x01\\xe2R\\xa3\\xe2\\xc4o\\xb8fv\\xaa\\xcafMU\\x97'], 'Length': 104, 'Filter': /'FlateDecode'}\n",
            "INFO:pdfminer.pdfpage:Pages: Kids=[<PDFObjRef:2>]\n",
            "INFO:pdfminer.pdfpage:Page: {'Type': /'Page', 'Contents': <PDFObjRef:3>, 'Resources': <PDFObjRef:1>, 'MediaBox': [0, 0, 612, 792], 'Parent': <PDFObjRef:11>}\n",
            "INFO:pdfminer.pdfinterp:Processing page: <PDFPage: Resources={'Font': {'F16': <PDFObjRef:4>, 'F8': <PDFObjRef:5>, 'F17': <PDFObjRef:6>, 'F18': <PDFObjRef:7>, 'F14': <PDFObjRef:8>, 'F19': <PDFObjRef:9>}, 'ProcSet': [/'PDF', /'Text']}, MediaBox=[0, 0, 612, 792]>\n",
            "INFO:pdfminer.pdfinterp:render_contents: resources={'Font': {'F16': <PDFObjRef:4>, 'F8': <PDFObjRef:5>, 'F17': <PDFObjRef:6>, 'F18': <PDFObjRef:7>, 'F14': <PDFObjRef:8>, 'F19': <PDFObjRef:9>}, 'ProcSet': [/'PDF', /'Text']}, streams=[<PDFStream(3): raw=1978, {'Length': 1977, 'Filter': /'FlateDecode'}>], ctm=(1, 0, 0, 1, 0, 0)\n",
            "INFO:pdfminer.pdfinterp:get_font: create: objid=4, spec={'Type': /'Font', 'Subtype': /'Type1', 'BaseFont': /'ZPBRRS+CMBX12', 'FontDescriptor': <PDFObjRef:21>, 'FirstChar': 76, 'LastChar': 121, 'Widths': <PDFObjRef:17>}\n",
            "INFO:pdfminer.pdfinterp:get_font: create: objid=5, spec={'Type': /'Font', 'Subtype': /'Type1', 'BaseFont': /'PFLKDC+CMR10', 'FontDescriptor': <PDFObjRef:23>, 'FirstChar': 12, 'LastChar': 122, 'Widths': <PDFObjRef:16>}\n",
            "INFO:pdfminer.pdfinterp:get_font: create: objid=6, spec={'Type': /'Font', 'Subtype': /'Type1', 'BaseFont': /'VHXXLQ+CMBX10', 'FontDescriptor': <PDFObjRef:19>, 'FirstChar': 45, 'LastChar': 87, 'Widths': <PDFObjRef:15>}\n",
            "INFO:pdfminer.pdfinterp:get_font: create: objid=7, spec={'Type': /'Font', 'Subtype': /'Type1', 'BaseFont': /'XCWCCW+CMSL10', 'FontDescriptor': <PDFObjRef:25>, 'FirstChar': 12, 'LastChar': 121, 'Widths': <PDFObjRef:14>}\n",
            "INFO:pdfminer.pdfinterp:get_font: create: objid=8, spec={'Type': /'Font', 'Subtype': /'Type1', 'BaseFont': /'GFAWRG+CMSY10', 'FontDescriptor': <PDFObjRef:27>, 'FirstChar': 15, 'LastChar': 15, 'Widths': <PDFObjRef:13>}\n",
            "INFO:pdfminer.pdfinterp:get_font: create: objid=9, spec={'Type': /'Font', 'Subtype': /'Type1', 'BaseFont': /'ZAJIVV+CMTI10', 'FontDescriptor': <PDFObjRef:29>, 'FirstChar': 67, 'LastChar': 116, 'Widths': <PDFObjRef:12>}\n",
            "INFO:root:Archiving data set schema(s) for step name: extract\n",
            "INFO:root:Working data_set: observations\n",
            "INFO:root:End extract\n",
            "INFO:root:Begin transform\n",
            "ERROR:root:Error occurred during regex search\n",
            "ERROR:root:Error occurred during regex search\n",
            "ERROR:root:Error occurred during regex search\n",
            "ERROR:root:Error occurred during regex search\n",
            "ERROR:root:Error occurred during regex search\n",
            "INFO:root:Archiving data set schema(s) for step name: transform\n",
            "INFO:root:Working data_set: observations\n",
            "INFO:root:End transform\n",
            "INFO:root:Begin load\n",
            "INFO:root:Results being output to ../data/output/resume_summary.csv\n",
            "Results output to ../data/output/resume_summary.csv\n",
            "INFO:root:End transform\n"
          ],
          "name": "stdout"
        }
      ]
    },
    {
      "cell_type": "code",
      "metadata": {
        "id": "iJWohbCE-M-g",
        "colab_type": "code",
        "colab": {}
      },
      "source": [
        ""
      ],
      "execution_count": null,
      "outputs": []
    }
  ]
}