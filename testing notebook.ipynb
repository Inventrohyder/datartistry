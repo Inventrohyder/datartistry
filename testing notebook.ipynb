{
  "nbformat": 4,
  "nbformat_minor": 0,
  "metadata": {
    "kernelspec": {
      "display_name": "Python 3",
      "language": "python",
      "name": "python3"
    },
    "language_info": {
      "codemirror_mode": {
        "name": "ipython",
        "version": 3
      },
      "file_extension": ".py",
      "mimetype": "text/x-python",
      "name": "python",
      "nbconvert_exporter": "python",
      "pygments_lexer": "ipython3",
      "version": "3.7.3"
    },
    "varInspector": {
      "cols": {
        "lenName": 16,
        "lenType": 16,
        "lenVar": 40
      },
      "kernels_config": {
        "python": {
          "delete_cmd_postfix": "",
          "delete_cmd_prefix": "del ",
          "library": "var_list.py",
          "varRefreshCmd": "print(var_dic_list())"
        },
        "r": {
          "delete_cmd_postfix": ") ",
          "delete_cmd_prefix": "rm(",
          "library": "var_list.r",
          "varRefreshCmd": "cat(var_dic_list()) "
        }
      },
      "types_to_exclude": [
        "module",
        "function",
        "builtin_function_or_method",
        "instance",
        "_Feature"
      ],
      "window_display": false
    },
    "colab": {
      "name": "testing notebook.ipynb",
      "provenance": [],
      "include_colab_link": true
    }
  },
  "cells": [
    {
      "cell_type": "markdown",
      "metadata": {
        "id": "view-in-github",
        "colab_type": "text"
      },
      "source": [
        "<a href=\"https://colab.research.google.com/github/Inventrohyder/datartistry/blob/jupyter-test/testing%20notebook.ipynb\" target=\"_parent\"><img src=\"https://colab.research.google.com/assets/colab-badge.svg\" alt=\"Open In Colab\"/></a>"
      ]
    },
    {
      "cell_type": "code",
      "metadata": {
        "id": "72uKCfpt1WtG",
        "colab_type": "code",
        "colab": {
          "base_uri": "https://localhost:8080/",
          "height": 187
        },
        "outputId": "90099056-a3e7-4140-dd04-1be4fe6b06ef"
      },
      "source": [
        "# Clone the entire repo.\n",
        "!git clone -l -s git://github.com/Inventrohyder/datartistry.git datartistry\n",
        "%cd datartistry/\n",
        "!ls"
      ],
      "execution_count": 1,
      "outputs": [
        {
          "output_type": "stream",
          "text": [
            "Cloning into 'datartistry'...\n",
            "warning: --local is ignored\n",
            "remote: Enumerating objects: 443, done.\u001b[K\n",
            "remote: Counting objects:   0% (1/443)\u001b[K\rremote: Counting objects:   1% (5/443)\u001b[K\rremote: Counting objects:   2% (9/443)\u001b[K\rremote: Counting objects:   3% (14/443)\u001b[K\rremote: Counting objects:   4% (18/443)\u001b[K\rremote: Counting objects:   5% (23/443)\u001b[K\rremote: Counting objects:   6% (27/443)\u001b[K\rremote: Counting objects:   7% (32/443)\u001b[K\rremote: Counting objects:   8% (36/443)\u001b[K\rremote: Counting objects:   9% (40/443)\u001b[K\rremote: Counting objects:  10% (45/443)\u001b[K\rremote: Counting objects:  11% (49/443)\u001b[K\rremote: Counting objects:  12% (54/443)\u001b[K\rremote: Counting objects:  13% (58/443)\u001b[K\rremote: Counting objects:  14% (63/443)\u001b[K\rremote: Counting objects:  15% (67/443)\u001b[K\rremote: Counting objects:  16% (71/443)\u001b[K\rremote: Counting objects:  17% (76/443)\u001b[K\rremote: Counting objects:  18% (80/443)\u001b[K\rremote: Counting objects:  19% (85/443)\u001b[K\rremote: Counting objects:  20% (89/443)\u001b[K\rremote: Counting objects:  21% (94/443)\u001b[K\rremote: Counting objects:  22% (98/443)\u001b[K\rremote: Counting objects:  23% (102/443)\u001b[K\rremote: Counting objects:  24% (107/443)\u001b[K\rremote: Counting objects:  25% (111/443)\u001b[K\rremote: Counting objects:  26% (116/443)\u001b[K\rremote: Counting objects:  27% (120/443)\u001b[K\rremote: Counting objects:  28% (125/443)\u001b[K\rremote: Counting objects:  29% (129/443)\u001b[K\rremote: Counting objects:  30% (133/443)\u001b[K\rremote: Counting objects:  31% (138/443)\u001b[K\rremote: Counting objects:  32% (142/443)\u001b[K\rremote: Counting objects:  33% (147/443)\u001b[K\rremote: Counting objects:  34% (151/443)\u001b[K\rremote: Counting objects:  35% (156/443)\u001b[K\rremote: Counting objects:  36% (160/443)\u001b[K\rremote: Counting objects:  37% (164/443)\u001b[K\rremote: Counting objects:  38% (169/443)\u001b[K\rremote: Counting objects:  39% (173/443)\u001b[K\rremote: Counting objects:  40% (178/443)\u001b[K\rremote: Counting objects:  41% (182/443)\u001b[K\rremote: Counting objects:  42% (187/443)\u001b[K\rremote: Counting objects:  43% (191/443)\u001b[K\rremote: Counting objects:  44% (195/443)\u001b[K\rremote: Counting objects:  45% (200/443)\u001b[K\rremote: Counting objects:  46% (204/443)\u001b[K\rremote: Counting objects:  47% (209/443)\u001b[K\rremote: Counting objects:  48% (213/443)\u001b[K\rremote: Counting objects:  49% (218/443)\u001b[K\rremote: Counting objects:  50% (222/443)\u001b[K\rremote: Counting objects:  51% (226/443)\u001b[K\rremote: Counting objects:  52% (231/443)\u001b[K\rremote: Counting objects:  53% (235/443)\u001b[K\rremote: Counting objects:  54% (240/443)\u001b[K\rremote: Counting objects:  55% (244/443)\u001b[K\rremote: Counting objects:  56% (249/443)\u001b[K\rremote: Counting objects:  57% (253/443)\u001b[K\rremote: Counting objects:  58% (257/443)\u001b[K\rremote: Counting objects:  59% (262/443)\u001b[K\rremote: Counting objects:  60% (266/443)\u001b[K\rremote: Counting objects:  61% (271/443)\u001b[K\rremote: Counting objects:  62% (275/443)\u001b[K\rremote: Counting objects:  63% (280/443)\u001b[K\rremote: Counting objects:  64% (284/443)\u001b[K\rremote: Counting objects:  65% (288/443)\u001b[K\rremote: Counting objects:  66% (293/443)\u001b[K\rremote: Counting objects:  67% (297/443)\u001b[K\rremote: Counting objects:  68% (302/443)\u001b[K\rremote: Counting objects:  69% (306/443)\u001b[K\rremote: Counting objects:  70% (311/443)\u001b[K\rremote: Counting objects:  71% (315/443)\u001b[K\rremote: Counting objects:  72% (319/443)\u001b[K\rremote: Counting objects:  73% (324/443)\u001b[K\rremote: Counting objects:  74% (328/443)\u001b[K\rremote: Counting objects:  75% (333/443)\u001b[K\rremote: Counting objects:  76% (337/443)\u001b[K\rremote: Counting objects:  77% (342/443)\u001b[K\rremote: Counting objects:  78% (346/443)\u001b[K\rremote: Counting objects:  79% (350/443)\u001b[K\rremote: Counting objects:  80% (355/443)\u001b[K\rremote: Counting objects:  81% (359/443)\u001b[K\rremote: Counting objects:  82% (364/443)\u001b[K\rremote: Counting objects:  83% (368/443)\u001b[K\rremote: Counting objects:  84% (373/443)\u001b[K\rremote: Counting objects:  85% (377/443)\u001b[K\rremote: Counting objects:  86% (381/443)\u001b[K\rremote: Counting objects:  87% (386/443)\u001b[K\rremote: Counting objects:  88% (390/443)\u001b[K\rremote: Counting objects:  89% (395/443)\u001b[K\rremote: Counting objects:  90% (399/443)\u001b[K\rremote: Counting objects:  91% (404/443)\u001b[K\rremote: Counting objects:  92% (408/443)\u001b[K\rremote: Counting objects:  93% (412/443)\u001b[K\rremote: Counting objects:  94% (417/443)\u001b[K\rremote: Counting objects:  95% (421/443)\u001b[K\rremote: Counting objects:  96% (426/443)\u001b[K\rremote: Counting objects:  97% (430/443)\u001b[K\rremote: Counting objects:  98% (435/443)\u001b[K\rremote: Counting objects:  99% (439/443)\u001b[K\rremote: Counting objects: 100% (443/443)\u001b[K\rremote: Counting objects: 100% (443/443), done.\u001b[K\n",
            "remote: Compressing objects: 100% (251/251), done.\u001b[K\n",
            "remote: Total 443 (delta 166), reused 440 (delta 163), pack-reused 0\u001b[K\n",
            "Receiving objects: 100% (443/443), 54.00 MiB | 22.97 MiB/s, done.\n",
            "Resolving deltas: 100% (166/166), done.\n",
            "/content/datartistry\n",
            "bin  changelog.md  confs  data\t__init__.py  README.md\trequirements.txt\n"
          ],
          "name": "stdout"
        }
      ]
    },
    {
      "cell_type": "code",
      "metadata": {
        "id": "LC16yvPI1tWL",
        "colab_type": "code",
        "colab": {
          "base_uri": "https://localhost:8080/",
          "height": 1000
        },
        "outputId": "321b663c-8e54-4fff-c48d-d58f1a554a53"
      },
      "source": [
        "!pip install -r requirements.txt"
      ],
      "execution_count": 2,
      "outputs": [
        {
          "output_type": "stream",
          "text": [
            "Collecting gensim==3.7.1\n",
            "\u001b[?25l  Downloading https://files.pythonhosted.org/packages/d7/b9/6c93685bed0026b6a1cce55ab173f6b617f6db0d1325d25489c2fd43e711/gensim-3.7.1-cp36-cp36m-manylinux1_x86_64.whl (24.2MB)\n",
            "\u001b[K     |████████████████████████████████| 24.2MB 1.3MB/s \n",
            "\u001b[?25hCollecting pandas==0.24.2\n",
            "\u001b[?25l  Downloading https://files.pythonhosted.org/packages/19/74/e50234bc82c553fecdbd566d8650801e3fe2d6d8c8d940638e3d8a7c5522/pandas-0.24.2-cp36-cp36m-manylinux1_x86_64.whl (10.1MB)\n",
            "\u001b[K     |████████████████████████████████| 10.1MB 36.4MB/s \n",
            "\u001b[?25hCollecting pdfminer.six==20181108\n",
            "\u001b[?25l  Downloading https://files.pythonhosted.org/packages/8a/fd/6e8746e6965d1a7ea8e97253e3d79e625da5547e8f376f88de5d024bacb9/pdfminer.six-20181108-py2.py3-none-any.whl (5.6MB)\n",
            "\u001b[K     |████████████████████████████████| 5.6MB 36.6MB/s \n",
            "\u001b[?25hCollecting spacy==2.1.3\n",
            "\u001b[?25l  Downloading https://files.pythonhosted.org/packages/52/da/3a1c54694c2d2f40df82f38a19ae14c6eb24a5a1a0dae87205ebea7a84d8/spacy-2.1.3-cp36-cp36m-manylinux1_x86_64.whl (27.7MB)\n",
            "\u001b[K     |████████████████████████████████| 27.7MB 148kB/s \n",
            "\u001b[?25hCollecting PyYAML==5.1\n",
            "\u001b[?25l  Downloading https://files.pythonhosted.org/packages/9f/2c/9417b5c774792634834e730932745bc09a7d36754ca00acf1ccd1ac2594d/PyYAML-5.1.tar.gz (274kB)\n",
            "\u001b[K     |████████████████████████████████| 276kB 38.6MB/s \n",
            "\u001b[?25hRequirement already satisfied: six>=1.5.0 in /usr/local/lib/python3.6/dist-packages (from gensim==3.7.1->-r requirements.txt (line 1)) (1.12.0)\n",
            "Requirement already satisfied: numpy>=1.11.3 in /usr/local/lib/python3.6/dist-packages (from gensim==3.7.1->-r requirements.txt (line 1)) (1.18.5)\n",
            "Requirement already satisfied: smart-open>=1.7.0 in /usr/local/lib/python3.6/dist-packages (from gensim==3.7.1->-r requirements.txt (line 1)) (2.0.0)\n",
            "Requirement already satisfied: scipy>=0.18.1 in /usr/local/lib/python3.6/dist-packages (from gensim==3.7.1->-r requirements.txt (line 1)) (1.4.1)\n",
            "Requirement already satisfied: python-dateutil>=2.5.0 in /usr/local/lib/python3.6/dist-packages (from pandas==0.24.2->-r requirements.txt (line 2)) (2.8.1)\n",
            "Requirement already satisfied: pytz>=2011k in /usr/local/lib/python3.6/dist-packages (from pandas==0.24.2->-r requirements.txt (line 2)) (2018.9)\n",
            "Requirement already satisfied: sortedcontainers in /usr/local/lib/python3.6/dist-packages (from pdfminer.six==20181108->-r requirements.txt (line 3)) (2.2.2)\n",
            "Collecting pycryptodome\n",
            "\u001b[?25l  Downloading https://files.pythonhosted.org/packages/17/55/17fa0b55849dc135f7bc400993a9206bf06d1b5d9520b0bc8d47c57aaef5/pycryptodome-3.9.8-cp36-cp36m-manylinux1_x86_64.whl (13.7MB)\n",
            "\u001b[K     |████████████████████████████████| 13.7MB 326kB/s \n",
            "\u001b[?25hRequirement already satisfied: jsonschema<3.0.0,>=2.6.0 in /usr/local/lib/python3.6/dist-packages (from spacy==2.1.3->-r requirements.txt (line 4)) (2.6.0)\n",
            "Requirement already satisfied: requests<3.0.0,>=2.13.0 in /usr/local/lib/python3.6/dist-packages (from spacy==2.1.3->-r requirements.txt (line 4)) (2.23.0)\n",
            "Requirement already satisfied: srsly<1.1.0,>=0.0.5 in /usr/local/lib/python3.6/dist-packages (from spacy==2.1.3->-r requirements.txt (line 4)) (1.0.2)\n",
            "Requirement already satisfied: murmurhash<1.1.0,>=0.28.0 in /usr/local/lib/python3.6/dist-packages (from spacy==2.1.3->-r requirements.txt (line 4)) (1.0.2)\n",
            "Collecting blis<0.3.0,>=0.2.2\n",
            "\u001b[?25l  Downloading https://files.pythonhosted.org/packages/34/46/b1d0bb71d308e820ed30316c5f0a017cb5ef5f4324bcbc7da3cf9d3b075c/blis-0.2.4-cp36-cp36m-manylinux1_x86_64.whl (3.2MB)\n",
            "\u001b[K     |████████████████████████████████| 3.2MB 12.5MB/s \n",
            "\u001b[?25hCollecting plac<1.0.0,>=0.9.6\n",
            "  Downloading https://files.pythonhosted.org/packages/9e/9b/62c60d2f5bc135d2aa1d8c8a86aaf84edb719a59c7f11a4316259e61a298/plac-0.9.6-py2.py3-none-any.whl\n",
            "Collecting thinc<7.1.0,>=7.0.2\n",
            "\u001b[?25l  Downloading https://files.pythonhosted.org/packages/18/a5/9ace20422e7bb1bdcad31832ea85c52a09900cd4a7ce711246bfb92206ba/thinc-7.0.8-cp36-cp36m-manylinux1_x86_64.whl (2.1MB)\n",
            "\u001b[K     |████████████████████████████████| 2.1MB 31.0MB/s \n",
            "\u001b[?25hCollecting preshed<2.1.0,>=2.0.1\n",
            "\u001b[?25l  Downloading https://files.pythonhosted.org/packages/20/93/f222fb957764a283203525ef20e62008675fd0a14ffff8cc1b1490147c63/preshed-2.0.1-cp36-cp36m-manylinux1_x86_64.whl (83kB)\n",
            "\u001b[K     |████████████████████████████████| 92kB 8.6MB/s \n",
            "\u001b[?25hRequirement already satisfied: wasabi<1.1.0,>=0.2.0 in /usr/local/lib/python3.6/dist-packages (from spacy==2.1.3->-r requirements.txt (line 4)) (0.7.0)\n",
            "Requirement already satisfied: cymem<2.1.0,>=2.0.2 in /usr/local/lib/python3.6/dist-packages (from spacy==2.1.3->-r requirements.txt (line 4)) (2.0.3)\n",
            "Requirement already satisfied: boto3 in /usr/local/lib/python3.6/dist-packages (from smart-open>=1.7.0->gensim==3.7.1->-r requirements.txt (line 1)) (1.14.9)\n",
            "Requirement already satisfied: boto in /usr/local/lib/python3.6/dist-packages (from smart-open>=1.7.0->gensim==3.7.1->-r requirements.txt (line 1)) (2.49.0)\n",
            "Requirement already satisfied: certifi>=2017.4.17 in /usr/local/lib/python3.6/dist-packages (from requests<3.0.0,>=2.13.0->spacy==2.1.3->-r requirements.txt (line 4)) (2020.6.20)\n",
            "Requirement already satisfied: chardet<4,>=3.0.2 in /usr/local/lib/python3.6/dist-packages (from requests<3.0.0,>=2.13.0->spacy==2.1.3->-r requirements.txt (line 4)) (3.0.4)\n",
            "Requirement already satisfied: urllib3!=1.25.0,!=1.25.1,<1.26,>=1.21.1 in /usr/local/lib/python3.6/dist-packages (from requests<3.0.0,>=2.13.0->spacy==2.1.3->-r requirements.txt (line 4)) (1.24.3)\n",
            "Requirement already satisfied: idna<3,>=2.5 in /usr/local/lib/python3.6/dist-packages (from requests<3.0.0,>=2.13.0->spacy==2.1.3->-r requirements.txt (line 4)) (2.9)\n",
            "Requirement already satisfied: tqdm<5.0.0,>=4.10.0 in /usr/local/lib/python3.6/dist-packages (from thinc<7.1.0,>=7.0.2->spacy==2.1.3->-r requirements.txt (line 4)) (4.41.1)\n",
            "Requirement already satisfied: botocore<1.18.0,>=1.17.9 in /usr/local/lib/python3.6/dist-packages (from boto3->smart-open>=1.7.0->gensim==3.7.1->-r requirements.txt (line 1)) (1.17.9)\n",
            "Requirement already satisfied: jmespath<1.0.0,>=0.7.1 in /usr/local/lib/python3.6/dist-packages (from boto3->smart-open>=1.7.0->gensim==3.7.1->-r requirements.txt (line 1)) (0.10.0)\n",
            "Requirement already satisfied: s3transfer<0.4.0,>=0.3.0 in /usr/local/lib/python3.6/dist-packages (from boto3->smart-open>=1.7.0->gensim==3.7.1->-r requirements.txt (line 1)) (0.3.3)\n",
            "Requirement already satisfied: docutils<0.16,>=0.10 in /usr/local/lib/python3.6/dist-packages (from botocore<1.18.0,>=1.17.9->boto3->smart-open>=1.7.0->gensim==3.7.1->-r requirements.txt (line 1)) (0.15.2)\n",
            "Building wheels for collected packages: PyYAML\n",
            "  Building wheel for PyYAML (setup.py) ... \u001b[?25l\u001b[?25hdone\n",
            "  Created wheel for PyYAML: filename=PyYAML-5.1-cp36-cp36m-linux_x86_64.whl size=44074 sha256=1aa51c59a53a61e16c760343eefdbb8f5d1c5fe95f5e55286af112b99d42de10\n",
            "  Stored in directory: /root/.cache/pip/wheels/ad/56/bc/1522f864feb2a358ea6f1a92b4798d69ac783a28e80567a18b\n",
            "Successfully built PyYAML\n",
            "\u001b[31mERROR: xarray 0.15.1 has requirement pandas>=0.25, but you'll have pandas 0.24.2 which is incompatible.\u001b[0m\n",
            "\u001b[31mERROR: plotnine 0.6.0 has requirement pandas>=0.25.0, but you'll have pandas 0.24.2 which is incompatible.\u001b[0m\n",
            "\u001b[31mERROR: mizani 0.6.0 has requirement pandas>=0.25.0, but you'll have pandas 0.24.2 which is incompatible.\u001b[0m\n",
            "\u001b[31mERROR: google-colab 1.0.0 has requirement pandas~=1.0.0; python_version >= \"3.0\", but you'll have pandas 0.24.2 which is incompatible.\u001b[0m\n",
            "\u001b[31mERROR: en-core-web-sm 2.2.5 has requirement spacy>=2.2.2, but you'll have spacy 2.1.3 which is incompatible.\u001b[0m\n",
            "Installing collected packages: gensim, pandas, pycryptodome, pdfminer.six, blis, plac, preshed, thinc, spacy, PyYAML\n",
            "  Found existing installation: gensim 3.6.0\n",
            "    Uninstalling gensim-3.6.0:\n",
            "      Successfully uninstalled gensim-3.6.0\n",
            "  Found existing installation: pandas 1.0.5\n",
            "    Uninstalling pandas-1.0.5:\n",
            "      Successfully uninstalled pandas-1.0.5\n",
            "  Found existing installation: blis 0.4.1\n",
            "    Uninstalling blis-0.4.1:\n",
            "      Successfully uninstalled blis-0.4.1\n",
            "  Found existing installation: plac 1.1.3\n",
            "    Uninstalling plac-1.1.3:\n",
            "      Successfully uninstalled plac-1.1.3\n",
            "  Found existing installation: preshed 3.0.2\n",
            "    Uninstalling preshed-3.0.2:\n",
            "      Successfully uninstalled preshed-3.0.2\n",
            "  Found existing installation: thinc 7.4.0\n",
            "    Uninstalling thinc-7.4.0:\n",
            "      Successfully uninstalled thinc-7.4.0\n",
            "  Found existing installation: spacy 2.2.4\n",
            "    Uninstalling spacy-2.2.4:\n",
            "      Successfully uninstalled spacy-2.2.4\n",
            "  Found existing installation: PyYAML 3.13\n",
            "    Uninstalling PyYAML-3.13:\n",
            "      Successfully uninstalled PyYAML-3.13\n",
            "Successfully installed PyYAML-5.1 blis-0.2.4 gensim-3.7.1 pandas-0.24.2 pdfminer.six-20181108 plac-0.9.6 preshed-2.0.1 pycryptodome-3.9.8 spacy-2.1.3 thinc-7.0.8\n"
          ],
          "name": "stdout"
        },
        {
          "output_type": "display_data",
          "data": {
            "application/vnd.colab-display-data+json": {
              "pip_warning": {
                "packages": [
                  "pandas"
                ]
              }
            }
          },
          "metadata": {
            "tags": []
          }
        }
      ]
    },
    {
      "cell_type": "markdown",
      "metadata": {
        "id": "GTXLZEqK3iXK",
        "colab_type": "text"
      },
      "source": [
        "Ensure you restarted the runtime after the previous cell ran."
      ]
    },
    {
      "cell_type": "code",
      "metadata": {
        "id": "wYZRB6uA35Lq",
        "colab_type": "code",
        "colab": {
          "base_uri": "https://localhost:8080/",
          "height": 360
        },
        "outputId": "aebf8c9c-f10c-45a4-f0cc-da2024b5b4b8"
      },
      "source": [
        "!python -m spacy download en"
      ],
      "execution_count": 1,
      "outputs": [
        {
          "output_type": "stream",
          "text": [
            "Collecting en_core_web_sm==2.1.0\n",
            "\u001b[?25l  Downloading https://github.com/explosion/spacy-models/releases/download/en_core_web_sm-2.1.0/en_core_web_sm-2.1.0.tar.gz (11.1MB)\n",
            "\u001b[K     |████████████████████████████████| 11.1MB 3.7MB/s \n",
            "\u001b[?25hBuilding wheels for collected packages: en-core-web-sm\n",
            "  Building wheel for en-core-web-sm (setup.py) ... \u001b[?25l\u001b[?25hdone\n",
            "  Created wheel for en-core-web-sm: filename=en_core_web_sm-2.1.0-cp36-none-any.whl size=11074435 sha256=a2c28145dee26fcfc84fcf279bfef44ae961346ffd69104dc8bab8918a469e6c\n",
            "  Stored in directory: /tmp/pip-ephem-wheel-cache-l6p_xpaz/wheels/39/ea/3b/507f7df78be8631a7a3d7090962194cf55bc1158572c0be77f\n",
            "Successfully built en-core-web-sm\n",
            "Installing collected packages: en-core-web-sm\n",
            "  Found existing installation: en-core-web-sm 2.2.5\n",
            "    Uninstalling en-core-web-sm-2.2.5:\n",
            "      Successfully uninstalled en-core-web-sm-2.2.5\n",
            "Successfully installed en-core-web-sm-2.1.0\n",
            "\u001b[38;5;2m✔ Download and installation successful\u001b[0m\n",
            "You can now load the model via spacy.load('en_core_web_sm')\n",
            "\u001b[38;5;2m✔ Linking successful\u001b[0m\n",
            "/usr/local/lib/python3.6/dist-packages/en_core_web_sm -->\n",
            "/usr/local/lib/python3.6/dist-packages/spacy/data/en\n",
            "You can now load the model via spacy.load('en')\n"
          ],
          "name": "stdout"
        }
      ]
    },
    {
      "cell_type": "code",
      "metadata": {
        "id": "4m9SaNTn4FkP",
        "colab_type": "code",
        "colab": {}
      },
      "source": [
        "# Remove the current files in the output folder\n",
        "!rm -rf datartistry/data/output/*"
      ],
      "execution_count": 3,
      "outputs": []
    },
    {
      "cell_type": "code",
      "metadata": {
        "id": "QltL0YlQ6uAe",
        "colab_type": "code",
        "colab": {
          "base_uri": "https://localhost:8080/",
          "height": 428
        },
        "outputId": "f831fdb5-24de-487c-ced0-ea74ffe8ba19"
      },
      "source": [
        "# Run the main program to generate the output again\n",
        "%cd datartistry/bin/\n",
        "!python main.py"
      ],
      "execution_count": 6,
      "outputs": [
        {
          "output_type": "stream",
          "text": [
            "/content/datartistry/bin\n",
            "INFO:root:Begin extract\n",
            "WARNING:root:Confs path: ../confs/config.yaml does not exist. Attempting to load confs template, from path: ../confs/config.yaml.template\n",
            "/content/datartistry/bin/lib.py:33: YAMLLoadWarning: calling yaml.load() without Loader=... is deprecated, as the default Loader is unsafe. Please read https://msg.pyyaml.org/load for full details.\n",
            "  CONFS = yaml.load(open(confs_template_path))\n",
            "INFO:root:Found 5 candidate files\n",
            "INFO:root:Subset candidate files to extensions w/ available parsers. 5 files remain\n",
            "INFO:root:Writing text from ../data/input/example_resumes/Brendan_Herger_Resume.pdf to ../data/output/Brendan_Herger_Resume.txt\n",
            "Traceback (most recent call last):\n",
            "  File \"main.py\", line 111, in <module>\n",
            "    main()\n",
            "  File \"main.py\", line 33, in main\n",
            "    observations = extract()\n",
            "  File \"main.py\", line 68, in extract\n",
            "    observations['text'] = observations['file_path'].apply(lib.convert_pdf)\n",
            "  File \"/usr/local/lib/python3.6/dist-packages/pandas/core/series.py\", line 3591, in apply\n",
            "    mapped = lib.map_infer(values, f, convert=convert_dtype)\n",
            "  File \"pandas/_libs/lib.pyx\", line 2217, in pandas._libs.lib.map_infer\n",
            "  File \"/content/datartistry/bin/lib.py\", line 137, in convert_pdf\n",
            "    pdf2text.main(args=[f, '--outfile', output_filepath])\n",
            "  File \"/content/datartistry/bin/pdf2text.py\", line 129, in main\n",
            "    outfp = open(A.outfile, \"wb\")\n",
            "FileNotFoundError: [Errno 2] No such file or directory: '../data/output/Brendan_Herger_Resume.txt'\n"
          ],
          "name": "stdout"
        }
      ]
    }
  ]
}