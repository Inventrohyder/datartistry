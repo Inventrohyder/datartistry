{
  "nbformat": 4,
  "nbformat_minor": 0,
  "metadata": {
    "kernelspec": {
      "display_name": "Python 3",
      "language": "python",
      "name": "python3"
    },
    "language_info": {
      "codemirror_mode": {
        "name": "ipython",
        "version": 3
      },
      "file_extension": ".py",
      "mimetype": "text/x-python",
      "name": "python",
      "nbconvert_exporter": "python",
      "pygments_lexer": "ipython3",
      "version": "3.7.3"
    },
    "varInspector": {
      "cols": {
        "lenName": 16,
        "lenType": 16,
        "lenVar": 40
      },
      "kernels_config": {
        "python": {
          "delete_cmd_postfix": "",
          "delete_cmd_prefix": "del ",
          "library": "var_list.py",
          "varRefreshCmd": "print(var_dic_list())"
        },
        "r": {
          "delete_cmd_postfix": ") ",
          "delete_cmd_prefix": "rm(",
          "library": "var_list.r",
          "varRefreshCmd": "cat(var_dic_list()) "
        }
      },
      "types_to_exclude": [
        "module",
        "function",
        "builtin_function_or_method",
        "instance",
        "_Feature"
      ],
      "window_display": false
    },
    "colab": {
      "name": "testing notebook.ipynb",
      "provenance": [],
      "include_colab_link": true
    }
  },
  "cells": [
    {
      "cell_type": "markdown",
      "metadata": {
        "id": "view-in-github",
        "colab_type": "text"
      },
      "source": [
        "<a href=\"https://colab.research.google.com/github/Inventrohyder/datartistry/blob/jupyter-test/testing%20notebook.ipynb\" target=\"_parent\"><img src=\"https://colab.research.google.com/assets/colab-badge.svg\" alt=\"Open In Colab\"/></a>"
      ]
    },
    {
      "cell_type": "code",
      "metadata": {
        "id": "72uKCfpt1WtG",
        "colab_type": "code",
        "colab": {
          "base_uri": "https://localhost:8080/",
          "height": 187
        },
        "outputId": "90099056-a3e7-4140-dd04-1be4fe6b06ef"
      },
      "source": [
        "# Clone the entire repo.\n",
        "!git clone -l -s git://github.com/Inventrohyder/datartistry.git datartistry\n",
        "%cd datartistry/\n",
        "!ls"
      ],
      "execution_count": 1,
      "outputs": [
        {
          "output_type": "stream",
          "text": [
            "Cloning into 'datartistry'...\n",
            "warning: --local is ignored\n",
            "remote: Enumerating objects: 443, done.\u001b[K\n",
            "remote: Counting objects:   0% (1/443)\u001b[K\rremote: Counting objects:   1% (5/443)\u001b[K\rremote: Counting objects:   2% (9/443)\u001b[K\rremote: Counting objects:   3% (14/443)\u001b[K\rremote: Counting objects:   4% (18/443)\u001b[K\rremote: Counting objects:   5% (23/443)\u001b[K\rremote: Counting objects:   6% (27/443)\u001b[K\rremote: Counting objects:   7% (32/443)\u001b[K\rremote: Counting objects:   8% (36/443)\u001b[K\rremote: Counting objects:   9% (40/443)\u001b[K\rremote: Counting objects:  10% (45/443)\u001b[K\rremote: Counting objects:  11% (49/443)\u001b[K\rremote: Counting objects:  12% (54/443)\u001b[K\rremote: Counting objects:  13% (58/443)\u001b[K\rremote: Counting objects:  14% (63/443)\u001b[K\rremote: Counting objects:  15% (67/443)\u001b[K\rremote: Counting objects:  16% (71/443)\u001b[K\rremote: Counting objects:  17% (76/443)\u001b[K\rremote: Counting objects:  18% (80/443)\u001b[K\rremote: Counting objects:  19% (85/443)\u001b[K\rremote: Counting objects:  20% (89/443)\u001b[K\rremote: Counting objects:  21% (94/443)\u001b[K\rremote: Counting objects:  22% (98/443)\u001b[K\rremote: Counting objects:  23% (102/443)\u001b[K\rremote: Counting objects:  24% (107/443)\u001b[K\rremote: Counting objects:  25% (111/443)\u001b[K\rremote: Counting objects:  26% (116/443)\u001b[K\rremote: Counting objects:  27% (120/443)\u001b[K\rremote: Counting objects:  28% (125/443)\u001b[K\rremote: Counting objects:  29% (129/443)\u001b[K\rremote: Counting objects:  30% (133/443)\u001b[K\rremote: Counting objects:  31% (138/443)\u001b[K\rremote: Counting objects:  32% (142/443)\u001b[K\rremote: Counting objects:  33% (147/443)\u001b[K\rremote: Counting objects:  34% (151/443)\u001b[K\rremote: Counting objects:  35% (156/443)\u001b[K\rremote: Counting objects:  36% (160/443)\u001b[K\rremote: Counting objects:  37% (164/443)\u001b[K\rremote: Counting objects:  38% (169/443)\u001b[K\rremote: Counting objects:  39% (173/443)\u001b[K\rremote: Counting objects:  40% (178/443)\u001b[K\rremote: Counting objects:  41% (182/443)\u001b[K\rremote: Counting objects:  42% (187/443)\u001b[K\rremote: Counting objects:  43% (191/443)\u001b[K\rremote: Counting objects:  44% (195/443)\u001b[K\rremote: Counting objects:  45% (200/443)\u001b[K\rremote: Counting objects:  46% (204/443)\u001b[K\rremote: Counting objects:  47% (209/443)\u001b[K\rremote: Counting objects:  48% (213/443)\u001b[K\rremote: Counting objects:  49% (218/443)\u001b[K\rremote: Counting objects:  50% (222/443)\u001b[K\rremote: Counting objects:  51% (226/443)\u001b[K\rremote: Counting objects:  52% (231/443)\u001b[K\rremote: Counting objects:  53% (235/443)\u001b[K\rremote: Counting objects:  54% (240/443)\u001b[K\rremote: Counting objects:  55% (244/443)\u001b[K\rremote: Counting objects:  56% (249/443)\u001b[K\rremote: Counting objects:  57% (253/443)\u001b[K\rremote: Counting objects:  58% (257/443)\u001b[K\rremote: Counting objects:  59% (262/443)\u001b[K\rremote: Counting objects:  60% (266/443)\u001b[K\rremote: Counting objects:  61% (271/443)\u001b[K\rremote: Counting objects:  62% (275/443)\u001b[K\rremote: Counting objects:  63% (280/443)\u001b[K\rremote: Counting objects:  64% (284/443)\u001b[K\rremote: Counting objects:  65% (288/443)\u001b[K\rremote: Counting objects:  66% (293/443)\u001b[K\rremote: Counting objects:  67% (297/443)\u001b[K\rremote: Counting objects:  68% (302/443)\u001b[K\rremote: Counting objects:  69% (306/443)\u001b[K\rremote: Counting objects:  70% (311/443)\u001b[K\rremote: Counting objects:  71% (315/443)\u001b[K\rremote: Counting objects:  72% (319/443)\u001b[K\rremote: Counting objects:  73% (324/443)\u001b[K\rremote: Counting objects:  74% (328/443)\u001b[K\rremote: Counting objects:  75% (333/443)\u001b[K\rremote: Counting objects:  76% (337/443)\u001b[K\rremote: Counting objects:  77% (342/443)\u001b[K\rremote: Counting objects:  78% (346/443)\u001b[K\rremote: Counting objects:  79% (350/443)\u001b[K\rremote: Counting objects:  80% (355/443)\u001b[K\rremote: Counting objects:  81% (359/443)\u001b[K\rremote: Counting objects:  82% (364/443)\u001b[K\rremote: Counting objects:  83% (368/443)\u001b[K\rremote: Counting objects:  84% (373/443)\u001b[K\rremote: Counting objects:  85% (377/443)\u001b[K\rremote: Counting objects:  86% (381/443)\u001b[K\rremote: Counting objects:  87% (386/443)\u001b[K\rremote: Counting objects:  88% (390/443)\u001b[K\rremote: Counting objects:  89% (395/443)\u001b[K\rremote: Counting objects:  90% (399/443)\u001b[K\rremote: Counting objects:  91% (404/443)\u001b[K\rremote: Counting objects:  92% (408/443)\u001b[K\rremote: Counting objects:  93% (412/443)\u001b[K\rremote: Counting objects:  94% (417/443)\u001b[K\rremote: Counting objects:  95% (421/443)\u001b[K\rremote: Counting objects:  96% (426/443)\u001b[K\rremote: Counting objects:  97% (430/443)\u001b[K\rremote: Counting objects:  98% (435/443)\u001b[K\rremote: Counting objects:  99% (439/443)\u001b[K\rremote: Counting objects: 100% (443/443)\u001b[K\rremote: Counting objects: 100% (443/443), done.\u001b[K\n",
            "remote: Compressing objects: 100% (251/251), done.\u001b[K\n",
            "remote: Total 443 (delta 166), reused 440 (delta 163), pack-reused 0\u001b[K\n",
            "Receiving objects: 100% (443/443), 54.00 MiB | 22.97 MiB/s, done.\n",
            "Resolving deltas: 100% (166/166), done.\n",
            "/content/datartistry\n",
            "bin  changelog.md  confs  data\t__init__.py  README.md\trequirements.txt\n"
          ],
          "name": "stdout"
        }
      ]
    },
    {
      "cell_type": "code",
      "metadata": {
        "id": "LC16yvPI1tWL",
        "colab_type": "code",
        "colab": {}
      },
      "source": [
        ""
      ],
      "execution_count": null,
      "outputs": []
    }
  ]
}