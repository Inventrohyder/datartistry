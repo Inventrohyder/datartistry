{
 "cells": [
  {
   "cell_type": "code",
   "execution_count": 1,
   "metadata": {},
   "outputs": [],
   "source": [
    "!python -m venv virtual-env"
   ]
  },
  {
   "cell_type": "code",
   "execution_count": 2,
   "metadata": {},
   "outputs": [],
   "source": [
    "!source virtual-env/bin/activate"
   ]
  },
  {
   "cell_type": "code",
   "execution_count": 3,
   "metadata": {},
   "outputs": [
    {
     "name": "stdout",
     "output_type": "stream",
     "text": [
      "Collecting gensim==3.7.1\n",
      "  Using cached gensim-3.7.1-cp37-cp37m-macosx_10_6_intel.macosx_10_9_intel.macosx_10_9_x86_64.macosx_10_10_intel.macosx_10_10_x86_64.whl (24.6 MB)\n",
      "Collecting pandas==0.24.2\n",
      "  Using cached pandas-0.24.2-cp37-cp37m-macosx_10_6_intel.macosx_10_9_intel.macosx_10_9_x86_64.macosx_10_10_intel.macosx_10_10_x86_64.whl (15.9 MB)\n",
      "Collecting pdfminer.six==20181108\n",
      "  Using cached pdfminer.six-20181108-py2.py3-none-any.whl (5.6 MB)\n",
      "Processing /Users/inventrohyder/Library/Caches/pip/wheels/95/95/a9/338c51c9549978f952a667b9542ed200968ab79211654d444f/spacy-2.1.3-cp37-cp37m-macosx_10_9_x86_64.whl\n",
      "Collecting PyYAML==5.1\n",
      "  Using cached PyYAML-5.1.tar.gz (274 kB)\n",
      "Requirement already satisfied: scipy>=0.18.1 in /Users/inventrohyder/anaconda3/lib/python3.7/site-packages (from gensim==3.7.1->-r requirements.txt (line 1)) (1.3.1)\n",
      "Collecting smart-open>=1.7.0\n",
      "  Using cached smart_open-2.1.0.tar.gz (116 kB)\n",
      "Requirement already satisfied: numpy>=1.11.3 in /Users/inventrohyder/anaconda3/lib/python3.7/site-packages (from gensim==3.7.1->-r requirements.txt (line 1)) (1.17.2)\n",
      "Requirement already satisfied: six>=1.5.0 in /Users/inventrohyder/anaconda3/lib/python3.7/site-packages (from gensim==3.7.1->-r requirements.txt (line 1)) (1.12.0)\n",
      "Requirement already satisfied: pytz>=2011k in /Users/inventrohyder/anaconda3/lib/python3.7/site-packages (from pandas==0.24.2->-r requirements.txt (line 2)) (2019.3)\n",
      "Requirement already satisfied: python-dateutil>=2.5.0 in /Users/inventrohyder/anaconda3/lib/python3.7/site-packages (from pandas==0.24.2->-r requirements.txt (line 2)) (2.8.0)\n",
      "Collecting pycryptodome\n",
      "  Using cached pycryptodome-3.9.8-cp37-cp37m-macosx_10_6_intel.whl (14.1 MB)\n",
      "Requirement already satisfied: sortedcontainers in /Users/inventrohyder/anaconda3/lib/python3.7/site-packages (from pdfminer.six==20181108->-r requirements.txt (line 3)) (2.1.0)\n",
      "Collecting plac<1.0.0,>=0.9.6\n",
      "  Using cached plac-0.9.6-py2.py3-none-any.whl (20 kB)\n",
      "Collecting blis<0.3.0,>=0.2.2\n",
      "  Using cached blis-0.2.4-cp37-cp37m-macosx_10_6_intel.macosx_10_9_intel.macosx_10_9_x86_64.macosx_10_10_intel.macosx_10_10_x86_64.whl (3.0 MB)\n",
      "Requirement already satisfied: requests<3.0.0,>=2.13.0 in /Users/inventrohyder/anaconda3/lib/python3.7/site-packages (from spacy==2.1.3->-r requirements.txt (line 4)) (2.22.0)\n",
      "Collecting srsly<1.1.0,>=0.0.5\n",
      "  Using cached srsly-1.0.2-cp37-cp37m-macosx_10_9_x86_64.whl (182 kB)\n",
      "Collecting jsonschema<3.0.0,>=2.6.0\n",
      "  Using cached jsonschema-2.6.0-py2.py3-none-any.whl (39 kB)\n",
      "Collecting thinc<7.1.0,>=7.0.2\n",
      "  Using cached thinc-7.0.8-cp37-cp37m-macosx_10_6_intel.macosx_10_9_intel.macosx_10_9_x86_64.macosx_10_10_intel.macosx_10_10_x86_64.whl (2.9 MB)\n",
      "Collecting murmurhash<1.1.0,>=0.28.0\n",
      "  Using cached murmurhash-1.0.2-cp37-cp37m-macosx_10_6_intel.macosx_10_9_intel.macosx_10_9_x86_64.macosx_10_10_intel.macosx_10_10_x86_64.whl (34 kB)\n",
      "Collecting preshed<2.1.0,>=2.0.1\n",
      "  Using cached preshed-2.0.1-cp37-cp37m-macosx_10_6_intel.macosx_10_9_intel.macosx_10_9_x86_64.macosx_10_10_intel.macosx_10_10_x86_64.whl (145 kB)\n",
      "Collecting wasabi<1.1.0,>=0.2.0\n",
      "  Using cached wasabi-0.7.0.tar.gz (22 kB)\n",
      "Collecting cymem<2.1.0,>=2.0.2\n",
      "  Using cached cymem-2.0.3-cp37-cp37m-macosx_10_6_intel.whl (54 kB)\n",
      "Requirement already satisfied: boto in /Users/inventrohyder/anaconda3/lib/python3.7/site-packages (from smart-open>=1.7.0->gensim==3.7.1->-r requirements.txt (line 1)) (2.49.0)\n",
      "Collecting boto3\n",
      "  Using cached boto3-1.14.16-py2.py3-none-any.whl (128 kB)\n",
      "Requirement already satisfied: urllib3!=1.25.0,!=1.25.1,<1.26,>=1.21.1 in /Users/inventrohyder/anaconda3/lib/python3.7/site-packages (from requests<3.0.0,>=2.13.0->spacy==2.1.3->-r requirements.txt (line 4)) (1.24.2)\n",
      "Requirement already satisfied: certifi>=2017.4.17 in /Users/inventrohyder/anaconda3/lib/python3.7/site-packages (from requests<3.0.0,>=2.13.0->spacy==2.1.3->-r requirements.txt (line 4)) (2019.9.11)\n",
      "Requirement already satisfied: chardet<3.1.0,>=3.0.2 in /Users/inventrohyder/anaconda3/lib/python3.7/site-packages (from requests<3.0.0,>=2.13.0->spacy==2.1.3->-r requirements.txt (line 4)) (3.0.4)\n",
      "Requirement already satisfied: idna<2.9,>=2.5 in /Users/inventrohyder/anaconda3/lib/python3.7/site-packages (from requests<3.0.0,>=2.13.0->spacy==2.1.3->-r requirements.txt (line 4)) (2.8)\n",
      "Requirement already satisfied: tqdm<5.0.0,>=4.10.0 in /Users/inventrohyder/anaconda3/lib/python3.7/site-packages (from thinc<7.1.0,>=7.0.2->spacy==2.1.3->-r requirements.txt (line 4)) (4.36.1)\n",
      "Collecting botocore<1.18.0,>=1.17.16\n",
      "  Using cached botocore-1.17.16-py2.py3-none-any.whl (6.3 MB)\n",
      "Collecting s3transfer<0.4.0,>=0.3.0\n",
      "  Using cached s3transfer-0.3.3-py2.py3-none-any.whl (69 kB)\n",
      "Collecting jmespath<1.0.0,>=0.7.1\n",
      "  Using cached jmespath-0.10.0-py2.py3-none-any.whl (24 kB)\n",
      "Requirement already satisfied: docutils<0.16,>=0.10 in /Users/inventrohyder/anaconda3/lib/python3.7/site-packages (from botocore<1.18.0,>=1.17.16->boto3->smart-open>=1.7.0->gensim==3.7.1->-r requirements.txt (line 1)) (0.15.2)\n",
      "Building wheels for collected packages: PyYAML, smart-open, wasabi\n",
      "  Building wheel for PyYAML (setup.py) ... \u001b[?25ldone\n",
      "\u001b[?25h  Created wheel for PyYAML: filename=PyYAML-5.1-cp37-cp37m-macosx_10_9_x86_64.whl size=151539 sha256=5e631ef62544345f5a214b317c1fdc4fabc9e5d2a21e05a4d96f2dd75bd8e75e\n",
      "  Stored in directory: /Users/inventrohyder/Library/Caches/pip/wheels/77/f5/10/d00a2bd30928b972790053b5de0c703ca87324f3fead0f2fd9\n",
      "  Building wheel for smart-open (setup.py) ... \u001b[?25ldone\n",
      "\u001b[?25h  Created wheel for smart-open: filename=smart_open-2.1.0-py3-none-any.whl size=110316 sha256=21a9b801125b6872e5744b84ad16d0c125422333e8a342b65febb01b4d27d453\n",
      "  Stored in directory: /Users/inventrohyder/Library/Caches/pip/wheels/56/b5/6d/86dbe4f29d4688e5163a8b8c6b740494310040286fca4dc648\n",
      "  Building wheel for wasabi (setup.py) ... \u001b[?25ldone\n",
      "\u001b[?25h  Created wheel for wasabi: filename=wasabi-0.7.0-py3-none-any.whl size=20831 sha256=a53e8e818e41acec08067629fc261586bb851b34b2a1b057099df679db2c266b\n",
      "  Stored in directory: /Users/inventrohyder/Library/Caches/pip/wheels/68/38/40/b82a00fbe88220b7fd467c29a0018357066e14466151189e5a\n",
      "Successfully built PyYAML smart-open wasabi\n",
      "\u001b[31mERROR: jupyterlab-server 1.0.0 has requirement jsonschema>=3.0.1, but you'll have jsonschema 2.6.0 which is incompatible.\u001b[0m\n",
      "\u001b[31mERROR: distributed 1.26.0 has requirement tornado>=5, but you'll have tornado 4.5.3 which is incompatible.\u001b[0m\n",
      "Installing collected packages: jmespath, botocore, s3transfer, boto3, smart-open, gensim, pandas, pycryptodome, pdfminer.six, plac, blis, srsly, jsonschema, cymem, preshed, murmurhash, wasabi, thinc, spacy, PyYAML\n",
      "  Attempting uninstall: pandas\n",
      "    Found existing installation: pandas 0.25.1\n",
      "    Uninstalling pandas-0.25.1:\n",
      "      Successfully uninstalled pandas-0.25.1\n",
      "  Attempting uninstall: jsonschema\n",
      "    Found existing installation: jsonschema 3.0.0a3\n",
      "    Uninstalling jsonschema-3.0.0a3:\n",
      "      Successfully uninstalled jsonschema-3.0.0a3\n",
      "  Attempting uninstall: PyYAML\n",
      "    Found existing installation: PyYAML 5.1.2\n",
      "\u001b[31mERROR: Cannot uninstall 'PyYAML'. It is a distutils installed project and thus we cannot accurately determine which files belong to it which would lead to only a partial uninstall.\u001b[0m\n"
     ]
    }
   ],
   "source": [
    "!pip install -r requirements.txt"
   ]
  },
  {
   "cell_type": "code",
   "execution_count": null,
   "metadata": {},
   "outputs": [],
   "source": [
    " "
   ]
  }
 ],
 "metadata": {
  "kernelspec": {
   "display_name": "Python 3",
   "language": "python",
   "name": "python3"
  },
  "language_info": {
   "codemirror_mode": {
    "name": "ipython",
    "version": 3
   },
   "file_extension": ".py",
   "mimetype": "text/x-python",
   "name": "python",
   "nbconvert_exporter": "python",
   "pygments_lexer": "ipython3",
   "version": "3.7.3"
  },
  "varInspector": {
   "cols": {
    "lenName": 16,
    "lenType": 16,
    "lenVar": 40
   },
   "kernels_config": {
    "python": {
     "delete_cmd_postfix": "",
     "delete_cmd_prefix": "del ",
     "library": "var_list.py",
     "varRefreshCmd": "print(var_dic_list())"
    },
    "r": {
     "delete_cmd_postfix": ") ",
     "delete_cmd_prefix": "rm(",
     "library": "var_list.r",
     "varRefreshCmd": "cat(var_dic_list()) "
    }
   },
   "types_to_exclude": [
    "module",
    "function",
    "builtin_function_or_method",
    "instance",
    "_Feature"
   ],
   "window_display": false
  }
 },
 "nbformat": 4,
 "nbformat_minor": 2
}
